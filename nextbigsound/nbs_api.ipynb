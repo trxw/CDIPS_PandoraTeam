{
 "cells": [
  {
   "cell_type": "markdown",
   "metadata": {},
   "source": [
    "Format of JSON Responses\n",
    "JSON responses are specific to the API call and are as lightweight as possible. If the JSON object includes a list of objects, such as artists, then the key will be the ID for that object (for example, the artist-id).\n",
    "Also, note that timestamps in the JSON responses are day counts since the Unix epoch. To translate these to standard Unix timestamps in seconds, multiply the day count by 86,400.\n",
    "(replace 'xml' with 'json' in \n",
    "\n",
    "View\n",
    "Retrieve the name and MusicBrainzId for an artist, given an NBS Artist ID.\n",
    "http://key.api3.nextbigsound.com/artists/view/ARTIST-ID.xml JSON\n",
    "Search\n",
    "Search the NBS artist database for an artist.\n",
    "http://key.api3.nextbigsound.com/artists/search.xml?q=QUERYJSON\n",
    "Add requires a private key\n",
    "Add an artist to the NBS database.\n",
    "http://key.api3.nextbigsound.com/artists/add.xml JSON\n",
    "This call requires the following POST variables\n",
    "key: your private key\n",
    "name: name of the artist\n",
    "profiles: an array of profile urls. At least one is required to successfully add the artist\n",
    "GENRES\n",
    "Artist\n",
    "Retrieve the genres for an NBS artist.\n",
    "http://key.api3.nextbigsound.com/genres/artist/ARTIST-ID.xml JSON\n",
    "METRICS\n",
    "The following is a list of the variables that can optionally be POST-ed to the url endpoint.\n",
    "data[start]: a unix timestamp or a text-based date [see php.net/strtotime for details]\n",
    "data[end]: a unix timestamp or a text-based date\n",
    "data[metric]: all, plays, fans, views, comments, downloads, likes, price\n",
    "Visit our API testing tool for more information on the two metric feeds. This tool will provide insight on how to specify a timespan and metric type.\n",
    "Profile\n",
    "Retrieve social media data for a NBS profile such as a MySpace or Facebook page.\n",
    "http://key.api3.nextbigsound.com/metrics/profile/PROFILE-ID.xml JSON\n",
    "Artist\n",
    "Retrieve social media data for a NBS artist, across social media sites.\n",
    "http://key.api3.nextbigsound.com/metrics/artist/ARTIST-ID.xml JSON\n",
    "PROFILES\n",
    "Artist\n",
    "Retrieve the social media profiles for an NBS artist.\n",
    "http://key.api3.nextbigsound.com/profiles/artist/ARTIST-ID.xml JSON\n",
    "Search\n",
    "Search our social media profile database for a given social media url. Artists associated to that url are returned.\n",
    "http://key.api3.nextbigsound.com/profiles/search.xml?u=URL JSON\n",
    "Add requires a private key\n",
    "Add a social media profile to an NBS artist.\n",
    "http://key.api3.nextbigsound.com/profiles/add/ARTIST-ID.xml JSON\n",
    "This call requires the following POST variables\n",
    "key: your private key\n",
    "profiles: an array of profile urls.\n",
    "SERVICES\n",
    "List\n",
    "Retrieve all the social media sites that we support.\n",
    "http://key.api3.nextbigsound.com/services.xml JSON\n"
   ]
  },
  {
   "cell_type": "code",
   "execution_count": 1,
   "metadata": {
    "collapsed": true
   },
   "outputs": [],
   "source": [
    "import anyjson as json\n",
    "import requests\n",
    "from bs4 import BeautifulSoup\n",
    "#import scalpyr\n",
    "import urllib\n",
    "from json import load \n",
    "import pandas as pd\n",
    "#from pandas import DataFrame\n",
    "import numpy as np\n",
    "import codecs\n",
    "#from urllib import request\n",
    "from urllib2 import urlopen # python 2.7 version\n",
    "#import urlopen\n",
    "from json import load\n",
    "#import sqlite3\n",
    "#import csv\n",
    "#import codecs\n",
    "#import cStringIO\n",
    "#import sys\n",
    "import hashlib"
   ]
  },
  {
   "cell_type": "code",
   "execution_count": 2,
   "metadata": {
    "collapsed": true
   },
   "outputs": [],
   "source": [
    "# nbs api python wrapper\n",
    "from nbs_api import API\n",
    "import json\n",
    "\n",
    "api = API(\"nbsmobile\")\n",
    "#api = API(\"swahl\")"
   ]
  },
  {
   "cell_type": "code",
   "execution_count": 61,
   "metadata": {
    "collapsed": false
   },
   "outputs": [
    {
     "name": "stdout",
     "output_type": "stream",
     "text": [
      "{u'797': {u'name': u'Radiohead', u'music_brainz_id': u'a74b1b7f-71a5-4011-9441-d0b5e4122711'}}\n"
     ]
    }
   ],
   "source": [
    "# search artist\n",
    "resp = json.loads(api.artistSearch(\"Radiohead\"))\n",
    "#print resp\n",
    "filtresp = {key:resp[key] for key in resp.keys() if (resp[key]['music_brainz_id'] is not None) }\n",
    "print filtresp"
   ]
  },
  {
   "cell_type": "code",
   "execution_count": 62,
   "metadata": {
    "collapsed": false
   },
   "outputs": [
    {
     "name": "stdout",
     "output_type": "stream",
     "text": [
      "name:\t\tRadiohead\n",
      "sort name:\tRadiohead\n"
     ]
    }
   ],
   "source": [
    "# basic musicbrainz search \n",
    "import musicbrainzngs\n",
    "import sys\n",
    "\n",
    "musicbrainzngs.set_useragent(\n",
    "    \"cdips-music-data-project\",\n",
    "    \"0.1\",\n",
    "    'https://github.com/trxw/CDIPS_PandoraTeam',\n",
    ")\n",
    "\n",
    "artist_id = filtresp['797']['music_brainz_id']\n",
    "try:\n",
    "    result = musicbrainzngs.get_artist_by_id(artist_id)\n",
    "except WebServiceError as exc:\n",
    "    print(\"Something went wrong with the request: %s\" % exc)\n",
    "else:\n",
    "    artist = result[\"artist\"]\n",
    "    print(\"name:\\t\\t%s\" % artist[\"name\"])\n",
    "    print(\"sort name:\\t%s\" % artist[\"sort-name\"])"
   ]
  },
  {
   "cell_type": "code",
   "execution_count": 3,
   "metadata": {
    "collapsed": false
   },
   "outputs": [
    {
     "data": {
      "text/plain": [
       "{u'1': u'MySpace',\n",
       " u'10': u'SoundCloud',\n",
       " u'11': u'Purevolume',\n",
       " u'16': u'Vimeo',\n",
       " u'17': u'Wikipedia',\n",
       " u'2': u'Last.fm',\n",
       " u'25': u'Vevo',\n",
       " u'33': u'Rdio',\n",
       " u'4': u'Facebook',\n",
       " u'45': u'Bandcamp',\n",
       " u'5': u'Twitter',\n",
       " u'52': u'Instagram',\n",
       " u'64': u'Tumblr',\n",
       " u'66': u'Goodreads (Author)',\n",
       " u'68': u'Goodreads (Work)',\n",
       " u'7': u'YouTube',\n",
       " u'70': u'NBS Score',\n",
       " u'77': u'Vine',\n",
       " u'8': u'ReverbNation',\n",
       " u'85': u'GooglePlus'}"
      ]
     },
     "execution_count": 3,
     "metadata": {},
     "output_type": "execute_result"
    }
   ],
   "source": [
    "# services summary\n",
    "resp = json.loads(api.servicesList())\n",
    "resp\n",
    "{key:resp[key]['human'] for key in resp.keys()}"
   ]
  },
  {
   "cell_type": "code",
   "execution_count": 5,
   "metadata": {
    "collapsed": false
   },
   "outputs": [
    {
     "name": "stdout",
     "output_type": "stream",
     "text": [
      "281\n"
     ]
    },
    {
     "data": {
      "text/html": [
       "<div style=\"max-height:1000px;max-width:1500px;overflow:auto;\">\n",
       "<table border=\"1\" class=\"dataframe\">\n",
       "  <thead>\n",
       "    <tr style=\"text-align: right;\">\n",
       "      <th></th>\n",
       "      <th>Unnamed: 0</th>\n",
       "      <th>artist_name</th>\n",
       "    </tr>\n",
       "  </thead>\n",
       "  <tbody>\n",
       "    <tr>\n",
       "      <th>0</th>\n",
       "      <td> 0</td>\n",
       "      <td> Scotty McCreery</td>\n",
       "    </tr>\n",
       "    <tr>\n",
       "      <th>1</th>\n",
       "      <td> 1</td>\n",
       "      <td>          B.o.B </td>\n",
       "    </tr>\n",
       "    <tr>\n",
       "      <th>2</th>\n",
       "      <td> 2</td>\n",
       "      <td>     OneRepublic</td>\n",
       "    </tr>\n",
       "    <tr>\n",
       "      <th>3</th>\n",
       "      <td> 3</td>\n",
       "      <td>       Passenger</td>\n",
       "    </tr>\n",
       "    <tr>\n",
       "      <th>4</th>\n",
       "      <td> 4</td>\n",
       "      <td>        Bastille</td>\n",
       "    </tr>\n",
       "  </tbody>\n",
       "</table>\n",
       "</div>"
      ],
      "text/plain": [
       "   Unnamed: 0      artist_name\n",
       "0           0  Scotty McCreery\n",
       "1           1           B.o.B \n",
       "2           2      OneRepublic\n",
       "3           3        Passenger\n",
       "4           4         Bastille"
      ]
     },
     "execution_count": 5,
     "metadata": {},
     "output_type": "execute_result"
    }
   ],
   "source": [
    "# use artists from\n",
    "artist_names = pd.DataFrame.from_csv('../billboard/billboard_artist_names_2014_15.csv',index_col=False)\n",
    "print len(artist_names)\n",
    "artist_names.head()\n"
   ]
  },
  {
   "cell_type": "code",
   "execution_count": 6,
   "metadata": {
    "collapsed": false
   },
   "outputs": [
    {
     "ename": "IOError",
     "evalue": "('http protocol error', 0, 'got a bad status line', None)",
     "output_type": "error",
     "traceback": [
      "\u001b[0;31m---------------------------------------------------------------------------\u001b[0m",
      "\u001b[0;31mIOError\u001b[0m                                   Traceback (most recent call last)",
      "\u001b[0;32m<ipython-input-6-b963994f51ce>\u001b[0m in \u001b[0;36m<module>\u001b[0;34m()\u001b[0m\n\u001b[1;32m     15\u001b[0m \u001b[0;34m\u001b[0m\u001b[0m\n\u001b[1;32m     16\u001b[0m \u001b[0;31m# services summary\u001b[0m\u001b[0;34m\u001b[0m\u001b[0;34m\u001b[0m\u001b[0m\n\u001b[0;32m---> 17\u001b[0;31m \u001b[0mresp\u001b[0m \u001b[0;34m=\u001b[0m \u001b[0mjson\u001b[0m\u001b[0;34m.\u001b[0m\u001b[0mloads\u001b[0m\u001b[0;34m(\u001b[0m\u001b[0mapi\u001b[0m\u001b[0;34m.\u001b[0m\u001b[0mservicesList\u001b[0m\u001b[0;34m(\u001b[0m\u001b[0;34m)\u001b[0m\u001b[0;34m)\u001b[0m\u001b[0;34m\u001b[0m\u001b[0m\n\u001b[0m\u001b[1;32m     18\u001b[0m \u001b[0mnbs_services\u001b[0m \u001b[0;34m=\u001b[0m \u001b[0;34m{\u001b[0m\u001b[0mkey\u001b[0m\u001b[0;34m:\u001b[0m\u001b[0mresp\u001b[0m\u001b[0;34m[\u001b[0m\u001b[0mkey\u001b[0m\u001b[0;34m]\u001b[0m\u001b[0;34m[\u001b[0m\u001b[0;34m'human'\u001b[0m\u001b[0;34m]\u001b[0m \u001b[0;32mfor\u001b[0m \u001b[0mkey\u001b[0m \u001b[0;32min\u001b[0m \u001b[0mresp\u001b[0m\u001b[0;34m.\u001b[0m\u001b[0mkeys\u001b[0m\u001b[0;34m(\u001b[0m\u001b[0;34m)\u001b[0m\u001b[0;34m}\u001b[0m\u001b[0;34m\u001b[0m\u001b[0m\n\u001b[1;32m     19\u001b[0m \u001b[0;34m\u001b[0m\u001b[0m\n",
      "\u001b[0;32m/Users/swahl/code/cdips/nextbigsound/nbs_api.pyc\u001b[0m in \u001b[0;36mservicesList\u001b[0;34m(self)\u001b[0m\n\u001b[1;32m     70\u001b[0m \u001b[0;34m\u001b[0m\u001b[0m\n\u001b[1;32m     71\u001b[0m   \u001b[0;32mdef\u001b[0m \u001b[0mservicesList\u001b[0m\u001b[0;34m(\u001b[0m\u001b[0mself\u001b[0m\u001b[0;34m)\u001b[0m\u001b[0;34m:\u001b[0m\u001b[0;34m\u001b[0m\u001b[0m\n\u001b[0;32m---> 72\u001b[0;31m     \u001b[0;32mreturn\u001b[0m \u001b[0mself\u001b[0m\u001b[0;34m.\u001b[0m\u001b[0mservices\u001b[0m\u001b[0;34m(\u001b[0m\u001b[0;34m)\u001b[0m\u001b[0;34m.\u001b[0m\u001b[0mlist\u001b[0m\u001b[0;34m(\u001b[0m\u001b[0;34m)\u001b[0m\u001b[0;34m\u001b[0m\u001b[0m\n\u001b[0m\u001b[1;32m     73\u001b[0m \u001b[0;34m\u001b[0m\u001b[0m\n",
      "\u001b[0;32m/Users/swahl/code/cdips/nextbigsound/lib/services.pyc\u001b[0m in \u001b[0;36mlist\u001b[0;34m(self)\u001b[0m\n\u001b[1;32m      4\u001b[0m \u001b[0;34m\u001b[0m\u001b[0m\n\u001b[1;32m      5\u001b[0m   \u001b[0;32mdef\u001b[0m \u001b[0mlist\u001b[0m\u001b[0;34m(\u001b[0m\u001b[0mself\u001b[0m\u001b[0;34m)\u001b[0m\u001b[0;34m:\u001b[0m\u001b[0;34m\u001b[0m\u001b[0m\n\u001b[0;32m----> 6\u001b[0;31m     \u001b[0;32mreturn\u001b[0m \u001b[0mself\u001b[0m\u001b[0;34m.\u001b[0m\u001b[0mget\u001b[0m\u001b[0;34m(\u001b[0m\u001b[0mself\u001b[0m\u001b[0;34m.\u001b[0m\u001b[0mgenUrl\u001b[0m\u001b[0;34m(\u001b[0m \u001b[0;34m)\u001b[0m\u001b[0;34m[\u001b[0m\u001b[0;34m:\u001b[0m\u001b[0;34m-\u001b[0m\u001b[0;36m5\u001b[0m\u001b[0;34m]\u001b[0m\u001b[0;34m,\u001b[0m \u001b[0;34m\"\"\u001b[0m\u001b[0;34m)\u001b[0m\u001b[0;34m\u001b[0m\u001b[0m\n\u001b[0m",
      "\u001b[0;32m/Users/swahl/code/cdips/nextbigsound/lib/resource.pyc\u001b[0m in \u001b[0;36mget\u001b[0;34m(self, url, params)\u001b[0m\n\u001b[1;32m     19\u001b[0m     \u001b[0murl\u001b[0m \u001b[0;34m=\u001b[0m \u001b[0murl\u001b[0m \u001b[0;34m+\u001b[0m \u001b[0mself\u001b[0m\u001b[0;34m.\u001b[0m\u001b[0mext\u001b[0m \u001b[0;34m+\u001b[0m \u001b[0mq\u001b[0m \u001b[0;34m+\u001b[0m \u001b[0mrest\u001b[0m\u001b[0;34m.\u001b[0m\u001b[0murlencode\u001b[0m\u001b[0;34m(\u001b[0m\u001b[0mparams\u001b[0m\u001b[0;34m)\u001b[0m\u001b[0;34m\u001b[0m\u001b[0m\n\u001b[1;32m     20\u001b[0m     \u001b[0;31m#print repr(rest.urlopen(url).geturl( ))\u001b[0m\u001b[0;34m\u001b[0m\u001b[0;34m\u001b[0m\u001b[0m\n\u001b[0;32m---> 21\u001b[0;31m     \u001b[0;32mreturn\u001b[0m \u001b[0mrest\u001b[0m\u001b[0;34m.\u001b[0m\u001b[0murlopen\u001b[0m\u001b[0;34m(\u001b[0m\u001b[0murl\u001b[0m\u001b[0;34m)\u001b[0m\u001b[0;34m.\u001b[0m\u001b[0mread\u001b[0m\u001b[0;34m(\u001b[0m\u001b[0;34m)\u001b[0m\u001b[0;34m\u001b[0m\u001b[0m\n\u001b[0m\u001b[1;32m     22\u001b[0m \u001b[0;34m\u001b[0m\u001b[0m\n\u001b[1;32m     23\u001b[0m   \u001b[0;31m# HTTP POST\u001b[0m\u001b[0;34m\u001b[0m\u001b[0;34m\u001b[0m\u001b[0m\n",
      "\u001b[0;32m/Users/swahl/anaconda/lib/python2.7/urllib.pyc\u001b[0m in \u001b[0;36murlopen\u001b[0;34m(url, data, proxies, context)\u001b[0m\n\u001b[1;32m     85\u001b[0m         \u001b[0mopener\u001b[0m \u001b[0;34m=\u001b[0m \u001b[0m_urlopener\u001b[0m\u001b[0;34m\u001b[0m\u001b[0m\n\u001b[1;32m     86\u001b[0m     \u001b[0;32mif\u001b[0m \u001b[0mdata\u001b[0m \u001b[0;32mis\u001b[0m \u001b[0mNone\u001b[0m\u001b[0;34m:\u001b[0m\u001b[0;34m\u001b[0m\u001b[0m\n\u001b[0;32m---> 87\u001b[0;31m         \u001b[0;32mreturn\u001b[0m \u001b[0mopener\u001b[0m\u001b[0;34m.\u001b[0m\u001b[0mopen\u001b[0m\u001b[0;34m(\u001b[0m\u001b[0murl\u001b[0m\u001b[0;34m)\u001b[0m\u001b[0;34m\u001b[0m\u001b[0m\n\u001b[0m\u001b[1;32m     88\u001b[0m     \u001b[0;32melse\u001b[0m\u001b[0;34m:\u001b[0m\u001b[0;34m\u001b[0m\u001b[0m\n\u001b[1;32m     89\u001b[0m         \u001b[0;32mreturn\u001b[0m \u001b[0mopener\u001b[0m\u001b[0;34m.\u001b[0m\u001b[0mopen\u001b[0m\u001b[0;34m(\u001b[0m\u001b[0murl\u001b[0m\u001b[0;34m,\u001b[0m \u001b[0mdata\u001b[0m\u001b[0;34m)\u001b[0m\u001b[0;34m\u001b[0m\u001b[0m\n",
      "\u001b[0;32m/Users/swahl/anaconda/lib/python2.7/urllib.pyc\u001b[0m in \u001b[0;36mopen\u001b[0;34m(self, fullurl, data)\u001b[0m\n\u001b[1;32m    211\u001b[0m         \u001b[0;32mtry\u001b[0m\u001b[0;34m:\u001b[0m\u001b[0;34m\u001b[0m\u001b[0m\n\u001b[1;32m    212\u001b[0m             \u001b[0;32mif\u001b[0m \u001b[0mdata\u001b[0m \u001b[0;32mis\u001b[0m \u001b[0mNone\u001b[0m\u001b[0;34m:\u001b[0m\u001b[0;34m\u001b[0m\u001b[0m\n\u001b[0;32m--> 213\u001b[0;31m                 \u001b[0;32mreturn\u001b[0m \u001b[0mgetattr\u001b[0m\u001b[0;34m(\u001b[0m\u001b[0mself\u001b[0m\u001b[0;34m,\u001b[0m \u001b[0mname\u001b[0m\u001b[0;34m)\u001b[0m\u001b[0;34m(\u001b[0m\u001b[0murl\u001b[0m\u001b[0;34m)\u001b[0m\u001b[0;34m\u001b[0m\u001b[0m\n\u001b[0m\u001b[1;32m    214\u001b[0m             \u001b[0;32melse\u001b[0m\u001b[0;34m:\u001b[0m\u001b[0;34m\u001b[0m\u001b[0m\n\u001b[1;32m    215\u001b[0m                 \u001b[0;32mreturn\u001b[0m \u001b[0mgetattr\u001b[0m\u001b[0;34m(\u001b[0m\u001b[0mself\u001b[0m\u001b[0;34m,\u001b[0m \u001b[0mname\u001b[0m\u001b[0;34m)\u001b[0m\u001b[0;34m(\u001b[0m\u001b[0murl\u001b[0m\u001b[0;34m,\u001b[0m \u001b[0mdata\u001b[0m\u001b[0;34m)\u001b[0m\u001b[0;34m\u001b[0m\u001b[0m\n",
      "\u001b[0;32m/Users/swahl/anaconda/lib/python2.7/urllib.pyc\u001b[0m in \u001b[0;36mopen_http\u001b[0;34m(self, url, data)\u001b[0m\n\u001b[1;32m    355\u001b[0m             \u001b[0;31m# something went wrong with the HTTP status line\u001b[0m\u001b[0;34m\u001b[0m\u001b[0;34m\u001b[0m\u001b[0m\n\u001b[1;32m    356\u001b[0m             raise IOError, ('http protocol error', 0,\n\u001b[0;32m--> 357\u001b[0;31m                             'got a bad status line', None)\n\u001b[0m\u001b[1;32m    358\u001b[0m         \u001b[0;31m# According to RFC 2616, \"2xx\" code indicates that the client's\u001b[0m\u001b[0;34m\u001b[0m\u001b[0;34m\u001b[0m\u001b[0m\n\u001b[1;32m    359\u001b[0m         \u001b[0;31m# request was successfully received, understood, and accepted.\u001b[0m\u001b[0;34m\u001b[0m\u001b[0;34m\u001b[0m\u001b[0m\n",
      "\u001b[0;31mIOError\u001b[0m: ('http protocol error', 0, 'got a bad status line', None)"
     ]
    }
   ],
   "source": [
    "# combined nbs + musicbrainz aritist table\n",
    "from nbs_api import API\n",
    "import musicbrainzngs\n",
    "import sys\n",
    "api = API(\"nbsmobile\")\n",
    "\n",
    "#queries = ['Kanye West','Lady Gaga','Taylor Swift']\n",
    "queries = artist_names.artist_name.unique()\n",
    "\n",
    "musicbrainzngs.set_useragent(\n",
    "    \"cdips-music-data-project\",\n",
    "    \"0.1\",\n",
    "    'https://github.com/trxw/CDIPS_PandoraTeam',\n",
    ")\n",
    "\n",
    "# services summary\n",
    "resp = json.loads(api.servicesList())\n",
    "nbs_services = {key:resp[key]['human'] for key in resp.keys()}\n",
    "\n",
    "# dataframe\n",
    "artists = pd.DataFrame()\n",
    "\n",
    "for query in queries:\n",
    "    # search artist\n",
    "    try:\n",
    "        resp = json.loads(api.artistSearch(query))\n",
    "        #print resp\n",
    "        filtresp = {key:resp[key] for key in resp.keys() if (resp[key]['music_brainz_id'] is not None) }\n",
    "        print filtresp\n",
    "        \n",
    "        for key in filtresp.keys():\n",
    "            nbs_id = key\n",
    "            mbz_id = filtresp[key]['music_brainz_id']\n",
    "            nbs_name = filtresp[key]['name']\n",
    "\n",
    "            try:\n",
    "                result = musicbrainzngs.get_artist_by_id(mbz_id)\n",
    "            except WebServiceError as exc:\n",
    "                print(\"Something went wrong with the request: %s\" % exc)\n",
    "            else:\n",
    "                mbz_name = ''; mbz_name=''; country='';begin_area=''\n",
    "                life_span_begin='';mbz_type='';isni_list=''\n",
    "                try: \n",
    "                    mbz_name = result['artist']['name']\n",
    "                except:\n",
    "                    pass\n",
    "                try:\n",
    "                    area = result['artist']['area']['name']\n",
    "                except:\n",
    "                    pass\n",
    "                try:\n",
    "                    country = result['artist']['country']\n",
    "                except:\n",
    "                    pass                    \n",
    "                try:\n",
    "                    begin_area = result['artist']['begin-area']['name']\n",
    "                except:\n",
    "                    pass                    \n",
    "                try:\n",
    "                    life_span_begin = result['artist']['life-span']['begin']\n",
    "                except:\n",
    "                    pass                    \n",
    "                try:\n",
    "                    mbz_type = result['artist']['type']\n",
    "                except:\n",
    "                    pass                    \n",
    "                try:\n",
    "                    isni_list = result['artist']['isni-list'][0]\n",
    "                except:\n",
    "                    pass  \n",
    "                \n",
    "            # genres\n",
    "            genres = json.loads(api.genresArtist(nbs_id))\n",
    "\n",
    "            gencols = []\n",
    "            genlist = []\n",
    "            for i in (np.arange(5)+1):\n",
    "                gencols += ['genre'+str(i)]\n",
    "                try:\n",
    "                    genlist += [genres.pop()['name']]\n",
    "                except:\n",
    "                    genlist += ['']\n",
    "\n",
    "            acols = ['id','name','music_brainz_id','music_brainz_name',\n",
    "                    'area','country','begin_area','life_span_begin',\n",
    "                    'music_brainz_type','isni_list']+gencols\n",
    "            art = pd.DataFrame([[nbs_id,nbs_name,mbz_id,mbz_name,\n",
    "                                area,country,begin_area,life_span_begin,\n",
    "                               mbz_type,isni_list]+genlist],columns=acols,index=[nbs_id])\n",
    "            artists = artists.append(art)\n",
    "                \n",
    "    except:\n",
    "        print \"Error for query:\", query\n",
    "\n",
    "artists.head()"
   ]
  },
  {
   "cell_type": "code",
   "execution_count": 37,
   "metadata": {
    "collapsed": false
   },
   "outputs": [
    {
     "name": "stdout",
     "output_type": "stream",
     "text": [
      "101\n"
     ]
    },
    {
     "data": {
      "text/html": [
       "<div style=\"max-height:1000px;max-width:1500px;overflow:auto;\">\n",
       "<table border=\"1\" class=\"dataframe\">\n",
       "  <thead>\n",
       "    <tr style=\"text-align: right;\">\n",
       "      <th></th>\n",
       "      <th>name</th>\n",
       "      <th>music_brainz_id</th>\n",
       "      <th>music_brainz_name</th>\n",
       "      <th>area</th>\n",
       "      <th>country</th>\n",
       "      <th>begin_area</th>\n",
       "      <th>life_span_begin</th>\n",
       "      <th>music_brainz_type</th>\n",
       "      <th>isni_list</th>\n",
       "      <th>genre1</th>\n",
       "      <th>genre2</th>\n",
       "      <th>genre3</th>\n",
       "      <th>genre4</th>\n",
       "      <th>genre5</th>\n",
       "    </tr>\n",
       "    <tr>\n",
       "      <th>id</th>\n",
       "      <th></th>\n",
       "      <th></th>\n",
       "      <th></th>\n",
       "      <th></th>\n",
       "      <th></th>\n",
       "      <th></th>\n",
       "      <th></th>\n",
       "      <th></th>\n",
       "      <th></th>\n",
       "      <th></th>\n",
       "      <th></th>\n",
       "      <th></th>\n",
       "      <th></th>\n",
       "      <th></th>\n",
       "    </tr>\n",
       "  </thead>\n",
       "  <tbody>\n",
       "    <tr>\n",
       "      <th>425755</th>\n",
       "      <td>         Milky Chance</td>\n",
       "      <td> 6d230d98-fb8d-4421-a6e8-daca4e55d53e</td>\n",
       "      <td>         Milky Chance</td>\n",
       "      <td>       Germany</td>\n",
       "      <td> DE</td>\n",
       "      <td>    Kassel</td>\n",
       "      <td>       2012</td>\n",
       "      <td>  Group</td>\n",
       "      <td>                 </td>\n",
       "      <td>     </td>\n",
       "      <td>    </td>\n",
       "      <td> </td>\n",
       "      <td> </td>\n",
       "      <td> </td>\n",
       "    </tr>\n",
       "    <tr>\n",
       "      <th>87    </th>\n",
       "      <td>         Fall Out Boy</td>\n",
       "      <td> 516cef4d-0718-4007-9939-f9b38af3f784</td>\n",
       "      <td>         Fall Out Boy</td>\n",
       "      <td> United States</td>\n",
       "      <td> US</td>\n",
       "      <td>  Wilmette</td>\n",
       "      <td>       2001</td>\n",
       "      <td>  Group</td>\n",
       "      <td> 0000000095682593</td>\n",
       "      <td> Rock</td>\n",
       "      <td>    </td>\n",
       "      <td> </td>\n",
       "      <td> </td>\n",
       "      <td> </td>\n",
       "    </tr>\n",
       "    <tr>\n",
       "      <th>300627</th>\n",
       "      <td>           Nick Jonas</td>\n",
       "      <td> d7baf435-0df0-4227-9b8f-aa1d8681988b</td>\n",
       "      <td>           Nick Jonas</td>\n",
       "      <td> United States</td>\n",
       "      <td> US</td>\n",
       "      <td>    Dallas</td>\n",
       "      <td> 1992-09-16</td>\n",
       "      <td> Person</td>\n",
       "      <td>                 </td>\n",
       "      <td>   RB</td>\n",
       "      <td> Pop</td>\n",
       "      <td> </td>\n",
       "      <td> </td>\n",
       "      <td> </td>\n",
       "    </tr>\n",
       "    <tr>\n",
       "      <th>335488</th>\n",
       "      <td> Florida Georgia Line</td>\n",
       "      <td> c16817df-0160-490d-a437-c128cbca9218</td>\n",
       "      <td> Florida Georgia Line</td>\n",
       "      <td> United States</td>\n",
       "      <td>   </td>\n",
       "      <td>          </td>\n",
       "      <td>           </td>\n",
       "      <td>  Group</td>\n",
       "      <td>                 </td>\n",
       "      <td>     </td>\n",
       "      <td>    </td>\n",
       "      <td> </td>\n",
       "      <td> </td>\n",
       "      <td> </td>\n",
       "    </tr>\n",
       "    <tr>\n",
       "      <th>327172</th>\n",
       "      <td>               Alesso</td>\n",
       "      <td> addb00fd-733c-4223-8fdf-f78be2488acd</td>\n",
       "      <td>               Alesso</td>\n",
       "      <td>        Sweden</td>\n",
       "      <td> SE</td>\n",
       "      <td> Stockholm</td>\n",
       "      <td> 1991-07-07</td>\n",
       "      <td> Person</td>\n",
       "      <td>                 </td>\n",
       "      <td>     </td>\n",
       "      <td>    </td>\n",
       "      <td> </td>\n",
       "      <td> </td>\n",
       "      <td> </td>\n",
       "    </tr>\n",
       "  </tbody>\n",
       "</table>\n",
       "</div>"
      ],
      "text/plain": [
       "                        name                       music_brainz_id  \\\n",
       "id                                                                   \n",
       "425755          Milky Chance  6d230d98-fb8d-4421-a6e8-daca4e55d53e   \n",
       "87              Fall Out Boy  516cef4d-0718-4007-9939-f9b38af3f784   \n",
       "300627            Nick Jonas  d7baf435-0df0-4227-9b8f-aa1d8681988b   \n",
       "335488  Florida Georgia Line  c16817df-0160-490d-a437-c128cbca9218   \n",
       "327172                Alesso  addb00fd-733c-4223-8fdf-f78be2488acd   \n",
       "\n",
       "           music_brainz_name           area country begin_area  \\\n",
       "id                                                               \n",
       "425755          Milky Chance        Germany      DE     Kassel   \n",
       "87              Fall Out Boy  United States      US   Wilmette   \n",
       "300627            Nick Jonas  United States      US     Dallas   \n",
       "335488  Florida Georgia Line  United States                      \n",
       "327172                Alesso         Sweden      SE  Stockholm   \n",
       "\n",
       "       life_span_begin music_brainz_type         isni_list genre1 genre2  \\\n",
       "id                                                                         \n",
       "425755            2012             Group                                   \n",
       "87                2001             Group  0000000095682593   Rock          \n",
       "300627      1992-09-16            Person                       RB    Pop   \n",
       "335488                             Group                                   \n",
       "327172      1991-07-07            Person                                   \n",
       "\n",
       "       genre3 genre4 genre5  \n",
       "id                           \n",
       "425755                       \n",
       "87                           \n",
       "300627                       \n",
       "335488                       \n",
       "327172                       "
      ]
     },
     "execution_count": 37,
     "metadata": {},
     "output_type": "execute_result"
    }
   ],
   "source": [
    "# save table in csv file\n",
    "#artists.to_csv('artists_from_billboard_2015.csv',index=False,encoding=\"utf-8\")\n",
    "\n",
    "# load table from previous file\n",
    "#artists = pd.DataFrame.from_csv('artists_from_billboard_2015.csv',index_col='id')\n",
    "artists = artists.fillna('')\n",
    "print len(artists)\n",
    "artists.head()"
   ]
  },
  {
   "cell_type": "code",
   "execution_count": 40,
   "metadata": {
    "collapsed": false
   },
   "outputs": [
    {
     "name": "stdout",
     "output_type": "stream",
     "text": [
      "15\n",
      "Reggae 3\n",
      "Latin 2\n",
      "Rap 12\n",
      "Electronica 3\n",
      "Country 26\n",
      "Metal 1\n",
      "Pop 32\n",
      "Punk 1\n",
      "Indie 4\n",
      "HipHop 29\n",
      "Techno 1\n",
      "RB 23\n",
      "Rock 11\n",
      "Alternative 5\n",
      "Folk 6\n"
     ]
    }
   ],
   "source": [
    "# Create a dictionary for \n",
    "genre_group = artists.groupby('genre1').groups\n",
    "\n",
    "for i in (np.arange(4)+2):\n",
    "    col = artists['genre'+str(i)]\n",
    "    for i in range(len(col)):\n",
    "        try:\n",
    "            genre_group[col.iloc[i]].append(col.index[i])\n",
    "        except:\n",
    "            genre_group.update({col.iloc[i]:[col.index[i]]})\n",
    "\n",
    "\n",
    "#genre_group.keys()\n",
    "genre_group.pop('')\n",
    "print len(genre_group)\n",
    "\n",
    "# print genre distribution\n",
    "for key in genre_group.keys():\n",
    "    print key, len(genre_group[key])"
   ]
  },
  {
   "cell_type": "code",
   "execution_count": 43,
   "metadata": {
    "collapsed": false
   },
   "outputs": [
    {
     "name": "stdout",
     "output_type": "stream",
     "text": [
      "[63, 1935, 540, 15534, 23971]\n"
     ]
    },
    {
     "data": {
      "text/html": [
       "<div style=\"max-height:1000px;max-width:1500px;overflow:auto;\">\n",
       "<table border=\"1\" class=\"dataframe\">\n",
       "  <thead>\n",
       "    <tr style=\"text-align: right;\">\n",
       "      <th></th>\n",
       "      <th>name</th>\n",
       "      <th>music_brainz_id</th>\n",
       "      <th>music_brainz_name</th>\n",
       "      <th>area</th>\n",
       "      <th>country</th>\n",
       "      <th>begin_area</th>\n",
       "      <th>life_span_begin</th>\n",
       "      <th>music_brainz_type</th>\n",
       "      <th>isni_list</th>\n",
       "      <th>genre1</th>\n",
       "      <th>genre2</th>\n",
       "      <th>genre3</th>\n",
       "      <th>genre4</th>\n",
       "      <th>genre5</th>\n",
       "    </tr>\n",
       "    <tr>\n",
       "      <th>id</th>\n",
       "      <th></th>\n",
       "      <th></th>\n",
       "      <th></th>\n",
       "      <th></th>\n",
       "      <th></th>\n",
       "      <th></th>\n",
       "      <th></th>\n",
       "      <th></th>\n",
       "      <th></th>\n",
       "      <th></th>\n",
       "      <th></th>\n",
       "      <th></th>\n",
       "      <th></th>\n",
       "      <th></th>\n",
       "    </tr>\n",
       "  </thead>\n",
       "  <tbody>\n",
       "    <tr>\n",
       "      <th>63   </th>\n",
       "      <td>   OneRepublic</td>\n",
       "      <td> c33c2065-b1c3-4406-b066-d33a9e2ea71a</td>\n",
       "      <td>   OneRepublic</td>\n",
       "      <td> United States</td>\n",
       "      <td> US</td>\n",
       "      <td>       Colorado</td>\n",
       "      <td>       2004</td>\n",
       "      <td>  Group</td>\n",
       "      <td>                 </td>\n",
       "      <td> Alternative</td>\n",
       "      <td>         Pop</td>\n",
       "      <td> Rock</td>\n",
       "      <td> </td>\n",
       "      <td> </td>\n",
       "    </tr>\n",
       "    <tr>\n",
       "      <th>15534</th>\n",
       "      <td>   Damien Rice</td>\n",
       "      <td> 2119beb8-6ac5-4f21-82a4-b831c90c0024</td>\n",
       "      <td>   Damien Rice</td>\n",
       "      <td>       Ireland</td>\n",
       "      <td> IE</td>\n",
       "      <td> County Kildare</td>\n",
       "      <td> 1973-12-07</td>\n",
       "      <td> Person</td>\n",
       "      <td> 0000000078484413</td>\n",
       "      <td>        Folk</td>\n",
       "      <td> Alternative</td>\n",
       "      <td>     </td>\n",
       "      <td> </td>\n",
       "      <td> </td>\n",
       "    </tr>\n",
       "    <tr>\n",
       "      <th>23971</th>\n",
       "      <td> Damien Jurado</td>\n",
       "      <td> f4805b9d-68f8-438e-8f13-ec7bcb4c8581</td>\n",
       "      <td> Damien Jurado</td>\n",
       "      <td> United States</td>\n",
       "      <td> US</td>\n",
       "      <td>               </td>\n",
       "      <td>           </td>\n",
       "      <td> Person</td>\n",
       "      <td>                 </td>\n",
       "      <td>       Metal</td>\n",
       "      <td> Alternative</td>\n",
       "      <td>     </td>\n",
       "      <td> </td>\n",
       "      <td> </td>\n",
       "    </tr>\n",
       "    <tr>\n",
       "      <th>1935 </th>\n",
       "      <td>           Sia</td>\n",
       "      <td> 2f548675-008d-4332-876c-108b0c7ab9c5</td>\n",
       "      <td>           Sia</td>\n",
       "      <td>     Australia</td>\n",
       "      <td> AU</td>\n",
       "      <td>       Adelaide</td>\n",
       "      <td> 1975-12-18</td>\n",
       "      <td> Person</td>\n",
       "      <td> 0000000121980931</td>\n",
       "      <td> Alternative</td>\n",
       "      <td>         Pop</td>\n",
       "      <td>     </td>\n",
       "      <td> </td>\n",
       "      <td> </td>\n",
       "    </tr>\n",
       "    <tr>\n",
       "      <th>540  </th>\n",
       "      <td>    Drake Bell</td>\n",
       "      <td> 094f10e7-27d5-400d-a145-331013e67229</td>\n",
       "      <td>    Drake Bell</td>\n",
       "      <td> United States</td>\n",
       "      <td> US</td>\n",
       "      <td>               </td>\n",
       "      <td> 1986-06-27</td>\n",
       "      <td> Person</td>\n",
       "      <td>                 </td>\n",
       "      <td> Alternative</td>\n",
       "      <td>         Pop</td>\n",
       "      <td> Rock</td>\n",
       "      <td> </td>\n",
       "      <td> </td>\n",
       "    </tr>\n",
       "  </tbody>\n",
       "</table>\n",
       "</div>"
      ],
      "text/plain": [
       "                name                       music_brainz_id music_brainz_name  \\\n",
       "id                                                                             \n",
       "63       OneRepublic  c33c2065-b1c3-4406-b066-d33a9e2ea71a       OneRepublic   \n",
       "15534    Damien Rice  2119beb8-6ac5-4f21-82a4-b831c90c0024       Damien Rice   \n",
       "23971  Damien Jurado  f4805b9d-68f8-438e-8f13-ec7bcb4c8581     Damien Jurado   \n",
       "1935             Sia  2f548675-008d-4332-876c-108b0c7ab9c5               Sia   \n",
       "540       Drake Bell  094f10e7-27d5-400d-a145-331013e67229        Drake Bell   \n",
       "\n",
       "                area country      begin_area life_span_begin  \\\n",
       "id                                                             \n",
       "63     United States      US        Colorado            2004   \n",
       "15534        Ireland      IE  County Kildare      1973-12-07   \n",
       "23971  United States      US                                   \n",
       "1935       Australia      AU        Adelaide      1975-12-18   \n",
       "540    United States      US                      1986-06-27   \n",
       "\n",
       "      music_brainz_type         isni_list       genre1       genre2 genre3  \\\n",
       "id                                                                           \n",
       "63                Group                    Alternative          Pop   Rock   \n",
       "15534            Person  0000000078484413         Folk  Alternative          \n",
       "23971            Person                          Metal  Alternative          \n",
       "1935             Person  0000000121980931  Alternative          Pop          \n",
       "540              Person                    Alternative          Pop   Rock   \n",
       "\n",
       "      genre4 genre5  \n",
       "id                   \n",
       "63                   \n",
       "15534                \n",
       "23971                \n",
       "1935                 \n",
       "540                  "
      ]
     },
     "execution_count": 43,
     "metadata": {},
     "output_type": "execute_result"
    }
   ],
   "source": [
    "# Example: make a table of folk artists\n",
    "gen = 'Alternative'\n",
    "print genre_group[gen]\n",
    "folk_artists = artists[artists.index.isin(genre_group[gen])]\n",
    "folk_artists"
   ]
  },
  {
   "cell_type": "code",
   "execution_count": 45,
   "metadata": {
    "collapsed": false
   },
   "outputs": [
    {
     "name": "stdout",
     "output_type": "stream",
     "text": [
      "Rap_artists_from_billboard_2015.csv\n",
      "Country_artists_from_billboard_2015.csv\n",
      "Pop_artists_from_billboard_2015.csv\n",
      "HipHop_artists_from_billboard_2015.csv\n",
      "RB_artists_from_billboard_2015.csv\n",
      "Rock_artists_from_billboard_2015.csv\n",
      "Alternative_artists_from_billboard_2015.csv\n",
      "Folk_artists_from_billboard_2015.csv\n"
     ]
    }
   ],
   "source": [
    "# Generate and print tables by genres.\n",
    "for gen in genre_group.keys():\n",
    "    if len(genre_group[gen]) >= 5:\n",
    "        gen_artists = artists[artists.index.isin(genre_group[gen])]\n",
    "        fname = gen+'_artists_from_billboard_2015.csv'\n",
    "        print fname\n",
    "        gen_artists.to_csv(fname,index_label='id',encoding=\"utf-8\")\n",
    "        "
   ]
  },
  {
   "cell_type": "code",
   "execution_count": 26,
   "metadata": {
    "collapsed": true
   },
   "outputs": [
    {
     "name": "stdout",
     "output_type": "stream",
     "text": [
      "start=1262332800&metric=all&end=1437030000\n",
      "http://swahl.api3.nextbigsound.com/metrics/artist/143.json\n"
     ]
    }
   ],
   "source": [
    "# Get metric data for a single artist over a given time range\n",
    "\n",
    "import urllib\n",
    "import datetime as dt\n",
    "start_dt = dt.datetime(2010,1,1)\n",
    "end_dt = dt.datetime(2015,7,16)\n",
    "start = start_dt.strftime(\"%s\")\n",
    "end = end_dt.strftime(\"%s\")\n",
    "metric = 'all'\n",
    "\n",
    "opts = {}\n",
    "opts['start'] = start\n",
    "opts['end'] = end\n",
    "opts['metric'] = metric\n",
    "data = urllib.urlencode(opts)\n",
    "print data\n",
    "\n",
    "artist_id='143'\n",
    "#url_metricArtist='http://nbsmobile.api3.nextbigsound.com/metrics/artist/'\n",
    "url_metricArtist='http://swahl.api3.nextbigsound.com/metrics/artist/'\n",
    "url = url_metricArtist + artist_id + '.json'\n",
    "#url='http://nbsmobile.api3.nextbigsound.com/metrics/artist/356.json'\n",
    "print url\n",
    "\n",
    "reader = codecs.getreader(\"utf-8\")\n",
    "\n",
    "response = urlopen(url,data)\n",
    "json_obj = load(response)"
   ]
  },
  {
   "cell_type": "code",
   "execution_count": 23,
   "metadata": {
    "collapsed": false
   },
   "outputs": [
    {
     "data": {
      "text/plain": [
       "u'Last.fm'"
      ]
     },
     "execution_count": 23,
     "metadata": {},
     "output_type": "execute_result"
    }
   ],
   "source": [
    "json_obj[1]['Service']['name']"
   ]
  },
  {
   "cell_type": "code",
   "execution_count": 44,
   "metadata": {
    "collapsed": false
   },
   "outputs": [
    {
     "data": {
      "text/plain": [
       "356    356\n",
       "659    659\n",
       "143    143\n",
       "Name: id, dtype: object"
      ]
     },
     "execution_count": 44,
     "metadata": {},
     "output_type": "execute_result"
    }
   ],
   "source": [
    "artists.loc()"
   ]
  },
  {
   "cell_type": "code",
   "execution_count": 45,
   "metadata": {
    "collapsed": false
   },
   "outputs": [
    {
     "name": "stdout",
     "output_type": "stream",
     "text": [
      "143    Taylor Swift\n",
      "Name: name, dtype: object\n",
      "Last.fm\n",
      "fans:\n",
      "2015-04-18 1883818\n",
      "2015-04-22 1884069\n",
      "2015-04-23 1884310\n",
      "2015-04-24 1884557\n",
      "2015-04-25 1882644\n",
      "2015-04-28 1881594\n",
      "2015-04-29 1886322\n",
      "2015-05-01 1883553\n",
      "2015-05-06 1881874\n",
      "2015-05-07 1878443\n",
      "2015-05-08 1867441\n",
      "2015-05-09 1867137\n",
      "2015-05-12 1872665\n",
      "2015-05-13 1872413\n",
      "2015-05-14 1882396\n",
      "2015-05-15 1869708\n",
      "2015-05-16 1869472\n",
      "2015-05-19 1869194\n",
      "2015-05-20 1868890\n",
      "2015-05-21 1885008\n",
      "2015-05-22 1885554\n",
      "2015-05-23 1882137\n",
      "2015-05-26 1877763\n",
      "2015-05-27 1861067\n",
      "2015-05-28 1868436\n",
      "2015-05-29 1868698\n",
      "2015-05-30 1869197\n",
      "2015-06-02 1867684\n",
      "2015-06-03 1867935\n",
      "2015-06-04 1886020\n",
      "2015-06-05 1878073\n",
      "2015-06-06 1878384\n",
      "2015-06-09 1878655\n",
      "2015-06-10 1878904\n",
      "2015-06-11 1875996\n",
      "2015-06-12 1876387\n",
      "2015-06-13 1875107\n",
      "2015-06-16 1875599\n",
      "2015-06-17 1885380\n",
      "2015-06-18 1874462\n",
      "2015-06-19 1873452\n",
      "2015-06-20 1872910\n",
      "2015-06-23 1873172\n",
      "2015-06-24 1878122\n",
      "2015-06-25 1885711\n",
      "2015-06-26 1877814\n",
      "2015-06-27 1877500\n",
      "2015-06-30 1877138\n"
     ]
    }
   ],
   "source": [
    "# readable dates\n",
    "iservice = 1\n",
    "imetric = 0\n",
    "\n",
    "print artists[artists.id == artist_id].name\n",
    "print json_obj[iservice]['Service']['name']\n",
    "\n",
    "try:\n",
    "    mets = json_obj[iservice]['Metric'].keys()\n",
    "    dates = sorted([int(day)*86400 for day in json_obj[iservice]['Metric'][mets[imetric]].keys()])\n",
    "    counts = [json_obj[iservice]['Metric'][mets[imetric]][key] \n",
    "              for key in json_obj[iservice]['Metric'][mets[imetric]].keys()]\n",
    "    met = mets[imetric]\n",
    "    \n",
    "    print met+':'\n",
    "    for count,date in zip(counts,dates):\n",
    "        print dt.datetime.fromtimestamp(\n",
    "            date\n",
    "        ).strftime('%Y-%m-%d'), count\n",
    "except:\n",
    "    pass"
   ]
  },
  {
   "cell_type": "code",
   "execution_count": null,
   "metadata": {
    "collapsed": true
   },
   "outputs": [],
   "source": []
  },
  {
   "cell_type": "code",
   "execution_count": 117,
   "metadata": {
    "collapsed": false
   },
   "outputs": [
    {
     "name": "stdout",
     "output_type": "stream",
     "text": [
      "2003 Hail and Backtrack Compilation\n",
      "2012-10-12 5 Album Set Compilation\n",
      "2003 Sail to Montreux Album\n",
      " B-Sides Compilation\n",
      "2013 Oxford Angels: The Rarities Album\n",
      "2003-05-26 Hail to the Thief Album\n",
      " A Total Waste of Time Compilation\n",
      "2007-10-10 In Rainbows Album\n",
      "2008-06-02 The Best Of Compilation\n",
      "2001-01-22 Coup d'État Compilation\n",
      "2011-02-18 The King of Limbs Album\n",
      "2009-11 The Best of Radiohead Compilation\n",
      "1997-05-21 OK Computer Album\n",
      "2007-12-10 Album Box Set Compilation\n",
      "1995-03-08 The Bends Album\n",
      "2001-06-04 Amnesiac Album\n",
      "1997 Lost Treasures 1993–1997 Compilation\n",
      "2008 Greatest Hits Compilation\n",
      "1993-02-22 Pablo Honey Album\n",
      " B Sides Compilation\n",
      "2005 Breaks and Beats Compilation\n",
      "2004 Towering Above the Rest Compilation\n",
      "2000-09-27 Kid A Album\n",
      "2000 Looking Back at... Compilation\n",
      "1999 World Ballads Collection Compilation\n",
      "260\n"
     ]
    },
    {
     "data": {
      "text/plain": [
       "['first-release-date',\n",
       " 'secondary-type-list',\n",
       " 'primary-type',\n",
       " 'title',\n",
       " 'type',\n",
       " 'id']"
      ]
     },
     "execution_count": 117,
     "metadata": {},
     "output_type": "execute_result"
    }
   ],
   "source": [
    "# including other data in musicbrainz search (discography example)\n",
    "# /ws/2/artist            area, recording, release, release-group, work\n",
    "\n",
    "result = musicbrainzngs.get_artist_by_id(artist_id,\n",
    "              includes=[\"release-groups\"], release_type=[\"album\", \"ep\"])\n",
    "for rg in result[\"artist\"][\"release-group-list\"]:\n",
    "    print rg['first-release-date'],rg['title'],rg['type']\n",
    "print result['artist']['release-group-count']\n",
    "rg.keys()"
   ]
  },
  {
   "cell_type": "code",
   "execution_count": 105,
   "metadata": {
    "collapsed": false
   },
   "outputs": [
    {
     "data": {
      "text/plain": [
       "['name',\n",
       " 'area',\n",
       " 'gender',\n",
       " 'life-span',\n",
       " 'ipi',\n",
       " 'isni-list',\n",
       " 'begin-area',\n",
       " 'ipi-list',\n",
       " 'sort-name',\n",
       " 'country',\n",
       " 'type',\n",
       " 'id']"
      ]
     },
     "execution_count": 105,
     "metadata": {},
     "output_type": "execute_result"
    }
   ],
   "source": [
    "result['artist'].keys()"
   ]
  },
  {
   "cell_type": "code",
   "execution_count": null,
   "metadata": {
    "collapsed": true
   },
   "outputs": [],
   "source": []
  },
  {
   "cell_type": "code",
   "execution_count": 112,
   "metadata": {
    "collapsed": false
   },
   "outputs": [
    {
     "name": "stdout",
     "output_type": "stream",
     "text": [
      "\"What has been the timetable with this album?\" 251000\n",
      "\"Track #8 The Gloaming is next. That's the time just before night falls, isn't it? And this sounds to me like the listener is being eaten by a big technological machine....\" 236866\n",
      "\"And what was the mindset in recording? After all, there's a single release!\" 48520\n",
      "\"Track #12 is Myxomatosis (a disease that infected the rabbit population of Australia, deliberately, in the 1950s.) Do we detect a Tubeway Army sound here?\" 296626\n",
      "\"Track #9 There There is next; and it's a single, unusual indeed for Radiohead....\" 223960\n",
      "\"So, the title. How did it come to be chosen?\" 344666\n",
      "\"Track #2, Sit Down, Stand Up. Where did that come from?\" 278573\n",
      "\"Here's a change (irony!) as a definition of a Radiohead song....Track #4 Backdrifts seems a pretty desolate vision.\" 157666\n",
      "\"What about touring — has that become enjoyment again?\" 68346\n",
      "\"Were there many tracks left over after recording? And can we mention the great song 'Lift', and ask what happened to that?\" 56680\n",
      "\"Track #6. Where I end and You begin next. Great bassline!\" 130013\n",
      "\"Track #5, Go to Sleep\" 325906\n",
      "\"And the final track, Track #14, is A Wolf at the Door. A last chance (on this album, anyway) to put across some Home Truths?\" 170986\n",
      "\"Track #10 is I Will. Something of a curio?\" 217760\n",
      "\"Track #11 is A Punchup at a Wedding. The title seems to sum up your frustration at the human condition. 'Why does everything have to be like this?'\" 223533\n",
      "\"And what kind of working style did you adopt? Were you working mostly days? Nights?\" 278133\n",
      "\"Track #13, Scatterbrain is an unsettling sounding track....\" 133666\n",
      "\"Track #1 is called 2+2=5\" 224986\n",
      "...Thom Returns 22648\n",
      "...Thom Returns... Again... 21159\n",
      "(Jonny Teases W-A Few Bars of Let Down) 16000\n",
      "\"Let's talk now about Thom's vocals on this CD...\" 105026\n",
      "\"Could this album have been made 2 years ago?\" 102293\n",
      "\"Here's a cheery title for Track #7: We Suck Young Blood. Humour perhaps?\" 176640\n",
      "\"Track #3 Sail to the Moon, let's talk about your vocals on this album. But first off, it sounds like a sinister nursery rhyme....\" 208413\n",
      "6140\n"
     ]
    },
    {
     "data": {
      "text/plain": [
       "['length', 'id', 'title']"
      ]
     },
     "execution_count": 112,
     "metadata": {},
     "output_type": "execute_result"
    }
   ],
   "source": [
    "# including other data in musicbrainz search (discography example)\n",
    "# /ws/2/artist            area, recording, release, release-group, work\n",
    "\n",
    "result2 = musicbrainzngs.get_artist_by_id(artist_id,\n",
    "              includes=[\"recordings\"])\n",
    "for rg in result2[\"artist\"][\"recording-list\"]:\n",
    "    print rg['title'], rg['length']\n",
    "print result2['artist']['recording-count']\n",
    "rg.keys()"
   ]
  },
  {
   "cell_type": "code",
   "execution_count": 94,
   "metadata": {
    "collapsed": false
   },
   "outputs": [
    {
     "data": {
      "text/plain": [
       "['recording-count',\n",
       " 'recording-list',\n",
       " 'name',\n",
       " 'area',\n",
       " 'country',\n",
       " 'life-span',\n",
       " 'isni-list',\n",
       " 'begin-area',\n",
       " 'sort-name',\n",
       " 'type',\n",
       " 'id']"
      ]
     },
     "execution_count": 94,
     "metadata": {},
     "output_type": "execute_result"
    }
   ],
   "source": [
    "result2['artist'].keys()"
   ]
  },
  {
   "cell_type": "code",
   "execution_count": 100,
   "metadata": {
    "collapsed": false
   },
   "outputs": [],
   "source": [
    "result3 = musicbrainzngs.get_artist_by_id(artist_id,\n",
    "              includes=[\"works\"])"
   ]
  },
  {
   "cell_type": "code",
   "execution_count": 101,
   "metadata": {
    "collapsed": false
   },
   "outputs": [
    {
     "data": {
      "text/plain": [
       "['work-list',\n",
       " 'isni-list',\n",
       " 'name',\n",
       " 'area',\n",
       " 'country',\n",
       " 'life-span',\n",
       " 'work-count',\n",
       " 'begin-area',\n",
       " 'sort-name',\n",
       " 'type',\n",
       " 'id']"
      ]
     },
     "execution_count": 101,
     "metadata": {},
     "output_type": "execute_result"
    }
   ],
   "source": [
    "result3['artist'].keys()"
   ]
  },
  {
   "cell_type": "code",
   "execution_count": 116,
   "metadata": {
    "collapsed": false
   },
   "outputs": [
    {
     "name": "stdout",
     "output_type": "stream",
     "text": [
      "Pablo Honey\n",
      "Pablo Honey\n",
      "Drill\n",
      "My Iron Lung\n",
      "Pablo Honey\n",
      "Pablo Honey\n",
      "My Iron Lung\n",
      "The Bends\n",
      "Pablo Honey\n",
      "Pablo Honey\n",
      "Drill\n",
      "The Bends (bonus disc: Live EP)\n",
      "The Bends\n",
      "Pablo Honey\n",
      "Pablo Honey\n",
      "Drill\n",
      "Drill\n",
      "1993-09-02: Signal Radio Studios: Cheshire, UK\n",
      "Pablo Honey\n",
      "The Bends\n",
      "Itch\n",
      "Itch\n",
      "BBC in Concert 601: Glastonbury Festival 1994\n",
      "The Bends\n",
      "My Iron Lung\n",
      "427\n"
     ]
    },
    {
     "data": {
      "text/plain": [
       "['status',\n",
       " 'release-event-count',\n",
       " 'title',\n",
       " 'country',\n",
       " 'barcode',\n",
       " 'release-event-list',\n",
       " 'text-representation',\n",
       " 'date',\n",
       " 'quality',\n",
       " 'id']"
      ]
     },
     "execution_count": 116,
     "metadata": {},
     "output_type": "execute_result"
    }
   ],
   "source": [
    "result4 = musicbrainzngs.get_artist_by_id(artist_id,\n",
    "              includes=[\"releases\"], release_type=[\"album\", \"ep\"])\n",
    "for rg in result4[\"artist\"][\"release-list\"]:\n",
    "    print rg['title']\n",
    "print result4['artist']['release-count']\n",
    "rg.keys()"
   ]
  },
  {
   "cell_type": "code",
   "execution_count": 103,
   "metadata": {
    "collapsed": false
   },
   "outputs": [
    {
     "data": {
      "text/plain": [
       "['name',\n",
       " 'area',\n",
       " 'country',\n",
       " 'life-span',\n",
       " 'isni-list',\n",
       " 'begin-area',\n",
       " 'release-list',\n",
       " 'sort-name',\n",
       " 'release-count',\n",
       " 'type',\n",
       " 'id']"
      ]
     },
     "execution_count": 103,
     "metadata": {},
     "output_type": "execute_result"
    }
   ],
   "source": [
    "result4['artist'].keys()"
   ]
  },
  {
   "cell_type": "code",
   "execution_count": null,
   "metadata": {
    "collapsed": true
   },
   "outputs": [],
   "source": []
  },
  {
   "cell_type": "code",
   "execution_count": 59,
   "metadata": {
    "collapsed": false
   },
   "outputs": [
    {
     "data": {
      "text/plain": [
       "{'message': \"Feed doesn't exist\", 'status': 'error'}"
      ]
     },
     "execution_count": 59,
     "metadata": {},
     "output_type": "execute_result"
    }
   ],
   "source": [
    "# Artist ranking (doesn't exist anymore?)\n",
    "#type is either nominal/velocity/acceleration\n",
    "ids = [356, 659, 8309]\n",
    "atype = \"nominal\"\n",
    "resp = json.loads(api.artistRanking(atype, ids))\n",
    "resp\n",
    " "
   ]
  },
  {
   "cell_type": "code",
   "execution_count": 6,
   "metadata": {
    "collapsed": false
   },
   "outputs": [
    {
     "data": {
      "text/plain": [
       "{u'1': u'MySpace',\n",
       " u'10': u'SoundCloud',\n",
       " u'11': u'Purevolume',\n",
       " u'16': u'Vimeo',\n",
       " u'17': u'Wikipedia',\n",
       " u'2': u'Last.fm',\n",
       " u'25': u'Vevo',\n",
       " u'33': u'Rdio',\n",
       " u'4': u'Facebook',\n",
       " u'45': u'Bandcamp',\n",
       " u'5': u'Twitter',\n",
       " u'52': u'Instagram',\n",
       " u'64': u'Tumblr',\n",
       " u'66': u'Goodreads (Author)',\n",
       " u'68': u'Goodreads (Work)',\n",
       " u'7': u'YouTube',\n",
       " u'70': u'NBS Score',\n",
       " u'77': u'Vine',\n",
       " u'8': u'ReverbNation',\n",
       " u'85': u'GooglePlus'}"
      ]
     },
     "execution_count": 6,
     "metadata": {},
     "output_type": "execute_result"
    }
   ],
   "source": [
    "# services summary\n",
    "resp = json.loads(api.servicesList())\n",
    "resp\n",
    "{key:resp[key]['human'] for key in resp.keys()}"
   ]
  },
  {
   "cell_type": "code",
   "execution_count": 48,
   "metadata": {
    "collapsed": false
   },
   "outputs": [
    {
     "data": {
      "text/plain": [
       "{u'fans': {u'16625': 2025423,\n",
       "  u'16626': 2026836,\n",
       "  u'16627': 2028263,\n",
       "  u'16628': 2029624,\n",
       "  u'16629': 2030809,\n",
       "  u'16630': 2032132,\n",
       "  u'16631': 2033389},\n",
       " u'favorites': [],\n",
       " u'likes': {u'16625': 5149414,\n",
       "  u'16626': 5153682,\n",
       "  u'16627': 5158153,\n",
       "  u'16628': 5162419,\n",
       "  u'16629': 5166525,\n",
       "  u'16630': 5170786,\n",
       "  u'16631': 5175090},\n",
       " u'plays': {u'16625': 1364537022,\n",
       "  u'16626': 1365334694,\n",
       "  u'16627': 1366186787,\n",
       "  u'16628': 1366967547,\n",
       "  u'16629': 1367661611,\n",
       "  u'16630': 1368391399,\n",
       "  u'16631': 1369130739},\n",
       " u'raters': {u'16625': 5851574,\n",
       "  u'16626': 5856219,\n",
       "  u'16627': 5861054,\n",
       "  u'16628': 5865650,\n",
       "  u'16629': 5870031,\n",
       "  u'16630': 5874648,\n",
       "  u'16631': 5879325}}"
      ]
     },
     "execution_count": 48,
     "metadata": {},
     "output_type": "execute_result"
    }
   ],
   "source": [
    "# metrics profile\n",
    "resp = json.loads(api.metricsProfile(\"964787\"))\n",
    "resp"
   ]
  },
  {
   "cell_type": "code",
   "execution_count": 29,
   "metadata": {
    "collapsed": false
   },
   "outputs": [
    {
     "data": {
      "text/plain": [
       "[{u'Metric': {u'fans': [], u'plays': [], u'views': []},\n",
       "  u'Profile': {u'id': 388, u'url': u'http://www.myspace.com/kanyewest'},\n",
       "  u'Service': {u'id': 1, u'name': u'MySpace'}},\n",
       " {u'Metric': {u'comments': {u'16625': 31268,\n",
       "    u'16626': 31270,\n",
       "    u'16628': 31269,\n",
       "    u'16629': 31271,\n",
       "    u'16630': 31272,\n",
       "    u'16631': 31273},\n",
       "   u'fans': {u'16625': 4023689},\n",
       "   u'plays': {u'16625': 166542042}},\n",
       "  u'Profile': {u'id': 174990, u'url': u'http://www.last.fm/music/kanye+west'},\n",
       "  u'Service': {u'id': 2, u'name': u'Last.fm'}},\n",
       " {u'Metric': {u'views': {u'16625': 14979,\n",
       "    u'16626': 12871,\n",
       "    u'16627': 10696,\n",
       "    u'16628': 11233,\n",
       "    u'16629': 9940,\n",
       "    u'16630': 12995,\n",
       "    u'16631': 17440}},\n",
       "  u'Profile': {u'id': 846577,\n",
       "   u'url': u'http://en.wikipedia.org/wiki/Kanye_West'},\n",
       "  u'Service': {u'id': 17, u'name': u'Wikipedia'}},\n",
       " {u'Metric': {u'fans': {u'16625': 13179944,\n",
       "    u'16626': 13198984,\n",
       "    u'16627': 13216987,\n",
       "    u'16628': 13233803,\n",
       "    u'16629': 13251756,\n",
       "    u'16630': 13269376,\n",
       "    u'16631': 13291132},\n",
       "   u'friends': {u'16625': 1,\n",
       "    u'16626': 1,\n",
       "    u'16627': 1,\n",
       "    u'16628': 1,\n",
       "    u'16629': 1,\n",
       "    u'16630': 1,\n",
       "    u'16631': 1},\n",
       "   u'lists': {u'16625': 45970,\n",
       "    u'16626': 45972,\n",
       "    u'16627': 45981,\n",
       "    u'16628': 45986,\n",
       "    u'16629': 45987,\n",
       "    u'16630': 45994,\n",
       "    u'16631': 45997},\n",
       "   u'mentions': {u'16625': 6400,\n",
       "    u'16626': 5800,\n",
       "    u'16627': 6400,\n",
       "    u'16628': 4100,\n",
       "    u'16629': 3100,\n",
       "    u'16630': 8000,\n",
       "    u'16631': 9500},\n",
       "   u'retweets': {u'16625': 2300,\n",
       "    u'16626': 3100,\n",
       "    u'16627': 1700,\n",
       "    u'16628': 1600,\n",
       "    u'16629': 1700,\n",
       "    u'16630': 16200,\n",
       "    u'16631': 2400},\n",
       "   u'statuses': {u'16625': 190,\n",
       "    u'16626': 190,\n",
       "    u'16627': 190,\n",
       "    u'16628': 190,\n",
       "    u'16629': 190,\n",
       "    u'16630': 191,\n",
       "    u'16631': 191}},\n",
       "  u'Profile': {u'id': 948411, u'url': u'http://twitter.com/kanyewest'},\n",
       "  u'Service': {u'id': 5, u'name': u'Twitter'}},\n",
       " {u'Metric': {u'fans': {u'16625': 2025423,\n",
       "    u'16626': 2026836,\n",
       "    u'16627': 2028263,\n",
       "    u'16628': 2029624,\n",
       "    u'16629': 2030809,\n",
       "    u'16630': 2032132,\n",
       "    u'16631': 2033389},\n",
       "   u'favorites': [],\n",
       "   u'likes': {u'16625': 5149414,\n",
       "    u'16626': 5153682,\n",
       "    u'16627': 5158153,\n",
       "    u'16628': 5162419,\n",
       "    u'16629': 5166525,\n",
       "    u'16630': 5170786,\n",
       "    u'16631': 5175090},\n",
       "   u'plays': {u'16625': 1364537022,\n",
       "    u'16626': 1365334694,\n",
       "    u'16627': 1366186787,\n",
       "    u'16628': 1366967547,\n",
       "    u'16629': 1367661611,\n",
       "    u'16630': 1368391399,\n",
       "    u'16631': 1369130739},\n",
       "   u'raters': {u'16625': 5851574,\n",
       "    u'16626': 5856219,\n",
       "    u'16627': 5861054,\n",
       "    u'16628': 5865650,\n",
       "    u'16629': 5870031,\n",
       "    u'16630': 5874648,\n",
       "    u'16631': 5879325}},\n",
       "  u'Profile': {u'id': 964771,\n",
       "   u'url': u'http://www.youtube.com/channel/UChpJbg7zMbi5jx9Gdjaxa9g'},\n",
       "  u'Service': {u'id': 7, u'name': u'YouTube'}},\n",
       " {u'Metric': {u'fans': {u'16625': 2025423,\n",
       "    u'16626': 2026836,\n",
       "    u'16627': 2028263,\n",
       "    u'16628': 2029624,\n",
       "    u'16629': 2030809,\n",
       "    u'16630': 2032132,\n",
       "    u'16631': 2033389},\n",
       "   u'favorites': [],\n",
       "   u'likes': {u'16625': 5149414,\n",
       "    u'16626': 5153682,\n",
       "    u'16627': 5158153,\n",
       "    u'16628': 5162419,\n",
       "    u'16629': 5166525,\n",
       "    u'16630': 5170786,\n",
       "    u'16631': 5175090},\n",
       "   u'plays': {u'16625': 1364537022,\n",
       "    u'16626': 1365334694,\n",
       "    u'16627': 1366186787,\n",
       "    u'16628': 1366967547,\n",
       "    u'16629': 1367661611,\n",
       "    u'16630': 1368391399,\n",
       "    u'16631': 1369130739},\n",
       "   u'raters': {u'16625': 5851574,\n",
       "    u'16626': 5856219,\n",
       "    u'16627': 5861054,\n",
       "    u'16628': 5865650,\n",
       "    u'16629': 5870031,\n",
       "    u'16630': 5874648,\n",
       "    u'16631': 5879325}},\n",
       "  u'Profile': {u'id': 964787,\n",
       "   u'url': u'http://www.youtube.com/channel/UCs6eXM7s8Vl5WcECcRHc2qQ'},\n",
       "  u'Service': {u'id': 7, u'name': u'YouTube'}},\n",
       " {u'Metric': {u'plays': {u'16625': 2502161304,\n",
       "    u'16626': 2504931077,\n",
       "    u'16627': 2507645656,\n",
       "    u'16628': 2510168100,\n",
       "    u'16629': 2512257685,\n",
       "    u'16630': 2514623344,\n",
       "    u'16631': 2517111395}},\n",
       "  u'Profile': {u'id': 964794,\n",
       "   u'url': u'http://www.vevo.com/artist/kanye-west'},\n",
       "  u'Service': {u'id': 25, u'name': u'Vevo'}},\n",
       " {u'Metric': {u'collections': {u'16625': 6685577,\n",
       "    u'16626': 6685415,\n",
       "    u'16627': 6685328,\n",
       "    u'16628': 6685291,\n",
       "    u'16629': 6690608,\n",
       "    u'16630': 6690605,\n",
       "    u'16631': 6690572},\n",
       "   u'comments': {u'16625': 320,\n",
       "    u'16626': 320,\n",
       "    u'16627': 320,\n",
       "    u'16628': 320,\n",
       "    u'16629': 320,\n",
       "    u'16630': 320,\n",
       "    u'16631': 320},\n",
       "   u'playlists': {u'16625': 1317760,\n",
       "    u'16626': 1317909,\n",
       "    u'16627': 1318052,\n",
       "    u'16628': 1318271,\n",
       "    u'16629': 1318475,\n",
       "    u'16630': 1318693,\n",
       "    u'16631': 1318954},\n",
       "   u'plays': {u'16625': 33058706,\n",
       "    u'16626': 33075210,\n",
       "    u'16627': 33092275,\n",
       "    u'16628': 33111211,\n",
       "    u'16629': 33125884,\n",
       "    u'16630': 33139004,\n",
       "    u'16631': 33154572}},\n",
       "  u'Profile': {u'id': 1078750,\n",
       "   u'url': u'http://www.rdio.com/artist/Kanye_West/'},\n",
       "  u'Service': {u'id': 33, u'name': u'Rdio'}},\n",
       " {u'Metric': {u'fans': {u'16626': 2214,\n",
       "    u'16627': 2213,\n",
       "    u'16628': 2213,\n",
       "    u'16629': 2213,\n",
       "    u'16630': 2213,\n",
       "    u'16631': 2213},\n",
       "   u'plays': {u'16626': 71402,\n",
       "    u'16627': 71403,\n",
       "    u'16628': 71403,\n",
       "    u'16629': 71403,\n",
       "    u'16630': 71403,\n",
       "    u'16631': 71403},\n",
       "   u'views': {u'16626': 74819,\n",
       "    u'16627': 74819,\n",
       "    u'16628': 74819,\n",
       "    u'16629': 74819,\n",
       "    u'16630': 74819,\n",
       "    u'16631': 74819}},\n",
       "  u'Profile': {u'id': 4334982,\n",
       "   u'url': u'http://www.reverbnation.com/kanyewestmusic'},\n",
       "  u'Service': {u'id': 8, u'name': u'ReverbNation'}},\n",
       " {u'Metric': {u'billboard-200-likelihood': []},\n",
       "  u'Profile': {u'id': 6600125,\n",
       "   u'url': u'http://www.nextbigsound.com/artist/356'},\n",
       "  u'Service': {u'id': 70, u'name': u'NBS Score'}}]"
      ]
     },
     "execution_count": 29,
     "metadata": {},
     "output_type": "execute_result"
    }
   ],
   "source": [
    "# metrics artist\n",
    "resp = json.loads(api.metricsArtist(\"356\"))\n",
    "resp"
   ]
  },
  {
   "cell_type": "code",
   "execution_count": null,
   "metadata": {
    "collapsed": true
   },
   "outputs": [],
   "source": []
  },
  {
   "cell_type": "code",
   "execution_count": 38,
   "metadata": {
    "collapsed": false,
    "scrolled": true
   },
   "outputs": [
    {
     "data": {
      "text/plain": [
       "[u'MySpace',\n",
       " u'Last.fm',\n",
       " u'Wikipedia',\n",
       " u'Twitter',\n",
       " u'YouTube',\n",
       " u'YouTube',\n",
       " u'Vevo',\n",
       " u'Rdio',\n",
       " u'ReverbNation',\n",
       " u'NBS Score']"
      ]
     },
     "execution_count": 38,
     "metadata": {},
     "output_type": "execute_result"
    }
   ],
   "source": [
    "[a['Service']['name'] for a in resp] "
   ]
  },
  {
   "cell_type": "code",
   "execution_count": 40,
   "metadata": {
    "collapsed": false
   },
   "outputs": [
    {
     "data": {
      "text/plain": [
       "{u'Metric': {u'fans': {u'16625': 2025423,\n",
       "   u'16626': 2026836,\n",
       "   u'16627': 2028263,\n",
       "   u'16628': 2029624,\n",
       "   u'16629': 2030809,\n",
       "   u'16630': 2032132,\n",
       "   u'16631': 2033389},\n",
       "  u'favorites': [],\n",
       "  u'likes': {u'16625': 5149414,\n",
       "   u'16626': 5153682,\n",
       "   u'16627': 5158153,\n",
       "   u'16628': 5162419,\n",
       "   u'16629': 5166525,\n",
       "   u'16630': 5170786,\n",
       "   u'16631': 5175090},\n",
       "  u'plays': {u'16625': 1364537022,\n",
       "   u'16626': 1365334694,\n",
       "   u'16627': 1366186787,\n",
       "   u'16628': 1366967547,\n",
       "   u'16629': 1367661611,\n",
       "   u'16630': 1368391399,\n",
       "   u'16631': 1369130739},\n",
       "  u'raters': {u'16625': 5851574,\n",
       "   u'16626': 5856219,\n",
       "   u'16627': 5861054,\n",
       "   u'16628': 5865650,\n",
       "   u'16629': 5870031,\n",
       "   u'16630': 5874648,\n",
       "   u'16631': 5879325}},\n",
       " u'Profile': {u'id': 964787,\n",
       "  u'url': u'http://www.youtube.com/channel/UCs6eXM7s8Vl5WcECcRHc2qQ'},\n",
       " u'Service': {u'id': 7, u'name': u'YouTube'}}"
      ]
     },
     "execution_count": 40,
     "metadata": {},
     "output_type": "execute_result"
    }
   ],
   "source": [
    "resp[5]"
   ]
  },
  {
   "cell_type": "code",
   "execution_count": 47,
   "metadata": {
    "collapsed": false
   },
   "outputs": [
    {
     "name": "stdout",
     "output_type": "stream",
     "text": [
      "[u'846577', u'1078750', u'174990', u'948411', u'6600125', u'964771', u'4334982', u'964787', u'388', u'964794']\n"
     ]
    },
    {
     "data": {
      "text/plain": [
       "[u'Wikipedia',\n",
       " u'Rdio',\n",
       " u'Last.fm',\n",
       " u'Twitter',\n",
       " u'NBS Score',\n",
       " u'YouTube',\n",
       " u'ReverbNation',\n",
       " u'YouTube',\n",
       " u'MySpace',\n",
       " u'Vevo']"
      ]
     },
     "execution_count": 47,
     "metadata": {},
     "output_type": "execute_result"
    }
   ],
   "source": [
    "resp = json.loads(api.profilesArtist(\"356\"))\n",
    "print resp.keys()\n",
    "[resp[key]['name'] for key in resp.keys()]"
   ]
  },
  {
   "cell_type": "code",
   "execution_count": 2,
   "metadata": {
    "collapsed": false
   },
   "outputs": [
    {
     "name": "stdout",
     "output_type": "stream",
     "text": [
      "http://nbsmobile.api3.nextbigsound.com/metrics/artist/356.json\n",
      "start=1420099200&metric=all&end=1437030000\n"
     ]
    }
   ],
   "source": [
    "# metrics artist (with options)\n",
    "#data[start]: a unix timestamp or a text-based date [see php.net/strtotime for details]\n",
    "#data[end]: a unix timestamp or a text-based date\n",
    "#data[metric]: all, plays, fans, views, comments, downloads, likes, price\n",
    "import datetime as dt\n",
    "start_dt = dt.datetime(2015,1,1)\n",
    "end_dt = dt.datetime(2015,7,16)\n",
    "start = start_dt.strftime(\"%s\")\n",
    "end = end_dt.strftime(\"%s\")\n",
    "metric = 'all'\n",
    "resp = api.metricsArtist(\"356\",opt=[start,end,metric])\n",
    "#resp"
   ]
  },
  {
   "cell_type": "code",
   "execution_count": 4,
   "metadata": {
    "collapsed": false
   },
   "outputs": [
    {
     "data": {
      "text/plain": [
       "'dce0\\r\\n[\\n  {\\n    \"Service\": {\\n      \"name\": \"MySpace\",\\n      \"id\": 1\\n    },\\n    \"Profile\": {\\n      \"url\": \"http:\\\\/\\\\/www.myspace.com\\\\/kanyewest\",\\n      \"id\": 388\\n    },\\n    \"Metric\": {\\n      \"plays\": [\\n        \\n      ],\\n      \"fans\": [\\n        \\n      ],\\n      \"views\": [\\n        \\n      ]\\n    }\\n  },\\n  {\\n    \"Service\": {\\n      \"name\": \"Last.fm\",\\n      \"id\": 2\\n    },\\n    \"Profile\": {\\n      \"url\": \"http:\\\\/\\\\/www.last.fm\\\\/music\\\\/kanye+west\",\\n      \"id\": 174990\\n    },\\n    \"Metric\": {\\n      \"plays\": {\\n        \"16542\": 163644667,\\n        \"16548\": 164376228,\\n        \"16549\": 164412304,\\n        \"16550\": 164449902,\\n        \"16551\": 164490455,\\n        \"16554\": 164858949,\\n        \"16555\": 164896894,\\n        \"16557\": 164970952,\\n        \"16562\": 164715316,\\n        \"16563\": 164752951,\\n        \"16564\": 164790322,\\n        \"16565\": 164825712,\\n        \"16568\": 165098509,\\n        \"16569\": 165136534,\\n        \"16570\": 165179546,\\n        \"16571\": 165215221,\\n        \"16572\": 165255187,\\n        \"16575\": 165344479,\\n        \"16576\": 165382895,\\n        \"16577\": 165423360,\\n        \"16578\": 165459847,\\n        \"16579\": 165496043,\\n        \"16582\": 165856944,\\n        \"16583\": 165888978,\\n        \"16584\": 165918984,\\n        \"16585\": 165952326,\\n        \"16586\": 165985577,\\n        \"16589\": 165645238,\\n        \"16590\": 165677636,\\n        \"16591\": 165708785,\\n        \"16592\": 165744244,\\n        \"16593\": 165779838,\\n        \"16596\": 166037633,\\n        \"16597\": 166074228,\\n        \"16598\": 166098053,\\n        \"16599\": 166132683,\\n        \"16600\": 166168975,\\n        \"16603\": 166244521,\\n        \"16604\": 166276055,\\n        \"16605\": 166310025,\\n        \"16606\": 166352634,\\n        \"16607\": 166383981,\\n        \"16610\": 166738977,\\n        \"16611\": 166771290,\\n        \"16612\": 166802849,\\n        \"16613\": 166834666,\\n        \"16614\": 166865798,\\n        \"16617\": 166542042\\n      },\\n      \"fans\": {\\n        \"16542\": 3993049,\\n        \"16548\": 4001240,\\n        \"16549\": 4001601,\\n        \"16550\": 4001994,\\n        \"16551\": 4002394,\\n        \"16554\": 4003063,\\n        \"16555\": 4003428,\\n        \"16557\": 4004173,\\n        \"16562\": 4004590,\\n        \"16563\": 4005005,\\n        \"16564\": 4005404,\\n        \"16565\": 4005778,\\n        \"16568\": 4008164,\\n        \"16569\": 4008502,\\n        \"16570\": 4008897,\\n        \"16571\": 4009291,\\n        \"16572\": 4009755,\\n        \"16575\": 4011739,\\n        \"16576\": 4012121,\\n        \"16577\": 4012460,\\n        \"16578\": 4012809,\\n        \"16579\": 4013196,\\n        \"16582\": 4013686,\\n        \"16583\": 4014038,\\n        \"16584\": 4014408,\\n        \"16585\": 4014747,\\n        \"16586\": 4015075,\\n        \"16589\": 4014510,\\n        \"16590\": 4014846,\\n        \"16591\": 4015186,\\n        \"16592\": 4015508,\\n        \"16593\": 4015848,\\n        \"16596\": 4017993,\\n        \"16597\": 4018329,\\n        \"16598\": 4018678,\\n        \"16599\": 4018990,\\n        \"16600\": 4019343,\\n        \"16603\": 4021249,\\n        \"16604\": 4021582,\\n        \"16605\": 4021894,\\n        \"16606\": 4022195,\\n        \"16607\": 4022506,\\n        \"16610\": 4022830,\\n        \"16611\": 4023150,\\n        \"16612\": 4023495,\\n        \"16613\": 4023823,\\n        \"16614\": 4024200,\\n        \"16617\": 4023689\\n      },\\n      \"comments\": {\\n        \"16542\": 31151,\\n        \"16544\": 31152,\\n        \"16545\": 31153,\\n        \"16546\": 31154,\\n        \"16547\": 31156,\\n        \"16549\": 31160,\\n        \"16551\": 31163,\\n        \"16552\": 31164,\\n        \"16554\": 31169,\\n        \"16555\": 31170,\\n        \"16556\": 31172,\\n        \"16557\": 31174,\\n        \"16558\": 31177,\\n        \"16559\": 31182,\\n        \"16560\": 31186,\\n        \"16562\": 31188,\\n        \"16564\": 31189,\\n        \"16566\": 31190,\\n        \"16567\": 31191,\\n        \"16568\": 31193,\\n        \"16569\": 31192,\\n        \"16570\": 31193,\\n        \"16573\": 31194,\\n        \"16574\": 31195,\\n        \"16575\": 31197,\\n        \"16577\": 31198,\\n        \"16578\": 31199,\\n        \"16579\": 31201,\\n        \"16581\": 31202,\\n        \"16582\": 31203,\\n        \"16586\": 31204,\\n        \"16588\": 31206,\\n        \"16590\": 31212,\\n        \"16591\": 31210,\\n        \"16592\": 31212,\\n        \"16594\": 31213,\\n        \"16595\": 31225,\\n        \"16596\": 31226,\\n        \"16597\": 31227,\\n        \"16602\": 31228,\\n        \"16603\": 31227,\\n        \"16605\": 31229,\\n        \"16606\": 31232,\\n        \"16607\": 31234,\\n        \"16608\": 31236,\\n        \"16609\": 31237,\\n        \"16610\": 31239,\\n        \"16612\": 31241,\\n        \"16613\": 31242,\\n        \"16614\": 31244,\\n        \"16615\": 31248,\\n        \"16616\": 31254,\\n        \"16617\": 31255,\\n        \"16618\": 31259,\\n        \"16619\": 31262,\\n        \"16620\": 31264,\\n        \"16624\": 31266,\\n        \"16625\": 31268,\\n        \"16626\": 31270,\\n        \"16628\": 31269,\\n        \"16629\": 31271,\\n        \"16630\": 31272,\\n        \"16631\": 31273\\n      }\\n    }\\n  },\\n  {\\n    \"Service\": {\\n      \"name\": \"Wikipedia\",\\n      \"id\": 17\\n    },\\n    \"Profile\": {\\n      \"url\": \"http:\\\\/\\\\/en.wikipedia.org\\\\/wiki\\\\/Kanye_West\",\\n      \"id\": 846577\\n    },\\n    \"Metric\": {\\n      \"views\": {\\n        \"16542\": 42153,\\n        \"16543\": 18916,\\n        \"16544\": 3147,\\n        \"16545\": 21593,\\n        \"16546\": 22795,\\n        \"16547\": 25284,\\n        \"16548\": 24390,\\n        \"16549\": 20659,\\n        \"16550\": 20507,\\n        \"16551\": 19522,\\n        \"16552\": 22732,\\n        \"16553\": 40056,\\n        \"16554\": 20969,\\n        \"16555\": 15424,\\n        \"16556\": 18312,\\n        \"16557\": 13920,\\n        \"16558\": 14752,\\n        \"16559\": 11386,\\n        \"16560\": 16685,\\n        \"16561\": 20022,\\n        \"16562\": 20443,\\n        \"16563\": 17895,\\n        \"16564\": 3404,\\n        \"16565\": 15303,\\n        \"16566\": 30286,\\n        \"16567\": 30942,\\n        \"16568\": 26175,\\n        \"16569\": 21655,\\n        \"16570\": 18888,\\n        \"16571\": 13456,\\n        \"16572\": 15048,\\n        \"16573\": 28388,\\n        \"16574\": 16400,\\n        \"16575\": 11075,\\n        \"16576\": 20551,\\n        \"16577\": 17428,\\n        \"16578\": 11639,\\n        \"16579\": 9949,\\n        \"16580\": 6786,\\n        \"16581\": 6803,\\n        \"16582\": 17957,\\n        \"16583\": 17416,\\n        \"16584\": 16068,\\n        \"16585\": 12303,\\n        \"16586\": 12969,\\n        \"16587\": 26746,\\n        \"16588\": 25219,\\n        \"16589\": 21108,\\n        \"16590\": 17074,\\n        \"16591\": 15061,\\n        \"16592\": 12058,\\n        \"16593\": 12837,\\n        \"16594\": 21291,\\n        \"16595\": 23777,\\n        \"16596\": 19275,\\n        \"16597\": 15395,\\n        \"16598\": 14275,\\n        \"16599\": 10115,\\n        \"16600\": 5242,\\n        \"16601\": 13488,\\n        \"16602\": 12590,\\n        \"16603\": 11101,\\n        \"16604\": 12367,\\n        \"16605\": 12156,\\n        \"16606\": 10253,\\n        \"16607\": 11320,\\n        \"16608\": 18120,\\n        \"16609\": 16346,\\n        \"16610\": 14035,\\n        \"16611\": 13089,\\n        \"16612\": 12733,\\n        \"16613\": 19100,\\n        \"16614\": 23861,\\n        \"16615\": 22341,\\n        \"16616\": 20171,\\n        \"16617\": 18864,\\n        \"16618\": 15275,\\n        \"16619\": 12324,\\n        \"16620\": 10601,\\n        \"16621\": 11065,\\n        \"16622\": 11144,\\n        \"16623\": 14503,\\n        \"16624\": 17651,\\n        \"16625\": 14979,\\n        \"16626\": 12871,\\n        \"16627\": 10696,\\n        \"16628\": 11233,\\n        \"16629\": 9940,\\n        \"16630\": 12995,\\n        \"16631\": 17440\\n      }\\n    }\\n  },\\n  {\\n    \"Service\": {\\n      \"name\": \"Twitter\",\\n      \"id\": 5\\n    },\\n    \"Profile\": {\\n      \"url\": \"http:\\\\/\\\\/twitter.com\\\\/kanyewest\",\\n      \"id\": 948411\\n    },\\n    \"Metric\": {\\n      \"mentions\": {\\n        \"16542\": 6200,\\n        \"16543\": 4800,\\n        \"16544\": 11900,\\n        \"16545\": 8900,\\n        \"16546\": 7560,\\n        \"16547\": 10564,\\n        \"16548\": 8500,\\n        \"16549\": 8100,\\n        \"16550\": 9100,\\n        \"16551\": 3500,\\n        \"16552\": 4700,\\n        \"16553\": 200,\\n        \"16554\": 4900,\\n        \"16555\": 3500,\\n        \"16556\": 3300,\\n        \"16557\": 5100,\\n        \"16558\": 11000,\\n        \"16559\": 6200,\\n        \"16560\": 10100,\\n        \"16561\": 6700,\\n        \"16562\": 5600,\\n        \"16563\": 6700,\\n        \"16564\": 6100,\\n        \"16565\": 27300,\\n        \"16566\": 14500,\\n        \"16567\": 27300,\\n        \"16568\": 7200,\\n        \"16569\": 4800,\\n        \"16570\": 6900,\\n        \"16571\": 5900,\\n        \"16572\": 10000,\\n        \"16573\": 27500,\\n        \"16574\": 5900,\\n        \"16575\": 7600,\\n        \"16576\": 4800,\\n        \"16577\": 3900,\\n        \"16578\": 5500,\\n        \"16579\": 9100,\\n        \"16580\": 4500,\\n        \"16581\": 11500,\\n        \"16582\": 4600,\\n        \"16583\": 17600,\\n        \"16584\": 6200,\\n        \"16585\": 3600,\\n        \"16586\": 4200,\\n        \"16587\": 26700,\\n        \"16588\": 10400,\\n        \"16589\": 8800,\\n        \"16590\": 5800,\\n        \"16591\": 3900,\\n        \"16592\": 2800,\\n        \"16593\": 4000,\\n        \"16594\": 71800,\\n        \"16595\": 28100,\\n        \"16596\": 6400,\\n        \"16597\": 8700,\\n        \"16598\": 8700,\\n        \"16599\": 4400,\\n        \"16600\": 4700,\\n        \"16601\": 8900,\\n        \"16602\": 5400,\\n        \"16603\": 9300,\\n        \"16604\": 12000,\\n        \"16605\": 9200,\\n        \"16606\": 4900,\\n        \"16607\": 11200,\\n        \"16608\": 9400,\\n        \"16609\": 7800,\\n        \"16610\": 12500,\\n        \"16611\": 18400,\\n        \"16612\": 9600,\\n        \"16613\": 33400,\\n        \"16614\": 20100,\\n        \"16615\": 12200,\\n        \"16616\": 8700,\\n        \"16617\": 7200,\\n        \"16618\": 5800,\\n        \"16619\": 4800,\\n        \"16620\": 4400,\\n        \"16621\": 5800,\\n        \"16622\": 13300,\\n        \"16623\": 6800,\\n        \"16624\": 12600,\\n        \"16625\": 6400,\\n        \"16626\": 5800,\\n        \"16627\": 6400,\\n        \"16628\": 4100,\\n        \"16629\": 3100,\\n        \"16630\": 8000,\\n        \"16631\": 9500\\n      },\\n      \"retweets\": {\\n        \"16542\": 1400,\\n        \"16543\": 16100,\\n        \"16544\": 5200,\\n        \"16545\": 10800,\\n        \"16546\": 2280,\\n        \"16547\": 2934,\\n        \"16548\": 5300,\\n        \"16549\": 1500,\\n        \"16550\": 1800,\\n        \"16551\": 1500,\\n        \"16552\": 1100,\\n        \"16553\": 100,\\n        \"16554\": 400,\\n        \"16555\": 1400,\\n        \"16556\": 1000,\\n        \"16557\": 300,\\n        \"16558\": 65800,\\n        \"16559\": 13200,\\n        \"16560\": 4600,\\n        \"16561\": 2500,\\n        \"16562\": 1000,\\n        \"16563\": 1700,\\n        \"16564\": 1600,\\n        \"16565\": 10800,\\n        \"16566\": 3600,\\n        \"16567\": 29700,\\n        \"16568\": 16600,\\n        \"16569\": 6000,\\n        \"16570\": 2700,\\n        \"16571\": 2200,\\n        \"16572\": 1900,\\n        \"16573\": 2800,\\n        \"16574\": 2600,\\n        \"16575\": 8300,\\n        \"16576\": 2900,\\n        \"16577\": 2300,\\n        \"16578\": 1500,\\n        \"16579\": 1300,\\n        \"16580\": 1200,\\n        \"16581\": 60400,\\n        \"16582\": 8700,\\n        \"16583\": 4400,\\n        \"16584\": 3300,\\n        \"16585\": 1100,\\n        \"16586\": 1800,\\n        \"16587\": 5700,\\n        \"16588\": 2500,\\n        \"16589\": 2100,\\n        \"16590\": 1300,\\n        \"16591\": 1100,\\n        \"16592\": 1100,\\n        \"16593\": 1100,\\n        \"16594\": 6200,\\n        \"16595\": 4800,\\n        \"16596\": 16300,\\n        \"16597\": 3900,\\n        \"16598\": 2400,\\n        \"16599\": 1900,\\n        \"16600\": 1400,\\n        \"16601\": 1600,\\n        \"16602\": 1300,\\n        \"16603\": 700,\\n        \"16604\": 1600,\\n        \"16605\": 1000,\\n        \"16606\": 1000,\\n        \"16607\": 1700,\\n        \"16608\": 1500,\\n        \"16609\": 1900,\\n        \"16610\": 900,\\n        \"16611\": 1300,\\n        \"16612\": 3500,\\n        \"16613\": 3500,\\n        \"16614\": 2300,\\n        \"16615\": 2200,\\n        \"16616\": 1900,\\n        \"16617\": 800,\\n        \"16618\": 1200,\\n        \"16619\": 1300,\\n        \"16620\": 400,\\n        \"16621\": 800,\\n        \"16622\": 20800,\\n        \"16623\": 6300,\\n        \"16624\": 8700,\\n        \"16625\": 2300,\\n        \"16626\": 3100,\\n        \"16627\": 1700,\\n        \"16628\": 1600,\\n        \"16629\": 1700,\\n        \"16630\": 16200,\\n        \"16631\": 2400\\n      },\\n      \"fans\": {\\n        \"16542\": 11988196,\\n        \"16543\": 11996338,\\n        \"16544\": 12004625,\\n        \"16545\": 12013209,\\n        \"16546\": 12021287,\\n        \"16547\": 12028749,\\n        \"16548\": 12036577,\\n        \"16549\": 12044571,\\n        \"16550\": 12054659,\\n        \"16551\": 12064793,\\n        \"16552\": 12073889,\\n        \"16553\": 12080667,\\n        \"16554\": 12087416,\\n        \"16555\": 12093287,\\n        \"16556\": 12099608,\\n        \"16557\": 12105377,\\n        \"16558\": 12112059,\\n        \"16559\": 12124830,\\n        \"16560\": 12135940,\\n        \"16561\": 12150857,\\n        \"16562\": 12164317,\\n        \"16563\": 12176653,\\n        \"16564\": 12189355,\\n        \"16565\": 12202529,\\n        \"16566\": 12217088,\\n        \"16567\": 12231677,\\n        \"16568\": 12247922,\\n        \"16569\": 12261859,\\n        \"16570\": 12276335,\\n        \"16571\": 12292755,\\n        \"16572\": 12307181,\\n        \"16573\": 12323948,\\n        \"16574\": 12338983,\\n        \"16575\": 12354052,\\n        \"16576\": 12368224,\\n        \"16577\": 12381962,\\n        \"16578\": 12395955,\\n        \"16579\": 12411345,\\n        \"16580\": 12426619,\\n        \"16581\": 12446662,\\n        \"16582\": 12467206,\\n        \"16583\": 12486366,\\n        \"16584\": 12502732,\\n        \"16585\": 12518146,\\n        \"16586\": 12534113,\\n        \"16587\": 12551326,\\n        \"16588\": 12571888,\\n        \"16589\": 12590806,\\n        \"16590\": 12607675,\\n        \"16591\": 12623288,\\n        \"16592\": 12638473,\\n        \"16593\": 12653703,\\n        \"16594\": 12669204,\\n        \"16595\": 12690463,\\n        \"16596\": 12706191,\\n        \"16597\": 12722048,\\n        \"16598\": 12736626,\\n        \"16599\": 12750861,\\n        \"16600\": 12764548,\\n        \"16601\": 12778711,\\n        \"16602\": 12793349,\\n        \"16603\": 12808725,\\n        \"16604\": 12824277,\\n        \"16605\": 12839680,\\n        \"16606\": 12855441,\\n        \"16607\": 12871355,\\n        \"16608\": 12887916,\\n        \"16609\": 12904755,\\n        \"16610\": 12921732,\\n        \"16611\": 12938629,\\n        \"16612\": 12957055,\\n        \"16613\": 12975158,\\n        \"16614\": 12998780,\\n        \"16615\": 13019796,\\n        \"16616\": 13036720,\\n        \"16617\": 13053653,\\n        \"16618\": 13069514,\\n        \"16619\": 13084614,\\n        \"16620\": 13098906,\\n        \"16621\": 13113036,\\n        \"16622\": 13128394,\\n        \"16623\": 13144133,\\n        \"16624\": 13161625,\\n        \"16625\": 13179944,\\n        \"16626\": 13198984,\\n        \"16627\": 13216987,\\n        \"16628\": 13233803,\\n        \"16629\": 13251756,\\n        \"16630\": 13269376,\\n        \"16631\": 13291132\\n      },\\n      \"friends\": {\\n        \"16542\": 1,\\n        \"16543\": 1,\\n        \"16544\": 1,\\n        \"16545\": 1,\\n        \"16546\": 1,\\n        \"16547\": 1,\\n        \"16548\": 1,\\n        \"16549\": 1,\\n        \"16550\": 1,\\n        \"16551\": 1,\\n        \"16552\": 1,\\n        \"16553\": 1,\\n        \"16554\": 1,\\n        \"16555\": 1,\\n        \"16556\": 1,\\n        \"16557\": 1,\\n        \"16558\": 1,\\n        \"16559\": 1,\\n        \"16560\": 1,\\n        \"16561\": 1,\\n        \"16562\": 1,\\n        \"16563\": 1,\\n        \"16564\": 1,\\n        \"16565\": 1,\\n        \"16566\": 1,\\n        \"16567\": 1,\\n        \"16568\": 1,\\n        \"16569\": 1,\\n        \"16570\": 1,\\n        \"16571\": 1,\\n        \"16572\": 1,\\n        \"16573\": 1,\\n        \"16574\": 1,\\n        \"16575\": 1,\\n        \"16576\": 1,\\n        \"16577\": 1,\\n        \"16578\": 1,\\n        \"16579\": 1,\\n        \"16580\": 1,\\n        \"16581\": 1,\\n        \"16582\": 1,\\n        \"16583\": 1,\\n        \"16584\": 1,\\n        \"16585\": 1,\\n        \"16586\": 1,\\n        \"16587\": 1,\\n        \"16588\": 1,\\n        \"16589\": 1,\\n        \"16590\": 1,\\n        \"16591\": 1,\\n        \"16592\": 1,\\n        \"16593\": 1,\\n        \"16594\": 1,\\n        \"16595\": 1,\\n        \"16596\": 1,\\n        \"16597\": 1,\\n        \"16598\": 1,\\n        \"16599\": 1,\\n        \"16600\": 1,\\n        \"16601\": 1,\\n        \"16602\": 1,\\n        \"16603\": 1,\\n        \"16604\": 1,\\n        \"16605\": 1,\\n        \"16606\": 1,\\n        \"16607\": 1,\\n        \"16608\": 1,\\n        \"16609\": 1,\\n        \"16610\": 1,\\n        \"16611\": 1,\\n        \"16612\": 1,\\n        \"16613\": 1,\\n        \"16614\": 1,\\n        \"16615\": 1,\\n        \"16616\": 1,\\n        \"16617\": 1,\\n        \"16618\": 1,\\n        \"16619\": 1,\\n        \"16620\": 1,\\n        \"16621\": 1,\\n        \"16622\": 1,\\n        \"16623\": 1,\\n        \"16624\": 1,\\n        \"16625\": 1,\\n        \"16626\": 1,\\n        \"16627\": 1,\\n        \"16628\": 1,\\n        \"16629\": 1,\\n        \"16630\": 1,\\n        \"16631\": 1\\n      },\\n      \"lists\": {\\n        \"16542\": 46088,\\n        \"16543\": 46082,\\n        \"16544\": 46081,\\n        \"16545\": 46091,\\n        \"16546\": 46082,\\n        \"16547\": 46082,\\n        \"16548\": 46098,\\n        \"16549\": 46099,\\n        \"16550\": 46107,\\n        \"16551\": 46111,\\n        \"16552\": 46110,\\n        \"16553\": 46121,\\n        \"16554\": 46113,\\n        \"16555\": 46113,\\n        \"16556\": 46121,\\n        \"16557\": 46131,\\n        \"16558\": 46129,\\n        \"16559\": 46142,\\n        \"16560\": 46137,\\n        \"16561\": 46143,\\n        \"16562\": 46142,\\n        \"16563\": 46145,\\n        \"16564\": 46140,\\n        \"16565\": 46145,\\n        \"16566\": 46150,\\n        \"16567\": 46159,\\n        \"16568\": 46169,\\n        \"16569\": 46165,\\n        \"16570\": 46170,\\n        \"16571\": 46164,\\n        \"16572\": 46157,\\n        \"16573\": 46151,\\n        \"16574\": 46150,\\n        \"16575\": 46135,\\n        \"16576\": 46125,\\n        \"16577\": 46130,\\n        \"16578\": 46125,\\n        \"16579\": 46116,\\n        \"16580\": 46115,\\n        \"16581\": 46113,\\n        \"16582\": 46111,\\n        \"16583\": 46103,\\n        \"16584\": 46097,\\n        \"16585\": 46099,\\n        \"16586\": 46092,\\n        \"16587\": 46085,\\n        \"16588\": 46094,\\n        \"16589\": 46086,\\n        \"16590\": 46072,\\n        \"16591\": 46048,\\n        \"16592\": 46037,\\n        \"16593\": 46045,\\n        \"16594\": 46039,\\n        \"16595\": 46044,\\n        \"16596\": 46040,\\n        \"16597\": 46047,\\n        \"16598\": 46041,\\n        \"16599\": 46033,\\n        \"16600\": 46029,\\n        \"16601\": 46022,\\n        \"16602\": 46019,\\n        \"16603\": 46020,\\n        \"16604\": 46017,\\n        \"16605\": 46014,\\n        \"16606\": 46004,\\n        \"16607\": 46002,\\n        \"16608\": 46008,\\n        \"16609\": 45999,\\n        \"16610\": 46002,\\n        \"16611\": 45995,\\n        \"16612\": 46000,\\n        \"16613\": 46004,\\n        \"16614\": 46007,\\n        \"16615\": 45994,\\n        \"16616\": 45990,\\n        \"16617\": 45976,\\n        \"16618\": 45969,\\n        \"16619\": 45982,\\n        \"16620\": 45977,\\n        \"16621\": 45971,\\n        \"16622\": 45968,\\n        \"16623\": 45963,\\n        \"16624\": 45967,\\n        \"16625\": 45970,\\n        \"16626\": 45972,\\n        \"16627\": 45981,\\n        \"16628\": 45986,\\n        \"16629\": 45987,\\n        \"16630\": 45994,\\n        \"16631\": 45997\\n      },\\n      \"statuses\": {\\n        \"16542\": 176,\\n        \"16543\": 176,\\n        \"16544\": 177,\\n        \"16545\": 177,\\n        \"16546\": 178,\\n        \"16547\": 178,\\n        \"16548\": 179,\\n        \"16549\": 179,\\n        \"16550\": 179,\\n        \"16551\": 179,\\n        \"16552\": 179,\\n        \"16553\": 179,\\n        \"16554\": 179,\\n        \"16555\": 179,\\n        \"16556\": 179,\\n        \"16557\": 179,\\n        \"16558\": 179,\\n        \"16559\": 181,\\n        \"16560\": 181,\\n        \"16561\": 181,\\n        \"16562\": 181,\\n        \"16563\": 181,\\n        \"16564\": 181,\\n        \"16565\": 181,\\n        \"16566\": 181,\\n        \"16567\": 181,\\n        \"16568\": 183,\\n        \"16569\": 183,\\n        \"16570\": 183,\\n        \"16571\": 183,\\n        \"16572\": 183,\\n        \"16573\": 183,\\n        \"16574\": 183,\\n        \"16575\": 183,\\n        \"16576\": 184,\\n        \"16577\": 184,\\n        \"16578\": 184,\\n        \"16579\": 184,\\n        \"16580\": 184,\\n        \"16581\": 185,\\n        \"16582\": 185,\\n        \"16583\": 185,\\n        \"16584\": 185,\\n        \"16585\": 185,\\n        \"16586\": 185,\\n        \"16587\": 185,\\n        \"16588\": 185,\\n        \"16589\": 185,\\n        \"16590\": 185,\\n        \"16591\": 185,\\n        \"16592\": 185,\\n        \"16593\": 185,\\n        \"16594\": 185,\\n        \"16595\": 185,\\n        \"16596\": 185,\\n        \"16597\": 186,\\n        \"16598\": 186,\\n        \"16599\": 186,\\n        \"16600\": 186,\\n        \"16601\": 186,\\n        \"16602\": 186,\\n        \"16603\": 186,\\n        \"16604\": 186,\\n        \"16605\": 186,\\n        \"16606\": 186,\\n        \"16607\": 186,\\n        \"16608\": 186,\\n        \"16609\": 186,\\n        \"16610\": 186,\\n        \"16611\": 186,\\n        \"16612\": 186,\\n        \"16613\": 187,\\n        \"16614\": 187,\\n        \"16615\": 187,\\n        \"16616\": 187,\\n        \"16617\": 187,\\n        \"16618\": 187,\\n        \"16619\": 187,\\n        \"16620\": 187,\\n        \"16621\": 187,\\n        \"16622\": 187,\\n        \"16623\": 189,\\n        \"16624\": 189,\\n        \"16625\": 190,\\n        \"16626\": 190,\\n        \"16627\": 190,\\n        \"16628\": 190,\\n        \"16629\": 190,\\n        \"16630\": 191,\\n        \"16631\": 191\\n      }\\n    }\\n  },\\n  {\\n    \"Service\": {\\n      \"name\": \"YouTube\",\\n      \"id\": 7\\n    },\\n    \"Profile\": {\\n      \"url\": \"http:\\\\/\\\\/www.youtube.com\\\\/channel\\\\/UChpJbg7zMbi5jx9Gdjaxa9g\",\\n      \"id\": 964771\\n    },\\n    \"Metric\": {\\n      \"fans\": {\\n        \"16542\": 1903791,\\n        \"16543\": 1905375,\\n        \"16544\": 1907110,\\n        \"16545\": 1908622,\\n        \"16546\": 1910056,\\n        \"16547\": 1911494,\\n        \"16548\": 1912954,\\n        \"16549\": 1914405,\\n        \"16550\": 1915862,\\n        \"16551\": 1917461,\\n        \"16552\": 1918875,\\n        \"16553\": 1920082,\\n        \"16554\": 1921386,\\n        \"16555\": 1922705,\\n        \"16556\": 1924092,\\n        \"16557\": 1925619,\\n        \"16558\": 1927150,\\n        \"16559\": 1928817,\\n        \"16560\": 1930321,\\n        \"16561\": 1931826,\\n        \"16562\": 1933339,\\n        \"16563\": 1934808,\\n        \"16564\": 1936416,\\n        \"16565\": 1938109,\\n        \"16566\": 1939774,\\n        \"16567\": 1941287,\\n        \"16568\": 1942769,\\n        \"16569\": 1944298,\\n        \"16570\": 1945682,\\n        \"16571\": 1947199,\\n        \"16572\": 1948947,\\n        \"16573\": 1950753,\\n        \"16574\": 1952526,\\n        \"16575\": 1954145,\\n        \"16576\": 1955600,\\n        \"16577\": 1956941,\\n        \"16578\": 1958262,\\n        \"16579\": 1959732,\\n        \"16580\": 1961143,\\n        \"16581\": 1962570,\\n        \"16582\": 1963849,\\n        \"16583\": 1965037,\\n        \"16584\": 1966369,\\n        \"16585\": 1967889,\\n        \"16586\": 1969542,\\n        \"16587\": 1971023,\\n        \"16588\": 1972402,\\n        \"16589\": 1973882,\\n        \"16590\": 1975374,\\n        \"16591\": 1976796,\\n        \"16592\": 1977886,\\n        \"16593\": 1979334,\\n        \"16594\": 1980747,\\n        \"16595\": 1982272,\\n        \"16596\": 1983721,\\n        \"16597\": 1985213,\\n        \"16598\": 1986688,\\n        \"16599\": 1988128,\\n        \"16600\": 1989693,\\n        \"16601\": 1991163,\\n        \"16602\": 1992555,\\n        \"16603\": 1993831,\\n        \"16604\": 1995203,\\n        \"16605\": 1996561,\\n        \"16606\": 1997912,\\n        \"16607\": 1999273,\\n        \"16608\": 2000679,\\n        \"16609\": 2001957,\\n        \"16610\": 2003340,\\n        \"16611\": 2004697,\\n        \"16612\": 2006128,\\n        \"16613\": 2007555,\\n        \"16614\": 2009168,\\n        \"16615\": 2010991,\\n        \"16616\": 2012571,\\n        \"16617\": 2014003,\\n        \"16618\": 2015555,\\n        \"16619\": 2017050,\\n        \"16620\": 2018510,\\n        \"16621\": 2019928,\\n        \"16622\": 2021254,\\n        \"16623\": 2022683,\\n        \"16624\": 2024130,\\n        \"16625\": 2025583,\\n        \"16626\": 2026996,\\n        \"16627\": 2028423,\\n        \"16628\": 2029784,\\n        \"16629\": 2030969,\\n        \"16630\": 2032292,\\n        \"16631\": 2033549\\n      },\\n      \"likes\": {\\n        \"16542\": 4769614,\\n        \"16543\": 4774372,\\n        \"16544\": 4779174,\\n        \"16548\": 4796303,\\n        \"16549\": 4800618,\\n        \"16550\": 4805070,\\n        \"16551\": 4809840,\\n        \"16552\": 4814209,\\n        \"16553\": 4817986,\\n        \"16554\": 4822058,\\n        \"16555\": 4826211,\\n        \"16556\": 4830572,\\n        \"16557\": 4834951,\\n        \"16558\": 4839558,\\n        \"16559\": 4844947,\\n        \"16560\": 4850029,\\n        \"16561\": 4854969,\\n        \"16562\": 4859552,\\n        \"16563\": 4864162,\\n        \"16564\": 4869270,\\n        \"16565\": 4874551,\\n        \"16566\": 4879693,\\n        \"16567\": 4884402,\\n        \"16568\": 4888827,\\n        \"16569\": 4893441,\\n        \"16570\": 4898159,\\n        \"16571\": 4902900,\\n        \"16572\": 4908078,\\n        \"16573\": 4913360,\\n        \"16574\": 4918501,\\n        \"16575\": 4923151,\\n        \"16576\": 4927594,\\n        \"16577\": 4931944,\\n        \"16578\": 4936266,\\n        \"16579\": 4940909,\\n        \"16580\": 4945555,\\n        \"16581\": 4949917,\\n        \"16582\": 4953799,\\n        \"16583\": 4957832,\\n        \"16584\": 4961916,\\n        \"16585\": 4966617,\\n        \"16586\": 4971554,\\n        \"16587\": 4976255,\\n        \"16588\": 4980312,\\n        \"16589\": 4984884,\\n        \"16590\": 4990215,\\n        \"16591\": 4993690,\\n        \"16592\": 4998195,\\n        \"16593\": 5002570,\\n        \"16594\": 5006894,\\n        \"16595\": 5011673,\\n        \"16596\": 5016269,\\n        \"16597\": 5021150,\\n        \"16598\": 5025688,\\n        \"16599\": 5030323,\\n        \"16600\": 5035029,\\n        \"16601\": 5039496,\\n        \"16602\": 5043690,\\n        \"16603\": 5048108,\\n        \"16604\": 5052658,\\n        \"16605\": 5057142,\\n        \"16606\": 5061562,\\n        \"16607\": 5066100,\\n        \"16608\": 5070164,\\n        \"16609\": 5074534,\\n        \"16610\": 5078957,\\n        \"16611\": 5083353,\\n        \"16612\": 5088058,\\n        \"16613\": 5092581,\\n        \"16614\": 5097794,\\n        \"16615\": 5103567,\\n        \"16616\": 5108631,\\n        \"16617\": 5113432,\\n        \"16618\": 5118017,\\n        \"16619\": 5122940,\\n        \"16620\": 5127539,\\n        \"16621\": 5131818,\\n        \"16622\": 5136176,\\n        \"16623\": 5140770,\\n        \"16624\": 5145268,\\n        \"16625\": 5149414,\\n        \"16626\": 5153682,\\n        \"16627\": 5158153,\\n        \"16628\": 5162419,\\n        \"16629\": 5166525,\\n        \"16630\": 5170786,\\n        \"16631\": 5175090,\\n        \"16545\": 4783457,\\n        \"16546\": 4787739,\\n        \"16547\": 4792022\\n      },\\n      \"plays\": {\\n        \"16542\": 1293272485,\\n        \"16543\": 1294205198,\\n        \"16544\": 1295169366,\\n        \"16548\": 1298508038,\\n        \"16549\": 1299350480,\\n        \"16550\": 1300221113,\\n        \"16551\": 1301133073,\\n        \"16552\": 1301950573,\\n        \"16553\": 1302719006,\\n        \"16554\": 1303524948,\\n        \"16555\": 1304338349,\\n        \"16556\": 1305185124,\\n        \"16557\": 1306088498,\\n        \"16558\": 1306964679,\\n        \"16559\": 1307861579,\\n        \"16560\": 1308751204,\\n        \"16561\": 1309617206,\\n        \"16562\": 1310452808,\\n        \"16563\": 1311332731,\\n        \"16564\": 1312666586,\\n        \"16565\": 1313612176,\\n        \"16566\": 1314409516,\\n        \"16567\": 1315325879,\\n        \"16568\": 1316057265,\\n        \"16569\": 1316196364,\\n        \"16570\": 1317525779,\\n        \"16571\": 1318540939,\\n        \"16572\": 1319340632,\\n        \"16573\": 1319942253,\\n        \"16574\": 1321577550,\\n        \"16575\": 1322429292,\\n        \"16576\": 1325321131,\\n        \"16577\": 1326131219,\\n        \"16578\": 1327001623,\\n        \"16579\": 1327882552,\\n        \"16580\": 1328697776,\\n        \"16581\": 1329477908,\\n        \"16582\": 1330234606,\\n        \"16583\": 1331148194,\\n        \"16584\": 1331937202,\\n        \"16585\": 1332765438,\\n        \"16586\": 1333649053,\\n        \"16587\": 1334422336,\\n        \"16588\": 1335197180,\\n        \"16589\": 1335993743,\\n        \"16590\": 1336920386,\\n        \"16591\": 1337597617,\\n        \"16592\": 1338418357,\\n        \"16593\": 1339242539,\\n        \"16594\": 1339976091,\\n        \"16595\": 1340741075,\\n        \"16596\": 1341526101,\\n        \"16597\": 1342345966,\\n        \"16598\": 1343140399,\\n        \"16599\": 1344003696,\\n        \"16600\": 1344830042,\\n        \"16601\": 1345579201,\\n        \"16602\": 1346317484,\\n        \"16603\": 1347044188,\\n        \"16604\": 1347787404,\\n        \"16605\": 1348563448,\\n        \"16606\": 1349364424,\\n        \"16607\": 1350148856,\\n        \"16608\": 1350870607,\\n        \"16609\": 1351617055,\\n        \"16610\": 1352378431,\\n        \"16611\": 1353133294,\\n        \"16612\": 1353925649,\\n        \"16613\": 1354724654,\\n        \"16614\": 1355570568,\\n        \"16615\": 1356483917,\\n        \"16616\": 1357345159,\\n        \"16617\": 1358164018,\\n        \"16618\": 1359010897,\\n        \"16619\": 1359864281,\\n        \"16620\": 1360707835,\\n        \"16621\": 1361479745,\\n        \"16622\": 1362206784,\\n        \"16623\": 1362969736,\\n        \"16624\": 1363743068,\\n        \"16625\": 1364537022,\\n        \"16626\": 1365334694,\\n        \"16627\": 1366186787,\\n        \"16628\": 1366967547,\\n        \"16629\": 1367661611,\\n        \"16630\": 1368391399,\\n        \"16631\": 1369130739,\\n        \"16545\": 1296004035,\\n        \"16546\": 1296838702,\\n        \"16547\": 1297673371\\n      },\\n      \"favorites\": [\\n        \\n      ],\\n      \"raters\": {\\n        \"16542\": 5441451,\\n        \"16543\": 5446554,\\n        \"16544\": 5451738,\\n        \"16548\": 5470125,\\n        \"16549\": 5474715,\\n        \"16550\": 5479526,\\n        \"16551\": 5484635,\\n        \"16552\": 5489360,\\n        \"16553\": 5493408,\\n        \"16554\": 5497785,\\n        \"16555\": 5502349,\\n        \"16556\": 5507051,\\n        \"16557\": 5511758,\\n        \"16558\": 5516719,\\n        \"16559\": 5522610,\\n        \"16560\": 5528113,\\n        \"16561\": 5533424,\\n        \"16562\": 5538358,\\n        \"16563\": 5543265,\\n        \"16564\": 5548732,\\n        \"16565\": 5554412,\\n        \"16566\": 5559940,\\n        \"16567\": 5565059,\\n        \"16568\": 5569831,\\n        \"16569\": 5574843,\\n        \"16570\": 5579911,\\n        \"16571\": 5584974,\\n        \"16572\": 5590578,\\n        \"16573\": 5596326,\\n        \"16574\": 5601914,\\n        \"16575\": 5606934,\\n        \"16576\": 5611708,\\n        \"16577\": 5616396,\\n        \"16578\": 5621076,\\n        \"16579\": 5626054,\\n        \"16580\": 5631108,\\n        \"16581\": 5635830,\\n        \"16582\": 5640016,\\n        \"16583\": 5644359,\\n        \"16584\": 5648772,\\n        \"16585\": 5653863,\\n        \"16586\": 5659178,\\n        \"16587\": 5664234,\\n        \"16588\": 5668586,\\n        \"16589\": 5673510,\\n        \"16590\": 5679236,\\n        \"16591\": 5683094,\\n        \"16592\": 5687969,\\n        \"16593\": 5692734,\\n        \"16594\": 5697411,\\n        \"16595\": 5702526,\\n        \"16596\": 5707432,\\n        \"16597\": 5712667,\\n        \"16598\": 5717580,\\n        \"16599\": 5722567,\\n        \"16600\": 5727633,\\n        \"16601\": 5732440,\\n        \"16602\": 5736919,\\n        \"16603\": 5741709,\\n        \"16604\": 5746635,\\n        \"16605\": 5751437,\\n        \"16606\": 5756165,\\n        \"16607\": 5761024,\\n        \"16608\": 5765404,\\n        \"16609\": 5770103,\\n        \"16610\": 5774839,\\n        \"16611\": 5779572,\\n        \"16612\": 5784630,\\n        \"16613\": 5789431,\\n        \"16614\": 5795049,\\n        \"16615\": 5801333,\\n        \"16616\": 5806906,\\n        \"16617\": 5812221,\\n        \"16618\": 5817291,\\n        \"16619\": 5822646,\\n        \"16620\": 5827725,\\n        \"16621\": 5832417,\\n        \"16622\": 5837162,\\n        \"16623\": 5842126,\\n        \"16624\": 5847033,\\n        \"16625\": 5851574,\\n        \"16626\": 5856219,\\n        \"16627\": 5861054,\\n        \"16628\": 5865650,\\n        \"16629\": 5870031,\\n        \"16630\": 5874648,\\n        \"16631\": 5879325,\\n        \"16545\": 5456335,\\n        \"16546\": 5460931,\\n        \"16547\": 5465529\\n      }\\n    }\\n  },\\n  {\\n    \"Service\": {\\n      \"name\": \"YouTube\",\\n      \"id\": 7\\n    },\\n    \"Profile\": {\\n      \"url\": \"http:\\\\/\\\\/www.youtube.com\\\\/channel\\\\/UCs6eXM7s8Vl5WcECcRHc2qQ\",\\n      \"id\": 964787\\n    },\\n    \"Metric\": {\\n      \"fans\": {\\n        \"16542\": 1903791,\\n        \"16631\": 2033549,\\n        \"16543\": 1905375,\\n        \"16544\": 1907110,\\n        \"16545\": 1908622,\\n        \"16546\": 1910056,\\n        \"16547\": 1911494,\\n        \"16548\": 1912954,\\n        \"16549\": 1914405,\\n        \"16550\": 1915862,\\n        \"16551\": 1917461,\\n        \"16552\": 1918875,\\n        \"16553\": 1920082,\\n        \"16554\": 1921386,\\n        \"16555\": 1922705,\\n        \"16556\": 1924092,\\n        \"16557\": 1925619,\\n        \"16558\": 1927150,\\n        \"16559\": 1928817,\\n        \"16560\": 1930321,\\n        \"16561\": 1931826,\\n        \"16562\": 1933339,\\n        \"16563\": 1934808,\\n        \"16564\": 1936416,\\n        \"16565\": 1938109,\\n        \"16566\": 1939774,\\n        \"16567\": 1941287,\\n        \"16568\": 1942769,\\n        \"16569\": 1944298,\\n        \"16570\": 1945682,\\n        \"16571\": 1947199,\\n        \"16572\": 1948947,\\n        \"16573\": 1950753,\\n        \"16574\": 1952526,\\n        \"16575\": 1954145,\\n        \"16576\": 1955600,\\n        \"16577\": 1956941,\\n        \"16578\": 1958262,\\n        \"16579\": 1959732,\\n        \"16580\": 1961143,\\n        \"16581\": 1962570,\\n        \"16582\": 1963849,\\n        \"16583\": 1965037,\\n        \"16584\": 1966369,\\n        \"16585\": 1967889,\\n        \"16586\": 1969542,\\n        \"16587\": 1971023,\\n        \"16588\": 1972402,\\n        \"16589\": 1973882,\\n        \"16590\": 1975374,\\n        \"16591\": 1976796,\\n        \"16592\": 1977886,\\n        \"16593\": 1979334,\\n        \"16594\": 1980747,\\n        \"16595\": 1982272,\\n        \"16596\": 1983721,\\n        \"16597\": 1985213,\\n        \"16598\": 1986688,\\n        \"16599\": 1988128,\\n        \"16600\": 1989693,\\n        \"16601\": 1991163,\\n        \"16602\": 1992555,\\n        \"16603\": 1993831,\\n        \"16604\": 1995203,\\n        \"16605\": 1996561,\\n        \"16606\": 1997912,\\n        \"16607\": 1999273,\\n        \"16608\": 2000679,\\n        \"16609\": 2001957,\\n        \"16610\": 2003340,\\n        \"16611\": 2004697,\\n        \"16612\": 2006128,\\n        \"16613\": 2007555,\\n        \"16614\": 2009168,\\n        \"16615\": 2010991,\\n        \"16616\": 2012571,\\n        \"16617\": 2014003,\\n        \"16618\": 2015555,\\n        \"16619\": 2017050,\\n        \"16620\": 2018510,\\n        \"16621\": 2019928,\\n        \"16622\": 2021254,\\n        \"16623\": 2022683,\\n        \"16624\": 2024130,\\n        \"16625\": 2025583,\\n        \"16626\": 2026996,\\n        \"16627\": 2028423,\\n        \"16628\": 2029784,\\n        \"16629\": 2030969,\\n        \"16630\": 2032292\\n      },\\n      \"likes\": {\\n        \"16542\": 4769614,\\n        \"16543\": 4774372,\\n        \"16544\": 4779174,\\n        \"16548\": 4796303,\\n        \"16549\": 4800618,\\n        \"16550\": 4805070,\\n        \"16551\": 4809840,\\n        \"16552\": 4814209,\\n        \"16553\": 4817986,\\n        \"16554\": 4822058,\\n        \"16555\": 4826211,\\n        \"16556\": 4830572,\\n        \"16557\": 4834951,\\n        \"16558\": 4839558,\\n        \"16559\": 4844947,\\n        \"16560\": 4850029,\\n        \"16561\": 4854969,\\n        \"16562\": 4859552,\\n        \"16563\": 4864162,\\n        \"16564\": 4869270,\\n        \"16565\": 4874551,\\n        \"16566\": 4879693,\\n        \"16567\": 4884402,\\n        \"16568\": 4888827,\\n        \"16569\": 4893441,\\n        \"16570\": 4898159,\\n        \"16571\": 4902900,\\n        \"16572\": 4908078,\\n        \"16573\": 4913360,\\n        \"16574\": 4918501,\\n        \"16575\": 4923151,\\n        \"16576\": 4927594,\\n        \"16577\": 4931944,\\n        \"16578\": 4936266,\\n        \"16579\": 4940909,\\n        \"16580\": 4945555,\\n        \"16581\": 4949917,\\n        \"16582\": 4953799,\\n        \"16583\": 4957832,\\n        \"16584\": 4961916,\\n        \"16585\": 4966617,\\n        \"16586\": 4971554,\\n        \"16587\": 4976255,\\n        \"16588\": 4980312,\\n        \"16589\": 4984884,\\n        \"16590\": 4990215,\\n        \"16591\": 4993690,\\n        \"16592\": 4998195,\\n        \"16593\": 5002570,\\n        \"16594\": 5006894,\\n        \"16595\": 5011673,\\n        \"16596\": 5016269,\\n        \"16597\": 5021150,\\n        \"16598\": 5025688,\\n        \"16599\": 5030323,\\n        \"16600\": 5035029,\\n        \"16601\": 5039496,\\n        \"16602\": 5043690,\\n        \"16603\": 5048108,\\n        \"16604\": 5052658,\\n        \"16605\": 5057142,\\n        \"16606\": 5061562,\\n        \"16607\": 5066100,\\n        \"16608\": 5070164,\\n        \"16609\": 5074534,\\n        \"16610\": 5078957,\\n        \"16611\": 5083353,\\n        \"16612\": 5088058,\\n        \"16613\": 5092581,\\n        \"16614\": 5097794,\\n        \"16615\": 5103567,\\n        \"16616\": 5108631,\\n        \"16617\": 5113432,\\n        \"16618\": 5118017,\\n        \"16619\": 5122940,\\n        \"16620\": 5127539,\\n        \"16621\": 5131818,\\n        \"16622\": 5136176,\\n        \"16623\": 5140770,\\n        \"16624\": 5145268,\\n        \"16625\": 5149414,\\n        \"16626\": 5153682,\\n        \"16627\": 5158153,\\n        \"16628\": 5162419,\\n        \"16629\": 5166525,\\n        \"16630\": 5170786,\\n        \"16631\": 5175090,\\n        \"16545\": 4783457,\\n        \"16546\": 4787739,\\n        \"16547\": 4792022\\n      },\\n      \"plays\": {\\n        \"16542\": 1293272485,\\n        \"16543\": 1294205198,\\n        \"16544\": 1295169366,\\n        \"16548\": 1298508038,\\n        \"16549\": 1299350480,\\n        \"16550\": 1300221113,\\n        \"16551\": 1301133073,\\n        \"16552\": 1301950573,\\n        \"16553\": 1302719006,\\n        \"16554\": 1303524948,\\n        \"16555\": 1304338349,\\n        \"16556\": 1305185124,\\n        \"16557\": 1306088498,\\n        \"16558\": 1306964679,\\n        \"16559\": 1307861579,\\n        \"16560\": 1308751204,\\n        \"16561\": 1309617206,\\n        \"16562\": 1310452808,\\n        \"16563\": 1311332731,\\n        \"16564\": 1312666586,\\n        \"16565\": 1313612176,\\n        \"16566\": 1314409516,\\n        \"16567\": 1315325879,\\n        \"16568\": 1316057265,\\n        \"16569\": 1316196364,\\n        \"16570\": 1317525779,\\n        \"16571\": 1318540939,\\n        \"16572\": 1319340632,\\n        \"16573\": 1319942253,\\n        \"16574\": 1321577550,\\n        \"16575\": 1322429292,\\n        \"16576\": 1325321131,\\n        \"16577\": 1326131219,\\n        \"16578\": 1327001623,\\n        \"16579\": 1327882552,\\n        \"16580\": 1328697776,\\n        \"16581\": 1329477908,\\n        \"16582\": 1330234606,\\n        \"16583\": 1331148194,\\n        \"16584\": 1331937202,\\n        \"16585\": 1332765438,\\n        \"16586\": 1333649053,\\n        \"16587\": 1334422336,\\n        \"16588\": 1335197180,\\n        \"16589\": 1335993743,\\n        \"16590\": 1336920386,\\n        \"16591\": 1337597617,\\n        \"16592\": 1338418357,\\n        \"16593\": 1339242539,\\n        \"16594\": 1339976091,\\n        \"16595\": 1340741075,\\n        \"16596\": 1341526101,\\n        \"16597\": 1342345966,\\n        \"16598\": 1343140399,\\n        \"16599\": 1344003696,\\n        \"16600\": 1344830042,\\n        \"16601\": 1345579201,\\n        \"16602\": 1346317484,\\n        \"16603\": 1347044188,\\n        \"16604\": 1347787404,\\n        \"16605\": 1348563448,\\n        \"16606\": 1349364424,\\n        \"16607\": 1350148856,\\n        \"16608\": 1350870607,\\n        \"16609\": 1351617055,\\n        \"16610\": 1352378431,\\n        \"16611\": 1353133294,\\n        \"16612\": 1353925649,\\n        \"16613\": 1354724654,\\n        \"16614\": 1355570568,\\n        \"16615\": 1356483917,\\n        \"16616\": 1357345159,\\n        \"16617\": 1358164018,\\n        \"16618\": 1359010897,\\n        \"16619\": 1359864281,\\n        \"16620\": 1360707835,\\n        \"16621\": 1361479745,\\n        \"16622\": 1362206784,\\n        \"16623\": 1362969736,\\n        \"16624\": 1363743068,\\n        \"16625\": 1364537022,\\n        \"16626\": 1365334694,\\n        \"16627\": 1366186787,\\n        \"16628\": 1366967547,\\n        \"16629\": 1367661611,\\n        \"16630\": 1368391399,\\n        \"16631\": 1369130739,\\n        \"16545\": 1296004035,\\n        \"16546\": 1296838702,\\n        \"16547\": 1297673371\\n      },\\n      \"favorites\": [\\n        \\n      ],\\n      \"raters\": {\\n        \"16542\": 5441451,\\n        \"16543\": 5446554,\\n        \"16544\": 5451738,\\n        \"16548\": 5470125,\\n        \"16549\": 5474715,\\n        \"16550\": 5479526,\\n        \"16551\": 5484635,\\n        \"16552\": 5489360,\\n        \"16553\": 5493408,\\n        \"16554\": 5497785,\\n        \"16555\": 5502349,\\n        \"16556\": 5507051,\\n        \"16557\": 5511758,\\n        \"16558\": 5516719,\\n        \"16559\": 5522610,\\n        \"16560\": 5528113,\\n        \"16561\": 5533424,\\n        \"16562\": 5538358,\\n        \"16563\": 5543265,\\n        \"16564\": 5548732,\\n        \"16565\": 5554412,\\n        \"16566\": 5559940,\\n        \"16567\": 5565059,\\n        \"16568\": 5569831,\\n        \"16569\": 5574843,\\n        \"16570\": 5579911,\\n        \"16571\": 5584974,\\n        \"16572\": 5590578,\\n        \"16573\": 5596326,\\n        \"16574\": 5601914,\\n        \"16575\": 5606934,\\n        \"16576\": 5611708,\\n        \"16577\": 5616396,\\n        \"16578\": 5621076,\\n        \"16579\": 5626054,\\n        \"16580\": 5631108,\\n        \"16581\": 5635830,\\n        \"16582\": 5640016,\\n        \"16583\": 5644359,\\n        \"16584\": 5648772,\\n        \"16585\": 5653863,\\n        \"16586\": 5659178,\\n        \"16587\": 5664234,\\n        \"16588\": 5668586,\\n        \"16589\": 5673510,\\n        \"16590\": 5679236,\\n        \"16591\": 5683094,\\n        \"16592\": 5687969,\\n        \"16593\": 5692734,\\n        \"16594\": 5697411,\\n        \"16595\": 5702526,\\n        \"16596\": 5707432,\\n        \"16597\": 5712667,\\n        \"16598\": 5717580,\\n        \"16599\": 5722567,\\n        \"16600\": 5727633,\\n        \"16601\": 5732440,\\n        \"16602\": 5736919,\\n        \"16603\": 5741709,\\n        \"16604\": 5746635,\\n        \"16605\": 5751437,\\n        \"16606\": 5756165,\\n        \"16607\": 5761024,\\n        \"16608\": 5765404,\\n        \"16609\": 5770103,\\n        \"16610\": 5774839,\\n        \"16611\": 5779572,\\n        \"16612\": 5784630,\\n        \"16613\": 5789431,\\n        \"16614\": 5795049,\\n        \"16615\": 5801333,\\n        \"16616\": 5806906,\\n        \"16617\": 5812221,\\n        \"16618\": 5817291,\\n        \"16619\": 5822646,\\n        \"16620\": 5827725,\\n        \"16621\": 5832417,\\n        \"16622\": 5837162,\\n        \"16623\": 5842126,\\n        \"16624\": 5847033,\\n        \"16625\": 5851574,\\n        \"16626\": 5856219,\\n        \"16627\": 5861054,\\n        \"16628\": 5865650,\\n        \"16629\": 5870031,\\n        \"16630\": 5874648,\\n        \"16631\": 5879325,\\n        \"16545\": 5456335,\\n        \"16546\": 5460931,\\n        \"16547\": 5465529\\n      }\\n    }\\n  },\\n  {\\n    \"Service\": {\\n      \"name\": \"Vevo\",\\n      \"id\": 25\\n    },\\n    \"Profile\": {\\n      \"url\": \"http:\\\\/\\\\/www.vevo.com\\\\/artist\\\\/kanye-west\",\\n      \"id\": 964794\\n    },\\n    \"Metric\": {\\n      \"plays\": {\\n        \"16542\": 2246113732,\\n        \"16543\": 2249169607,\\n        \"16544\": 2253330083,\\n        \"16545\": 2257042195,\\n        \"16546\": 2260399062,\\n        \"16547\": 2263783615,\\n        \"16548\": 2267591241,\\n        \"16549\": 2271433646,\\n        \"16550\": 2274874044,\\n        \"16551\": 2279038362,\\n        \"16552\": 2282892476,\\n        \"16553\": 2285828730,\\n        \"16554\": 2288894648,\\n        \"16555\": 2292346875,\\n        \"16556\": 2295467671,\\n        \"16557\": 2299301745,\\n        \"16558\": 2302930474,\\n        \"16559\": 2306354923,\\n        \"16560\": 2309597619,\\n        \"16561\": 2312604715,\\n        \"16562\": 2316003919,\\n        \"16563\": 2319147102,\\n        \"16564\": 2323188803,\\n        \"16565\": 2327072468,\\n        \"16566\": 2330573999,\\n        \"16567\": 2332816250,\\n        \"16568\": 2335824469,\\n        \"16569\": 2337249709,\\n        \"16570\": 2341548469,\\n        \"16571\": 2344954128,\\n        \"16572\": 2348089756,\\n        \"16573\": 2348253616,\\n        \"16574\": 2352684957,\\n        \"16575\": 2358691721,\\n        \"16576\": 2366443047,\\n        \"16577\": 2369409367,\\n        \"16578\": 2372655873,\\n        \"16579\": 2376076543,\\n        \"16580\": 2378766852,\\n        \"16581\": 2381493934,\\n        \"16582\": 2383989525,\\n        \"16583\": 2387122787,\\n        \"16584\": 2389862639,\\n        \"16585\": 2392896252,\\n        \"16586\": 2396025715,\\n        \"16587\": 2398865811,\\n        \"16588\": 2401393742,\\n        \"16589\": 2404101316,\\n        \"16590\": 2406708500,\\n        \"16591\": 2407536295,\\n        \"16592\": 2412094722,\\n        \"16593\": 2415188942,\\n        \"16594\": 2417911461,\\n        \"16595\": 2420265365,\\n        \"16596\": 2423164016,\\n        \"16597\": 2425953849,\\n        \"16598\": 2429010794,\\n        \"16599\": 2431940945,\\n        \"16600\": 2434838271,\\n        \"16601\": 2437458720,\\n        \"16602\": 2440105432,\\n        \"16603\": 2442692605,\\n        \"16604\": 2445225856,\\n        \"16605\": 2447675248,\\n        \"16606\": 2450607502,\\n        \"16607\": 2453766516,\\n        \"16608\": 2456745589,\\n        \"16609\": 2458591226,\\n        \"16610\": 2461361037,\\n        \"16611\": 2463821700,\\n        \"16612\": 2463792191,\\n        \"16613\": 2464047139,\\n        \"16614\": 2467001304,\\n        \"16615\": 2463792191,\\n        \"16616\": 2479046015,\\n        \"16617\": 2481337103,\\n        \"16618\": 2484150647,\\n        \"16619\": 2486989720,\\n        \"16620\": 2489778783,\\n        \"16621\": 2492313945,\\n        \"16622\": 2494679222,\\n        \"16623\": 2497232851,\\n        \"16624\": 2499736839,\\n        \"16625\": 2502161304,\\n        \"16626\": 2504931077,\\n        \"16627\": 2507645656,\\n        \"16628\": 2510168100,\\n        \"16629\": 2512257685,\\n        \"16630\": 2514623344,\\n        \"16631\": 2517111395\\n      }\\n    }\\n  },\\n  {\\n    \"Service\": {\\n      \"name\": \"Rdio\",\\n      \"id\": 33\\n    },\\n    \"Profile\": {\\n      \"url\": \"http:\\\\/\\\\/www.rdio.com\\\\/artist\\\\/Kanye_West\\\\/\",\\n      \"id\": 1078750\\n    },\\n    \"Metric\": {\\n      \"plays\": {\\n        \"16542\": 23246856,\\n        \"16543\": 23271113,\\n        \"16544\": 23296838,\\n        \"16545\": 23317971,\\n        \"16546\": 23336538,\\n        \"16547\": 23357600,\\n        \"16548\": 23379705,\\n        \"16549\": 23402486,\\n        \"16550\": 31259945,\\n        \"16551\": 31294259,\\n        \"16552\": 31322974,\\n        \"16553\": 31347799,\\n        \"16554\": 23518860,\\n        \"16555\": 23541749,\\n        \"16556\": 31444333,\\n        \"16557\": 31474468,\\n        \"16558\": 31511217,\\n        \"16559\": 31529924,\\n        \"16560\": 31552352,\\n        \"16561\": 31588621,\\n        \"16562\": 31615238,\\n        \"16563\": 31662041,\\n        \"16564\": 31694692,\\n        \"16565\": 31728900,\\n        \"16566\": 31756847,\\n        \"16567\": 31781274,\\n        \"16568\": 31813118,\\n        \"16569\": 31845897,\\n        \"16570\": 31878723,\\n        \"16571\": 31912679,\\n        \"16572\": 31947868,\\n        \"16573\": 31976820,\\n        \"16574\": 32002169,\\n        \"16575\": 32032552,\\n        \"16576\": 32063268,\\n        \"16577\": 32095615,\\n        \"16578\": 32120426,\\n        \"16579\": 32153767,\\n        \"16580\": 32177113,\\n        \"16581\": 32195549,\\n        \"16582\": 32221486,\\n        \"16583\": 32249643,\\n        \"16584\": 32279718,\\n        \"16585\": 32311319,\\n        \"16586\": 32346786,\\n        \"16587\": 32373296,\\n        \"16588\": 32396199,\\n        \"16589\": 32396199,\\n        \"16590\": 32396199,\\n        \"16591\": 32490617,\\n        \"16592\": 32523689,\\n        \"16593\": 32557893,\\n        \"16594\": 32584965,\\n        \"16595\": 32608181,\\n        \"16596\": 32638173,\\n        \"16597\": 32669156,\\n        \"16598\": 32680630,\\n        \"16599\": 32707196,\\n        \"16600\": 32760704,\\n        \"16601\": 32567709,\\n        \"16602\": 32591011,\\n        \"16603\": 32617014,\\n        \"16604\": 32646075,\\n        \"16605\": 32674366,\\n        \"16606\": 32703000,\\n        \"16607\": 32732684,\\n        \"16608\": 32759243,\\n        \"16609\": 32780422,\\n        \"16610\": 32807374,\\n        \"16611\": 32835071,\\n        \"16612\": 32864165,\\n        \"16613\": 32892981,\\n        \"16614\": 32922659,\\n        \"16615\": 32935531,\\n        \"16616\": 32882124,\\n        \"16617\": 32904107,\\n        \"16618\": 32932996,\\n        \"16619\": 32963806,\\n        \"16620\": 32983106,\\n        \"16621\": 32999266,\\n        \"16622\": 33013794,\\n        \"16623\": 33025696,\\n        \"16624\": 33041864,\\n        \"16625\": 33058706,\\n        \"16626\": 33075210,\\n        \"16627\": 33092275,\\n        \"16628\": 33111211,\\n        \"16629\": 33125884,\\n        \"16630\": 33139004,\\n        \"16631\": 33154572\\n      },\\n      \"comments\": {\\n        \"16542\": 328,\\n        \"16543\": 328,\\n        \"16544\": 328,\\n        \"16545\": 328,\\n        \"16546\": 328,\\n        \"16547\": 325,\\n        \"16548\": 325,\\n        \"16549\": 325,\\n        \"16550\": 325,\\n        \"16551\": 325,\\n        \"16552\": 325,\\n        \"16553\": 325,\\n        \"16554\": 325,\\n        \"16555\": 325,\\n        \"16556\": 325,\\n        \"16557\": 325,\\n        \"16558\": 325,\\n        \"16559\": 325,\\n        \"16560\": 325,\\n        \"16561\": 325,\\n        \"16562\": 325,\\n        \"16563\": 325,\\n        \"16564\": 325,\\n        \"16565\": 325,\\n        \"16566\": 325,\\n        \"16567\": 325,\\n        \"16568\": 325,\\n        \"16569\": 325,\\n        \"16570\": 325,\\n        \"16571\": 325,\\n        \"16572\": 325,\\n        \"16573\": 325,\\n        \"16574\": 325,\\n        \"16575\": 325,\\n        \"16576\": 325,\\n        \"16577\": 325,\\n        \"16578\": 325,\\n        \"16579\": 325,\\n        \"16580\": 325,\\n        \"16581\": 325,\\n        \"16582\": 325,\\n        \"16583\": 325,\\n        \"16584\": 325,\\n        \"16585\": 325,\\n        \"16586\": 325,\\n        \"16587\": 325,\\n        \"16588\": 325,\\n        \"16589\": 325,\\n        \"16590\": 325,\\n        \"16591\": 325,\\n        \"16592\": 325,\\n        \"16593\": 325,\\n        \"16594\": 325,\\n        \"16595\": 325,\\n        \"16596\": 325,\\n        \"16597\": 325,\\n        \"16598\": 325,\\n        \"16599\": 325,\\n        \"16600\": 325,\\n        \"16601\": 321,\\n        \"16602\": 321,\\n        \"16603\": 321,\\n        \"16604\": 321,\\n        \"16605\": 321,\\n        \"16606\": 321,\\n        \"16607\": 321,\\n        \"16608\": 321,\\n        \"16609\": 321,\\n        \"16610\": 321,\\n        \"16611\": 321,\\n        \"16612\": 321,\\n        \"16613\": 321,\\n        \"16614\": 321,\\n        \"16615\": 321,\\n        \"16616\": 321,\\n        \"16617\": 321,\\n        \"16618\": 321,\\n        \"16619\": 321,\\n        \"16620\": 321,\\n        \"16621\": 321,\\n        \"16622\": 321,\\n        \"16623\": 320,\\n        \"16624\": 320,\\n        \"16625\": 320,\\n        \"16626\": 320,\\n        \"16627\": 320,\\n        \"16628\": 320,\\n        \"16629\": 320,\\n        \"16630\": 320,\\n        \"16631\": 320\\n      },\\n      \"playlists\": {\\n        \"16542\": 1307693,\\n        \"16543\": 1308188,\\n        \"16544\": 1308458,\\n        \"16545\": 1308840,\\n        \"16546\": 1309247,\\n        \"16547\": 1309796,\\n        \"16548\": 1310473,\\n        \"16549\": 1310816,\\n        \"16550\": 1310670,\\n        \"16551\": 1311063,\\n        \"16552\": 1311266,\\n        \"16553\": 1311633,\\n        \"16554\": 1311875,\\n        \"16555\": 1312324,\\n        \"16556\": 1312582,\\n        \"16557\": 1313137,\\n        \"16558\": 1313501,\\n        \"16559\": 1313857,\\n        \"16560\": 1314002,\\n        \"16561\": 1314632,\\n        \"16562\": 1315053,\\n        \"16563\": 1315349,\\n        \"16564\": 1315975,\\n        \"16565\": 1316445,\\n        \"16566\": 1316860,\\n        \"16567\": 1317178,\\n        \"16568\": 1317424,\\n        \"16569\": 1317877,\\n        \"16570\": 1318496,\\n        \"16571\": 1318903,\\n        \"16572\": 1319361,\\n        \"16573\": 1319710,\\n        \"16574\": 1320177,\\n        \"16575\": 1320451,\\n        \"16576\": 1320799,\\n        \"16577\": 1321032,\\n        \"16578\": 1321354,\\n        \"16579\": 1321673,\\n        \"16580\": 1322075,\\n        \"16581\": 1322354,\\n        \"16582\": 1322678,\\n        \"16583\": 1323024,\\n        \"16584\": 1323318,\\n        \"16585\": 1323841,\\n        \"16586\": 1324065,\\n        \"16587\": 1324250,\\n        \"16588\": 1324625,\\n        \"16589\": 1324843,\\n        \"16590\": 1325352,\\n        \"16591\": 1325687,\\n        \"16592\": 1326048,\\n        \"16593\": 1326401,\\n        \"16594\": 1326591,\\n        \"16595\": 1327062,\\n        \"16596\": 1327351,\\n        \"16597\": 1327457,\\n        \"16598\": 1328006,\\n        \"16599\": 1328375,\\n        \"16600\": 1328855,\\n        \"16601\": 1318385,\\n        \"16602\": 1318696,\\n        \"16603\": 1318987,\\n        \"16604\": 1319284,\\n        \"16605\": 1319585,\\n        \"16606\": 1319839,\\n        \"16607\": 1320012,\\n        \"16608\": 1320300,\\n        \"16609\": 1320375,\\n        \"16610\": 1320515,\\n        \"16611\": 1320769,\\n        \"16612\": 1321421,\\n        \"16613\": 1321670,\\n        \"16614\": 1321985,\\n        \"16615\": 1322300,\\n        \"16616\": 1315133,\\n        \"16617\": 1315492,\\n        \"16618\": 1315609,\\n        \"16619\": 1316043,\\n        \"16620\": 1316186,\\n        \"16621\": 1316445,\\n        \"16622\": 1316706,\\n        \"16623\": 1317110,\\n        \"16624\": 1317291,\\n        \"16625\": 1317760,\\n        \"16626\": 1317909,\\n        \"16627\": 1318052,\\n        \"16628\": 1318271,\\n        \"16629\": 1318475,\\n        \"16630\": 1318693,\\n        \"16631\": 1318954\\n      },\\n      \"collections\": {\\n        \"16542\": 6685922,\\n        \"16543\": 6685971,\\n        \"16544\": 6685976,\\n        \"16545\": 6685989,\\n        \"16546\": 6685960,\\n        \"16547\": 6686023,\\n        \"16548\": 6691931,\\n        \"16549\": 6691937,\\n        \"16550\": 6694148,\\n        \"16551\": 6694126,\\n        \"16552\": 6694122,\\n        \"16553\": 6694183,\\n        \"16554\": 6699793,\\n        \"16555\": 6699867,\\n        \"16556\": 6699871,\\n        \"16557\": 6699949,\\n        \"16558\": 6699882,\\n        \"16559\": 6706799,\\n        \"16560\": 6706894,\\n        \"16561\": 6706949,\\n        \"16562\": 6707079,\\n        \"16563\": 6707082,\\n        \"16564\": 6707126,\\n        \"16565\": 6712541,\\n        \"16566\": 6712564,\\n        \"16567\": 6712504,\\n        \"16568\": 6712587,\\n        \"16569\": 6712588,\\n        \"16570\": 6712582,\\n        \"16571\": 6718943,\\n        \"16572\": 6719001,\\n        \"16573\": 6719007,\\n        \"16574\": 6719027,\\n        \"16575\": 6719131,\\n        \"16576\": 6719171,\\n        \"16577\": 6725250,\\n        \"16578\": 6725251,\\n        \"16579\": 6725248,\\n        \"16580\": 6725338,\\n        \"16581\": 6725342,\\n        \"16582\": 6730746,\\n        \"16583\": 6730738,\\n        \"16584\": 6730729,\\n        \"16585\": 6730741,\\n        \"16586\": 6730741,\\n        \"16587\": 6730762,\\n        \"16588\": 6737741,\\n        \"16589\": 6737742,\\n        \"16590\": 6737775,\\n        \"16591\": 6737775,\\n        \"16592\": 6737829,\\n        \"16593\": 6737822,\\n        \"16594\": 6743972,\\n        \"16595\": 6743998,\\n        \"16596\": 6744012,\\n        \"16597\": 6743984,\\n        \"16598\": 6744127,\\n        \"16599\": 6744135,\\n        \"16600\": 6750459,\\n        \"16601\": 6655867,\\n        \"16602\": 6655851,\\n        \"16603\": 6655872,\\n        \"16604\": 6655815,\\n        \"16605\": 6660560,\\n        \"16606\": 6660572,\\n        \"16607\": 6660583,\\n        \"16608\": 6660583,\\n        \"16609\": 6660609,\\n        \"16610\": 6660608,\\n        \"16611\": 6666285,\\n        \"16612\": 6666268,\\n        \"16613\": 6666276,\\n        \"16614\": 6666283,\\n        \"16615\": 6666363,\\n        \"16616\": 6672084,\\n        \"16617\": 6679596,\\n        \"16618\": 6679568,\\n        \"16619\": 6680012,\\n        \"16620\": 6679923,\\n        \"16621\": 6680057,\\n        \"16622\": 6680020,\\n        \"16623\": 6685533,\\n        \"16624\": 6685517,\\n        \"16625\": 6685577,\\n        \"16626\": 6685415,\\n        \"16627\": 6685328,\\n        \"16628\": 6685291,\\n        \"16629\": 6690608,\\n        \"16630\": 6690605,\\n        \"16631\": 6690572\\n      }\\n    }\\n  },\\n  {\\n    \"Service\": {\\n      \"name\": \"ReverbNation\",\\n      \"id\": 8\\n    },\\n    \"Profile\": {\\n      \"url\": \"http:\\\\/\\\\/www.reverbnation.com\\\\/kanyewestmusic\",\\n      \"id\": 4334982\\n    },\\n    \"Metric\": {\\n      \"views\": {\\n        \"16542\": 74819,\\n        \"16543\": 74819,\\n        \"16544\": 74819,\\n        \"16545\": 74819,\\n        \"16546\": 74819,\\n        \"16547\": 74819,\\n        \"16548\": 74819,\\n        \"16549\": 74819,\\n        \"16550\": 74819,\\n        \"16551\": 74819,\\n        \"16552\": 74819,\\n        \"16553\": 74819,\\n        \"16554\": 74819,\\n        \"16555\": 74819,\\n        \"16556\": 74819,\\n        \"16557\": 74819,\\n        \"16558\": 74819,\\n        \"16559\": 74819,\\n        \"16560\": 74819,\\n        \"16561\": 74819,\\n        \"16562\": 74819,\\n        \"16563\": 74819,\\n        \"16564\": 74819,\\n        \"16565\": 74819,\\n        \"16566\": 74819,\\n        \"16567\": 74819,\\n        \"16568\": 74819,\\n        \"16569\": 74819,\\n        \"16570\": 74819,\\n        \"16571\": 74819,\\n        \"16572\": 74819,\\n        \"16573\": 74819,\\n        \"16574\": 74819,\\n        \"16575\": 74819,\\n        \"16576\": 74819,\\n        \"16577\": 74819,\\n        \"16578\": 74819,\\n        \"16579\": 74819,\\n        \"16580\": 74819,\\n        \"16581\": 74819,\\n        \"16582\": 74819,\\n        \"16583\": 74819,\\n        \"16584\": 74819,\\n        \"16585\": 74819,\\n        \"16586\": 74819,\\n        \"16587\": 74819,\\n        \"16588\": 74819,\\n        \"16589\": 74819,\\n        \"16607\": 74819,\\n        \"16626\": 74819,\\n        \"16627\": 74819,\\n        \"16628\": 74819,\\n        \"16629\": 74819,\\n        \"16630\": 74819,\\n        \"16631\": 74819\\n      },\\n      \"plays\": {\\n        \"16542\": 71341,\\n        \"16543\": 71342,\\n        \"16544\": 71343,\\n        \"16545\": 71343,\\n        \"16546\": 71343,\\n        \"16547\": 71344,\\n        \"16548\": 71344,\\n        \"16549\": 71345,\\n        \"16550\": 71345,\\n        \"16551\": 71349,\\n        \"16552\": 71349,\\n        \"16553\": 71350,\\n        \"16554\": 71350,\\n        \"16555\": 71351,\\n        \"16556\": 71352,\\n        \"16557\": 71353,\\n        \"16558\": 71353,\\n        \"16559\": 71353,\\n        \"16560\": 71353,\\n        \"16561\": 71353,\\n        \"16562\": 71353,\\n        \"16563\": 71358,\\n        \"16564\": 71358,\\n        \"16565\": 71358,\\n        \"16566\": 71358,\\n        \"16567\": 71358,\\n        \"16568\": 71358,\\n        \"16569\": 71358,\\n        \"16570\": 71360,\\n        \"16571\": 71361,\\n        \"16572\": 71361,\\n        \"16573\": 71361,\\n        \"16574\": 71362,\\n        \"16575\": 71363,\\n        \"16576\": 71363,\\n        \"16577\": 71363,\\n        \"16578\": 71365,\\n        \"16579\": 71365,\\n        \"16580\": 71365,\\n        \"16581\": 71365,\\n        \"16582\": 71365,\\n        \"16583\": 71365,\\n        \"16584\": 71365,\\n        \"16585\": 71365,\\n        \"16586\": 71366,\\n        \"16587\": 71366,\\n        \"16588\": 71366,\\n        \"16589\": 71366,\\n        \"16607\": 71389,\\n        \"16626\": 71402,\\n        \"16627\": 71403,\\n        \"16628\": 71403,\\n        \"16629\": 71403,\\n        \"16630\": 71403,\\n        \"16631\": 71403\\n      },\\n      \"fans\": {\\n        \"16542\": 2228,\\n        \"16543\": 2228,\\n        \"16544\": 2228,\\n        \"16545\": 2228,\\n        \"16546\": 2228,\\n        \"16547\": 2228,\\n        \"16548\": 2228,\\n        \"16549\": 2228,\\n        \"16550\": 2227,\\n        \"16551\": 2227,\\n        \"16552\": 2227,\\n        \"16553\": 2227,\\n        \"16554\": 2227,\\n        \"16555\": 2227,\\n        \"16556\": 2227,\\n        \"16557\": 2227,\\n        \"16558\": 2227,\\n        \"16559\": 2227,\\n        \"16560\": 2227,\\n        \"16561\": 2227,\\n        \"16562\": 2227,\\n        \"16563\": 2226,\\n        \"16564\": 2227,\\n        \"16565\": 2227,\\n        \"16566\": 2227,\\n        \"16567\": 2227,\\n        \"16568\": 2227,\\n        \"16569\": 2227,\\n        \"16570\": 2227,\\n        \"16571\": 2227,\\n        \"16572\": 2227,\\n        \"16573\": 2227,\\n        \"16574\": 2227,\\n        \"16575\": 2227,\\n        \"16576\": 2226,\\n        \"16577\": 2226,\\n        \"16578\": 2226,\\n        \"16579\": 2226,\\n        \"16580\": 2226,\\n        \"16581\": 2226,\\n        \"16582\": 2226,\\n        \"16583\": 2225,\\n        \"16584\": 2225,\\n        \"16585\": 2225,\\n        \"16586\": 2223,\\n        \"16587\": 2221,\\n        \"16588\": 2220,\\n        \"16589\": 2218,\\n        \"16607\": 2212,\\n        \"16626\": 2214,\\n        \"16627\": 2213,\\n        \"16628\": 2213,\\n        \"16629\": 2213,\\n        \"16630\": 2213,\\n        \"16631\": 2213\\n      }\\n    }\\n  },\\n  {\\n    \"Service\": {\\n      \"name\": \"NBS Score\",\\n      \"id\": 70\\n    },\\n    \"Profile\": {\\n      \"url\": \"http:\\\\/\\\\/www.nextbigsound.com\\\\/artist\\\\/356\",\\n      \"id\": 6600125\\n    },\\n    \"Metric\": {\\n      \"billboard-200-likelihood\": [\\n        \\n      ]\\n    }\\n  }\\n]\\r\\n0\\r\\n\\r\\n'"
      ]
     },
     "execution_count": 4,
     "metadata": {},
     "output_type": "execute_result"
    }
   ],
   "source": [
    "resp"
   ]
  },
  {
   "cell_type": "code",
   "execution_count": 78,
   "metadata": {
    "collapsed": false
   },
   "outputs": [
    {
     "ename": "AttributeError",
     "evalue": "API instance has no attribute 'Artist'",
     "output_type": "error",
     "traceback": [
      "\u001b[0;31m---------------------------------------------------------------------------\u001b[0m",
      "\u001b[0;31mAttributeError\u001b[0m                            Traceback (most recent call last)",
      "\u001b[0;32m<ipython-input-78-716ae1b765c5>\u001b[0m in \u001b[0;36m<module>\u001b[0;34m()\u001b[0m\n\u001b[0;32m----> 1\u001b[0;31m \u001b[0mapi\u001b[0m\u001b[0;34m.\u001b[0m\u001b[0mArtist\u001b[0m\u001b[0;34m(\u001b[0m\u001b[0;34m\"356\"\u001b[0m\u001b[0;34m)\u001b[0m\u001b[0;34m\u001b[0m\u001b[0m\n\u001b[0m",
      "\u001b[0;31mAttributeError\u001b[0m: API instance has no attribute 'Artist'"
     ]
    }
   ],
   "source": [
    "api.Artist(\"356\")"
   ]
  },
  {
   "cell_type": "code",
   "execution_count": 29,
   "metadata": {
    "collapsed": false
   },
   "outputs": [
    {
     "name": "stdout",
     "output_type": "stream",
     "text": [
      "start=1262332800&metric=all&end=1437030000\n",
      "http://nbsmobile.api3.nextbigsound.com/metrics/artist/356.json\n"
     ]
    }
   ],
   "source": [
    "# \n",
    "\n"
   ]
  },
  {
   "cell_type": "code",
   "execution_count": 32,
   "metadata": {
    "collapsed": false
   },
   "outputs": [],
   "source": [
    "#json_obj"
   ]
  },
  {
   "cell_type": "code",
   "execution_count": 33,
   "metadata": {
    "collapsed": false
   },
   "outputs": [
    {
     "name": "stdout",
     "output_type": "stream",
     "text": [
      "2015-04-16\n",
      "2015-04-18\n",
      "2015-04-19\n",
      "2015-04-20\n",
      "2015-04-21\n",
      "2015-04-23\n",
      "2015-04-25\n",
      "2015-04-26\n",
      "2015-04-28\n",
      "2015-04-29\n",
      "2015-04-30\n",
      "2015-05-01\n",
      "2015-05-02\n",
      "2015-05-03\n",
      "2015-05-04\n",
      "2015-05-06\n",
      "2015-05-08\n",
      "2015-05-10\n",
      "2015-05-11\n",
      "2015-05-12\n",
      "2015-05-13\n",
      "2015-05-14\n",
      "2015-05-17\n",
      "2015-05-18\n",
      "2015-05-19\n",
      "2015-05-21\n",
      "2015-05-22\n",
      "2015-05-23\n",
      "2015-05-25\n",
      "2015-05-26\n",
      "2015-05-30\n",
      "2015-06-01\n",
      "2015-06-03\n",
      "2015-06-04\n",
      "2015-06-05\n",
      "2015-06-07\n",
      "2015-06-08\n",
      "2015-06-09\n",
      "2015-06-10\n",
      "2015-06-15\n",
      "2015-06-16\n",
      "2015-06-18\n",
      "2015-06-19\n",
      "2015-06-20\n",
      "2015-06-21\n",
      "2015-06-22\n",
      "2015-06-23\n",
      "2015-06-25\n",
      "2015-06-26\n",
      "2015-06-27\n",
      "2015-06-28\n",
      "2015-06-29\n",
      "2015-06-30\n",
      "2015-07-01\n",
      "2015-07-02\n",
      "2015-07-03\n",
      "2015-07-07\n",
      "2015-07-08\n",
      "2015-07-09\n",
      "2015-07-11\n",
      "2015-07-12\n",
      "2015-07-13\n",
      "2015-07-14\n"
     ]
    }
   ],
   "source": [
    "# readable dates\n",
    "dates = sorted([int(day)*86400 for day in json_obj[1]['Metric']['comments'].keys() ])\n",
    "for date in dates:\n",
    "    print dt.datetime.fromtimestamp(\n",
    "        date\n",
    "    ).strftime('%Y-%m-%d')"
   ]
  },
  {
   "cell_type": "code",
   "execution_count": 61,
   "metadata": {
    "collapsed": false
   },
   "outputs": [
    {
     "data": {
      "text/plain": [
       "{u'Metric': {u'fans': [], u'plays': [], u'views': []},\n",
       " u'Profile': {u'id': 388, u'url': u'http://www.myspace.com/kanyewest'},\n",
       " u'Service': {u'id': 1, u'name': u'MySpace'}}"
      ]
     },
     "execution_count": 61,
     "metadata": {},
     "output_type": "execute_result"
    }
   ],
   "source": [
    "for source in json_obj:\n",
    "    "
   ]
  },
  {
   "cell_type": "code",
   "execution_count": 62,
   "metadata": {
    "collapsed": false
   },
   "outputs": [
    {
     "data": {
      "text/plain": [
       "{u'Metric': {u'comments': {u'16542': 31151,\n",
       "   u'16544': 31152,\n",
       "   u'16545': 31153,\n",
       "   u'16546': 31154,\n",
       "   u'16547': 31156,\n",
       "   u'16549': 31160,\n",
       "   u'16551': 31163,\n",
       "   u'16552': 31164,\n",
       "   u'16554': 31169,\n",
       "   u'16555': 31170,\n",
       "   u'16556': 31172,\n",
       "   u'16557': 31174,\n",
       "   u'16558': 31177,\n",
       "   u'16559': 31182,\n",
       "   u'16560': 31186,\n",
       "   u'16562': 31188,\n",
       "   u'16564': 31189,\n",
       "   u'16566': 31190,\n",
       "   u'16567': 31191,\n",
       "   u'16568': 31193,\n",
       "   u'16569': 31192,\n",
       "   u'16570': 31193,\n",
       "   u'16573': 31194,\n",
       "   u'16574': 31195,\n",
       "   u'16575': 31197,\n",
       "   u'16577': 31198,\n",
       "   u'16578': 31199,\n",
       "   u'16579': 31201,\n",
       "   u'16581': 31202,\n",
       "   u'16582': 31203,\n",
       "   u'16586': 31204,\n",
       "   u'16588': 31206,\n",
       "   u'16590': 31212,\n",
       "   u'16591': 31210,\n",
       "   u'16592': 31212,\n",
       "   u'16594': 31213,\n",
       "   u'16595': 31225,\n",
       "   u'16596': 31226,\n",
       "   u'16597': 31227,\n",
       "   u'16602': 31228,\n",
       "   u'16603': 31227,\n",
       "   u'16605': 31229,\n",
       "   u'16606': 31232,\n",
       "   u'16607': 31234,\n",
       "   u'16608': 31236,\n",
       "   u'16609': 31237,\n",
       "   u'16610': 31239,\n",
       "   u'16612': 31241,\n",
       "   u'16613': 31242,\n",
       "   u'16614': 31244,\n",
       "   u'16615': 31248,\n",
       "   u'16616': 31254,\n",
       "   u'16617': 31255,\n",
       "   u'16618': 31259,\n",
       "   u'16619': 31262,\n",
       "   u'16620': 31264,\n",
       "   u'16624': 31266,\n",
       "   u'16625': 31268,\n",
       "   u'16626': 31270,\n",
       "   u'16628': 31269,\n",
       "   u'16629': 31271,\n",
       "   u'16630': 31272,\n",
       "   u'16631': 31273},\n",
       "  u'fans': {u'16542': 3993049,\n",
       "   u'16548': 4001240,\n",
       "   u'16549': 4001601,\n",
       "   u'16550': 4001994,\n",
       "   u'16551': 4002394,\n",
       "   u'16554': 4003063,\n",
       "   u'16555': 4003428,\n",
       "   u'16557': 4004173,\n",
       "   u'16562': 4004590,\n",
       "   u'16563': 4005005,\n",
       "   u'16564': 4005404,\n",
       "   u'16565': 4005778,\n",
       "   u'16568': 4008164,\n",
       "   u'16569': 4008502,\n",
       "   u'16570': 4008897,\n",
       "   u'16571': 4009291,\n",
       "   u'16572': 4009755,\n",
       "   u'16575': 4011739,\n",
       "   u'16576': 4012121,\n",
       "   u'16577': 4012460,\n",
       "   u'16578': 4012809,\n",
       "   u'16579': 4013196,\n",
       "   u'16582': 4013686,\n",
       "   u'16583': 4014038,\n",
       "   u'16584': 4014408,\n",
       "   u'16585': 4014747,\n",
       "   u'16586': 4015075,\n",
       "   u'16589': 4014510,\n",
       "   u'16590': 4014846,\n",
       "   u'16591': 4015186,\n",
       "   u'16592': 4015508,\n",
       "   u'16593': 4015848,\n",
       "   u'16596': 4017993,\n",
       "   u'16597': 4018329,\n",
       "   u'16598': 4018678,\n",
       "   u'16599': 4018990,\n",
       "   u'16600': 4019343,\n",
       "   u'16603': 4021249,\n",
       "   u'16604': 4021582,\n",
       "   u'16605': 4021894,\n",
       "   u'16606': 4022195,\n",
       "   u'16607': 4022506,\n",
       "   u'16610': 4022830,\n",
       "   u'16611': 4023150,\n",
       "   u'16612': 4023495,\n",
       "   u'16613': 4023823,\n",
       "   u'16614': 4024200,\n",
       "   u'16617': 4023689},\n",
       "  u'plays': {u'16542': 163644667,\n",
       "   u'16548': 164376228,\n",
       "   u'16549': 164412304,\n",
       "   u'16550': 164449902,\n",
       "   u'16551': 164490455,\n",
       "   u'16554': 164858949,\n",
       "   u'16555': 164896894,\n",
       "   u'16557': 164970952,\n",
       "   u'16562': 164715316,\n",
       "   u'16563': 164752951,\n",
       "   u'16564': 164790322,\n",
       "   u'16565': 164825712,\n",
       "   u'16568': 165098509,\n",
       "   u'16569': 165136534,\n",
       "   u'16570': 165179546,\n",
       "   u'16571': 165215221,\n",
       "   u'16572': 165255187,\n",
       "   u'16575': 165344479,\n",
       "   u'16576': 165382895,\n",
       "   u'16577': 165423360,\n",
       "   u'16578': 165459847,\n",
       "   u'16579': 165496043,\n",
       "   u'16582': 165856944,\n",
       "   u'16583': 165888978,\n",
       "   u'16584': 165918984,\n",
       "   u'16585': 165952326,\n",
       "   u'16586': 165985577,\n",
       "   u'16589': 165645238,\n",
       "   u'16590': 165677636,\n",
       "   u'16591': 165708785,\n",
       "   u'16592': 165744244,\n",
       "   u'16593': 165779838,\n",
       "   u'16596': 166037633,\n",
       "   u'16597': 166074228,\n",
       "   u'16598': 166098053,\n",
       "   u'16599': 166132683,\n",
       "   u'16600': 166168975,\n",
       "   u'16603': 166244521,\n",
       "   u'16604': 166276055,\n",
       "   u'16605': 166310025,\n",
       "   u'16606': 166352634,\n",
       "   u'16607': 166383981,\n",
       "   u'16610': 166738977,\n",
       "   u'16611': 166771290,\n",
       "   u'16612': 166802849,\n",
       "   u'16613': 166834666,\n",
       "   u'16614': 166865798,\n",
       "   u'16617': 166542042}},\n",
       " u'Profile': {u'id': 174990, u'url': u'http://www.last.fm/music/kanye+west'},\n",
       " u'Service': {u'id': 2, u'name': u'Last.fm'}}"
      ]
     },
     "execution_count": 62,
     "metadata": {},
     "output_type": "execute_result"
    }
   ],
   "source": [
    "json_obj[1]"
   ]
  },
  {
   "cell_type": "code",
   "execution_count": null,
   "metadata": {
    "collapsed": true
   },
   "outputs": [],
   "source": []
  }
 ],
 "metadata": {
  "kernelspec": {
   "display_name": "Python 2",
   "language": "python",
   "name": "python2"
  },
  "language_info": {
   "codemirror_mode": {
    "name": "ipython",
    "version": 2
   },
   "file_extension": ".py",
   "mimetype": "text/x-python",
   "name": "python",
   "nbconvert_exporter": "python",
   "pygments_lexer": "ipython2",
   "version": "2.7.10"
  }
 },
 "nbformat": 4,
 "nbformat_minor": 0
}

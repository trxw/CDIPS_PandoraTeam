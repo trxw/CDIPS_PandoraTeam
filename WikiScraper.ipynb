{
 "metadata": {
  "name": "",
  "signature": "sha256:ccc5f72c9f4d1f7776460b2b5e8214ee8a3d7a64d917d709455f11ac7047d6b9"
 },
 "nbformat": 3,
 "nbformat_minor": 0,
 "worksheets": [
  {
   "cells": [
    {
     "cell_type": "markdown",
     "metadata": {},
     "source": [
      "Notes (swahl 7/13):\n",
      "\n",
      "Had to change urllib.request to urllib2.urlopen for python 2.7\n",
      "\n",
      "Wikipedia searches use underscores between words, spaces don't work.\n",
      "\n",
      "There is an obvious problem with names that will lead to dissambiguation pages (e.g. Drake -> Drake_(rapper) ). It would probably be easier to use a data source more specific to artists.\n"
     ]
    },
    {
     "cell_type": "code",
     "collapsed": false,
     "input": [
      "import anyjson as json\n",
      "import requests\n",
      "from bs4 import BeautifulSoup\n",
      "#import scalpyr\n",
      "import urllib\n",
      "from json import load \n",
      "import pandas as pd\n",
      "from pandas import DataFrame\n",
      "import numpy as np\n",
      "import codecs\n",
      "#from urllib import request\n",
      "from urllib2 import urlopen # python 2.7 version\n",
      "#import urlopen\n",
      "from json import load\n",
      "#import sqlite3\n",
      "#import csv\n",
      "#import codecs\n",
      "#import cStringIO\n",
      "#import sys\n",
      "import hashlib"
     ],
     "language": "python",
     "metadata": {},
     "outputs": [],
     "prompt_number": 1
    },
    {
     "cell_type": "code",
     "collapsed": false,
     "input": [],
     "language": "python",
     "metadata": {},
     "outputs": [],
     "prompt_number": 49
    },
    {
     "cell_type": "code",
     "collapsed": false,
     "input": [
      "#ArtistList = DataFrame(['drake_(rapper)', 'lady_gaga'],columns=['artist_name'])\n",
      "#ArtistList = DataFrame.from_csv('JustArtistNames.tsv', sep='\\t')\n",
      "ArtistList = DataFrame.from_csv('mode/mode-report-run-707064319e01.csv', sep='\\t',index_col=False)\n",
      "DailyStats = pd.DataFrame()\n",
      "ArtistList['name_length'] = 0\n",
      "#ArtistList['artist_name'][0]\n",
      "ArtistList.head()"
     ],
     "language": "python",
     "metadata": {},
     "outputs": [
      {
       "html": [
        "<div style=\"max-height:1000px;max-width:1500px;overflow:auto;\">\n",
        "<table border=\"1\" class=\"dataframe\">\n",
        "  <thead>\n",
        "    <tr style=\"text-align: right;\">\n",
        "      <th></th>\n",
        "      <th>artist_name</th>\n",
        "      <th>name_length</th>\n",
        "    </tr>\n",
        "  </thead>\n",
        "  <tbody>\n",
        "    <tr>\n",
        "      <th>0</th>\n",
        "      <td>                                        Gus Viseur</td>\n",
        "      <td> 0</td>\n",
        "    </tr>\n",
        "    <tr>\n",
        "      <th>1</th>\n",
        "      <td> Luis Vargas, Anthony \"El Mayimbe\" Santos, Raul...</td>\n",
        "      <td> 0</td>\n",
        "    </tr>\n",
        "    <tr>\n",
        "      <th>2</th>\n",
        "      <td>                  Empire Strikes Back (Film Score)</td>\n",
        "      <td> 0</td>\n",
        "    </tr>\n",
        "    <tr>\n",
        "      <th>3</th>\n",
        "      <td>                                        Saul Viera</td>\n",
        "      <td> 0</td>\n",
        "    </tr>\n",
        "    <tr>\n",
        "      <th>4</th>\n",
        "      <td>                                         Romantics</td>\n",
        "      <td> 0</td>\n",
        "    </tr>\n",
        "  </tbody>\n",
        "</table>\n",
        "</div>"
       ],
       "metadata": {},
       "output_type": "pyout",
       "prompt_number": 50,
       "text": [
        "                                         artist_name  name_length\n",
        "0                                         Gus Viseur            0\n",
        "1  Luis Vargas, Anthony \"El Mayimbe\" Santos, Raul...            0\n",
        "2                   Empire Strikes Back (Film Score)            0\n",
        "3                                         Saul Viera            0\n",
        "4                                          Romantics            0"
       ]
      }
     ],
     "prompt_number": 50
    },
    {
     "cell_type": "code",
     "collapsed": false,
     "input": [
      "for i in range(len(ArtistList)):\n",
      "    ArtistList['name_length'][i] = len(ArtistList['artist_name'][i])\n",
      "#ArtistList = ArtistList[ArtistList['name_length']> 1]\n",
      "#ArtistList = ArtistList[ArtistList['name_length'] <= 100]\n",
      "#len(ArtistList)"
     ],
     "language": "python",
     "metadata": {},
     "outputs": [],
     "prompt_number": 51
    },
    {
     "cell_type": "code",
     "collapsed": false,
     "input": [
      "ArtistList.head()"
     ],
     "language": "python",
     "metadata": {},
     "outputs": [
      {
       "html": [
        "<div style=\"max-height:1000px;max-width:1500px;overflow:auto;\">\n",
        "<table border=\"1\" class=\"dataframe\">\n",
        "  <thead>\n",
        "    <tr style=\"text-align: right;\">\n",
        "      <th></th>\n",
        "      <th>artist_name</th>\n",
        "      <th>name_length</th>\n",
        "    </tr>\n",
        "  </thead>\n",
        "  <tbody>\n",
        "    <tr>\n",
        "      <th>0</th>\n",
        "      <td>                                        Gus Viseur</td>\n",
        "      <td> 10</td>\n",
        "    </tr>\n",
        "    <tr>\n",
        "      <th>1</th>\n",
        "      <td> Luis Vargas, Anthony \"El Mayimbe\" Santos, Raul...</td>\n",
        "      <td> 73</td>\n",
        "    </tr>\n",
        "    <tr>\n",
        "      <th>2</th>\n",
        "      <td>                  Empire Strikes Back (Film Score)</td>\n",
        "      <td> 32</td>\n",
        "    </tr>\n",
        "    <tr>\n",
        "      <th>3</th>\n",
        "      <td>                                        Saul Viera</td>\n",
        "      <td> 10</td>\n",
        "    </tr>\n",
        "    <tr>\n",
        "      <th>4</th>\n",
        "      <td>                                         Romantics</td>\n",
        "      <td>  9</td>\n",
        "    </tr>\n",
        "  </tbody>\n",
        "</table>\n",
        "</div>"
       ],
       "metadata": {},
       "output_type": "pyout",
       "prompt_number": 52,
       "text": [
        "                                         artist_name  name_length\n",
        "0                                         Gus Viseur           10\n",
        "1  Luis Vargas, Anthony \"El Mayimbe\" Santos, Raul...           73\n",
        "2                   Empire Strikes Back (Film Score)           32\n",
        "3                                         Saul Viera           10\n",
        "4                                          Romantics            9"
       ]
      }
     ],
     "prompt_number": 52
    },
    {
     "cell_type": "code",
     "collapsed": false,
     "input": [
      "ArtistList = ArtistList[ArtistList['name_length'] <= 60]\n",
      "#ArtistList['artist_name'].head(10)\n",
      "ArtistList.index.values[1:10]"
     ],
     "language": "python",
     "metadata": {},
     "outputs": [
      {
       "metadata": {},
       "output_type": "pyout",
       "prompt_number": 53,
       "text": [
        "array([ 2,  3,  4,  5,  6,  7,  8,  9, 10])"
       ]
      }
     ],
     "prompt_number": 53
    },
    {
     "cell_type": "code",
     "collapsed": false,
     "input": [
      "ArtistList.index.values"
     ],
     "language": "python",
     "metadata": {},
     "outputs": [
      {
       "metadata": {},
       "output_type": "pyout",
       "prompt_number": 54,
       "text": [
        "array([ 0,  2,  3,  4,  5,  6,  7,  8,  9, 10, 11, 12, 13, 14, 15, 16, 17,\n",
        "       18, 19, 20, 21, 22, 23, 24, 25, 26, 27, 28, 29, 30, 31, 32, 33, 34,\n",
        "       35, 36, 37, 38, 39, 40, 41, 42, 43, 44, 45, 46, 47, 48, 49, 50, 51,\n",
        "       52, 53, 54, 55, 56, 57, 58, 59, 60, 61, 62, 63, 64, 65, 66, 67, 68,\n",
        "       69, 70, 71, 72, 73, 74, 75, 76, 77, 78, 79, 80, 81, 82, 83, 84, 85,\n",
        "       86, 87, 88, 89, 90, 91, 92, 93, 94, 95, 96, 97, 98, 99])"
       ]
      }
     ],
     "prompt_number": 54
    },
    {
     "cell_type": "code",
     "collapsed": false,
     "input": [
      "import re\n",
      "def cleanName(name):\n",
      "    \"\"\"\n",
      "    Use regular expressions to change an artist name string into\n",
      "    a valid wikipedia search string.\n",
      "    \"\"\"\n",
      "    r = re.compile(r\"\\s+\")\n",
      "    return r.sub(\"_\", name) # \"a\\nb\\nc\n",
      "  \n",
      "cleanName('lady gaga')    "
     ],
     "language": "python",
     "metadata": {},
     "outputs": [
      {
       "metadata": {},
       "output_type": "pyout",
       "prompt_number": 73,
       "text": [
        "'lady_gaga'"
       ]
      }
     ],
     "prompt_number": 73
    },
    {
     "cell_type": "code",
     "collapsed": false,
     "input": [
      "ArtistList['artist_name_clean'] = ArtistList.artist_name.apply(cleanName)\n",
      "ArtistList.artist_name_clean.head()"
     ],
     "language": "python",
     "metadata": {},
     "outputs": [
      {
       "metadata": {},
       "output_type": "pyout",
       "prompt_number": 75,
       "text": [
        "0                          Gus_Viseur\n",
        "2    Empire_Strikes_Back_(Film_Score)\n",
        "3                          Saul_Viera\n",
        "4                           Romantics\n",
        "5                           Will_Talk\n",
        "Name: artist_name_clean, dtype: object"
       ]
      }
     ],
     "prompt_number": 75
    },
    {
     "cell_type": "code",
     "collapsed": false,
     "input": [
      "reader = codecs.getreader(\"utf-8\")\n",
      "baseurl = \"http://stats.grok.se/json/\"\n",
      "lang = 'en'\n",
      "year = '2015'\n",
      "month = '05'\n",
      "DailyStats = DataFrame()\n",
      "#for a in range(0, len(ArtistList) -1):\n",
      "n = len(ArtistList)\n",
      "for a in ArtistList.index.values:\n",
      "#for a in ArtistList.index.values[41:100]:\n",
      "    try:\n",
      "        print a,'/',n\n",
      "        url= baseurl+lang+'/'+year+month+'/'\n",
      "        #search_term = ArtistList['artist_name'][a]\n",
      "        search_term = ArtistList['artist_name_clean'][a]\n",
      "        url += search_term\n",
      "        #response = request.urlopen(url)\n",
      "        response = urlopen(url)\n",
      "        json_obj = load(reader(response))\n",
      "        d = json_obj['daily_views']\n",
      "        s  = pd.Series(d,index=d.keys())\n",
      "        df = pd.DataFrame(s)\n",
      "        df.columns = ['PageViews']\n",
      "        df['Artist'] = ArtistList['artist_name'][a]\n",
      "        df['search_term'] = search_term\n",
      "        df['Language'] = lang\n",
      "        DailyStats = DailyStats.append(df)\n",
      "\n",
      "    except ValueError:\n",
      "        print (ArtistList['artist_name'][a] )"
     ],
     "language": "python",
     "metadata": {},
     "outputs": [
      {
       "output_type": "stream",
       "stream": "stdout",
       "text": [
        "0 / 99\n",
        "2"
       ]
      },
      {
       "output_type": "stream",
       "stream": "stdout",
       "text": [
        " / 99\n",
        "3"
       ]
      },
      {
       "output_type": "stream",
       "stream": "stdout",
       "text": [
        " / 99\n",
        "4"
       ]
      },
      {
       "output_type": "stream",
       "stream": "stdout",
       "text": [
        " / 99\n",
        "5"
       ]
      },
      {
       "output_type": "stream",
       "stream": "stdout",
       "text": [
        " / 99\n",
        "6"
       ]
      },
      {
       "output_type": "stream",
       "stream": "stdout",
       "text": [
        " / 99\n",
        "7"
       ]
      },
      {
       "output_type": "stream",
       "stream": "stdout",
       "text": [
        " / 99\n",
        "8"
       ]
      },
      {
       "output_type": "stream",
       "stream": "stdout",
       "text": [
        " / 99\n",
        "9"
       ]
      },
      {
       "output_type": "stream",
       "stream": "stdout",
       "text": [
        " / 99\n",
        "10"
       ]
      },
      {
       "output_type": "stream",
       "stream": "stdout",
       "text": [
        " / 99\n",
        "11"
       ]
      },
      {
       "output_type": "stream",
       "stream": "stdout",
       "text": [
        " / 99\n",
        "12"
       ]
      },
      {
       "output_type": "stream",
       "stream": "stdout",
       "text": [
        " / 99\n",
        "13"
       ]
      },
      {
       "output_type": "stream",
       "stream": "stdout",
       "text": [
        " / 99\n",
        "14"
       ]
      },
      {
       "output_type": "stream",
       "stream": "stdout",
       "text": [
        " / 99\n",
        "15"
       ]
      },
      {
       "output_type": "stream",
       "stream": "stdout",
       "text": [
        " / 99\n",
        "16"
       ]
      },
      {
       "output_type": "stream",
       "stream": "stdout",
       "text": [
        " / 99\n",
        "17"
       ]
      },
      {
       "output_type": "stream",
       "stream": "stdout",
       "text": [
        " / 99\n",
        "18"
       ]
      },
      {
       "output_type": "stream",
       "stream": "stdout",
       "text": [
        " / 99\n",
        "19"
       ]
      },
      {
       "output_type": "stream",
       "stream": "stdout",
       "text": [
        " / 99\n",
        "20"
       ]
      },
      {
       "output_type": "stream",
       "stream": "stdout",
       "text": [
        " / 99\n",
        "21"
       ]
      },
      {
       "output_type": "stream",
       "stream": "stdout",
       "text": [
        " / 99\n",
        "22"
       ]
      },
      {
       "output_type": "stream",
       "stream": "stdout",
       "text": [
        " / 99\n",
        "23"
       ]
      },
      {
       "output_type": "stream",
       "stream": "stdout",
       "text": [
        " / 99\n",
        "24"
       ]
      },
      {
       "output_type": "stream",
       "stream": "stdout",
       "text": [
        " / 99\n",
        "25"
       ]
      },
      {
       "output_type": "stream",
       "stream": "stdout",
       "text": [
        " / 99\n",
        "26"
       ]
      },
      {
       "output_type": "stream",
       "stream": "stdout",
       "text": [
        " / 99\n",
        "27"
       ]
      },
      {
       "output_type": "stream",
       "stream": "stdout",
       "text": [
        " / 99\n",
        "28"
       ]
      },
      {
       "output_type": "stream",
       "stream": "stdout",
       "text": [
        " / 99\n",
        "29"
       ]
      },
      {
       "output_type": "stream",
       "stream": "stdout",
       "text": [
        " / 99\n",
        "30"
       ]
      },
      {
       "output_type": "stream",
       "stream": "stdout",
       "text": [
        " / 99\n",
        "31"
       ]
      },
      {
       "output_type": "stream",
       "stream": "stdout",
       "text": [
        " / 99\n",
        "32"
       ]
      },
      {
       "output_type": "stream",
       "stream": "stdout",
       "text": [
        " / 99\n",
        "33"
       ]
      },
      {
       "output_type": "stream",
       "stream": "stdout",
       "text": [
        " / 99\n",
        "34"
       ]
      },
      {
       "output_type": "stream",
       "stream": "stdout",
       "text": [
        " / 99\n",
        "35"
       ]
      },
      {
       "output_type": "stream",
       "stream": "stdout",
       "text": [
        " / 99\n",
        "36"
       ]
      },
      {
       "output_type": "stream",
       "stream": "stdout",
       "text": [
        " / 99\n",
        "37"
       ]
      },
      {
       "output_type": "stream",
       "stream": "stdout",
       "text": [
        " / 99\n",
        "38"
       ]
      },
      {
       "output_type": "stream",
       "stream": "stdout",
       "text": [
        " / 99\n",
        "39"
       ]
      },
      {
       "output_type": "stream",
       "stream": "stdout",
       "text": [
        " / 99\n",
        "40"
       ]
      },
      {
       "output_type": "stream",
       "stream": "stdout",
       "text": [
        " / 99\n",
        "41"
       ]
      },
      {
       "output_type": "stream",
       "stream": "stdout",
       "text": [
        " / 99\n",
        "42"
       ]
      },
      {
       "output_type": "stream",
       "stream": "stdout",
       "text": [
        " / 99\n",
        "43"
       ]
      },
      {
       "output_type": "stream",
       "stream": "stdout",
       "text": [
        " / 99\n",
        "44"
       ]
      },
      {
       "output_type": "stream",
       "stream": "stdout",
       "text": [
        " / 99\n",
        "45"
       ]
      },
      {
       "output_type": "stream",
       "stream": "stdout",
       "text": [
        " / 99\n",
        "46"
       ]
      },
      {
       "output_type": "stream",
       "stream": "stdout",
       "text": [
        " / 99\n",
        "47"
       ]
      },
      {
       "output_type": "stream",
       "stream": "stdout",
       "text": [
        " / 99\n",
        "48"
       ]
      },
      {
       "output_type": "stream",
       "stream": "stdout",
       "text": [
        " / 99\n",
        "49"
       ]
      },
      {
       "output_type": "stream",
       "stream": "stdout",
       "text": [
        " / 99\n",
        "50"
       ]
      },
      {
       "output_type": "stream",
       "stream": "stdout",
       "text": [
        " / 99\n",
        "51"
       ]
      },
      {
       "output_type": "stream",
       "stream": "stdout",
       "text": [
        " / 99\n",
        "52"
       ]
      },
      {
       "output_type": "stream",
       "stream": "stdout",
       "text": [
        " / 99\n",
        "53"
       ]
      },
      {
       "output_type": "stream",
       "stream": "stdout",
       "text": [
        " / 99\n",
        "54"
       ]
      },
      {
       "output_type": "stream",
       "stream": "stdout",
       "text": [
        " / 99\n",
        "55"
       ]
      },
      {
       "output_type": "stream",
       "stream": "stdout",
       "text": [
        " / 99\n",
        "56"
       ]
      },
      {
       "output_type": "stream",
       "stream": "stdout",
       "text": [
        " / 99\n",
        "57"
       ]
      },
      {
       "output_type": "stream",
       "stream": "stdout",
       "text": [
        " / 99\n",
        "58"
       ]
      },
      {
       "output_type": "stream",
       "stream": "stdout",
       "text": [
        " / 99\n",
        "59"
       ]
      },
      {
       "output_type": "stream",
       "stream": "stdout",
       "text": [
        " / 99\n",
        "60"
       ]
      },
      {
       "output_type": "stream",
       "stream": "stdout",
       "text": [
        " / 99\n",
        "61"
       ]
      },
      {
       "output_type": "stream",
       "stream": "stdout",
       "text": [
        " / 99\n",
        "62"
       ]
      },
      {
       "output_type": "stream",
       "stream": "stdout",
       "text": [
        " / 99\n",
        "63"
       ]
      },
      {
       "output_type": "stream",
       "stream": "stdout",
       "text": [
        " / 99\n",
        "64"
       ]
      },
      {
       "output_type": "stream",
       "stream": "stdout",
       "text": [
        " / 99\n",
        "65"
       ]
      },
      {
       "output_type": "stream",
       "stream": "stdout",
       "text": [
        " / 99\n",
        "66"
       ]
      },
      {
       "output_type": "stream",
       "stream": "stdout",
       "text": [
        " / 99\n",
        "67"
       ]
      },
      {
       "output_type": "stream",
       "stream": "stdout",
       "text": [
        " / 99\n",
        "68"
       ]
      },
      {
       "output_type": "stream",
       "stream": "stdout",
       "text": [
        " / 99\n",
        "69"
       ]
      },
      {
       "output_type": "stream",
       "stream": "stdout",
       "text": [
        " / 99\n",
        "70"
       ]
      },
      {
       "output_type": "stream",
       "stream": "stdout",
       "text": [
        " / 99\n",
        "71"
       ]
      },
      {
       "output_type": "stream",
       "stream": "stdout",
       "text": [
        " / 99\n",
        "72"
       ]
      },
      {
       "output_type": "stream",
       "stream": "stdout",
       "text": [
        " / 99\n",
        "73"
       ]
      },
      {
       "output_type": "stream",
       "stream": "stdout",
       "text": [
        " / 99\n",
        "74"
       ]
      },
      {
       "output_type": "stream",
       "stream": "stdout",
       "text": [
        " / 99\n",
        "75"
       ]
      },
      {
       "output_type": "stream",
       "stream": "stdout",
       "text": [
        " / 99\n",
        "76"
       ]
      },
      {
       "output_type": "stream",
       "stream": "stdout",
       "text": [
        " / 99\n",
        "77"
       ]
      },
      {
       "output_type": "stream",
       "stream": "stdout",
       "text": [
        " / 99\n",
        "78"
       ]
      },
      {
       "output_type": "stream",
       "stream": "stdout",
       "text": [
        " / 99\n",
        "79"
       ]
      },
      {
       "output_type": "stream",
       "stream": "stdout",
       "text": [
        " / 99\n",
        "80"
       ]
      },
      {
       "output_type": "stream",
       "stream": "stdout",
       "text": [
        " / 99\n",
        "81"
       ]
      },
      {
       "output_type": "stream",
       "stream": "stdout",
       "text": [
        " / 99\n",
        "82"
       ]
      },
      {
       "output_type": "stream",
       "stream": "stdout",
       "text": [
        " / 99\n",
        "83"
       ]
      },
      {
       "output_type": "stream",
       "stream": "stdout",
       "text": [
        " / 99\n",
        "84"
       ]
      },
      {
       "output_type": "stream",
       "stream": "stdout",
       "text": [
        " / 99\n",
        "85"
       ]
      },
      {
       "output_type": "stream",
       "stream": "stdout",
       "text": [
        " / 99\n",
        "86"
       ]
      },
      {
       "output_type": "stream",
       "stream": "stdout",
       "text": [
        " / 99\n",
        "87"
       ]
      },
      {
       "output_type": "stream",
       "stream": "stdout",
       "text": [
        " / 99\n",
        "88"
       ]
      },
      {
       "output_type": "stream",
       "stream": "stdout",
       "text": [
        " / 99\n",
        "89"
       ]
      },
      {
       "output_type": "stream",
       "stream": "stdout",
       "text": [
        " / 99\n",
        "90"
       ]
      },
      {
       "output_type": "stream",
       "stream": "stdout",
       "text": [
        " / 99\n",
        "91"
       ]
      },
      {
       "output_type": "stream",
       "stream": "stdout",
       "text": [
        " / 99\n",
        "92"
       ]
      },
      {
       "output_type": "stream",
       "stream": "stdout",
       "text": [
        " / 99\n",
        "93"
       ]
      },
      {
       "output_type": "stream",
       "stream": "stdout",
       "text": [
        " / 99\n",
        "94"
       ]
      },
      {
       "output_type": "stream",
       "stream": "stdout",
       "text": [
        " / 99\n",
        "95"
       ]
      },
      {
       "output_type": "stream",
       "stream": "stdout",
       "text": [
        " / 99\n",
        "96"
       ]
      },
      {
       "output_type": "stream",
       "stream": "stdout",
       "text": [
        " / 99\n",
        "97"
       ]
      },
      {
       "output_type": "stream",
       "stream": "stdout",
       "text": [
        " / 99\n",
        "98"
       ]
      },
      {
       "output_type": "stream",
       "stream": "stdout",
       "text": [
        " / 99\n",
        "99"
       ]
      },
      {
       "output_type": "stream",
       "stream": "stdout",
       "text": [
        " / 99\n"
       ]
      }
     ],
     "prompt_number": 82
    },
    {
     "cell_type": "code",
     "collapsed": false,
     "input": [
      "#print url\n",
      "print DailyStats.count()\n",
      "DailyStats.head()"
     ],
     "language": "python",
     "metadata": {},
     "outputs": [
      {
       "output_type": "stream",
       "stream": "stdout",
       "text": [
        "PageViews      3069\n",
        "Artist         3069\n",
        "search_term    3069\n",
        "Language       3069\n",
        "dtype: int64\n"
       ]
      },
      {
       "html": [
        "<div style=\"max-height:1000px;max-width:1500px;overflow:auto;\">\n",
        "<table border=\"1\" class=\"dataframe\">\n",
        "  <thead>\n",
        "    <tr style=\"text-align: right;\">\n",
        "      <th></th>\n",
        "      <th>PageViews</th>\n",
        "      <th>Artist</th>\n",
        "      <th>search_term</th>\n",
        "      <th>Language</th>\n",
        "    </tr>\n",
        "  </thead>\n",
        "  <tbody>\n",
        "    <tr>\n",
        "      <th>2015-05-03</th>\n",
        "      <td> 15</td>\n",
        "      <td> Gus Viseur</td>\n",
        "      <td> Gus_Viseur</td>\n",
        "      <td> en</td>\n",
        "    </tr>\n",
        "    <tr>\n",
        "      <th>2015-05-02</th>\n",
        "      <td> 15</td>\n",
        "      <td> Gus Viseur</td>\n",
        "      <td> Gus_Viseur</td>\n",
        "      <td> en</td>\n",
        "    </tr>\n",
        "    <tr>\n",
        "      <th>2015-05-01</th>\n",
        "      <td>  7</td>\n",
        "      <td> Gus Viseur</td>\n",
        "      <td> Gus_Viseur</td>\n",
        "      <td> en</td>\n",
        "    </tr>\n",
        "    <tr>\n",
        "      <th>2015-05-07</th>\n",
        "      <td> 13</td>\n",
        "      <td> Gus Viseur</td>\n",
        "      <td> Gus_Viseur</td>\n",
        "      <td> en</td>\n",
        "    </tr>\n",
        "    <tr>\n",
        "      <th>2015-05-06</th>\n",
        "      <td> 20</td>\n",
        "      <td> Gus Viseur</td>\n",
        "      <td> Gus_Viseur</td>\n",
        "      <td> en</td>\n",
        "    </tr>\n",
        "  </tbody>\n",
        "</table>\n",
        "</div>"
       ],
       "metadata": {},
       "output_type": "pyout",
       "prompt_number": 83,
       "text": [
        "            PageViews      Artist search_term Language\n",
        "2015-05-03         15  Gus Viseur  Gus_Viseur       en\n",
        "2015-05-02         15  Gus Viseur  Gus_Viseur       en\n",
        "2015-05-01          7  Gus Viseur  Gus_Viseur       en\n",
        "2015-05-07         13  Gus Viseur  Gus_Viseur       en\n",
        "2015-05-06         20  Gus Viseur  Gus_Viseur       en"
       ]
      }
     ],
     "prompt_number": 83
    },
    {
     "cell_type": "code",
     "collapsed": true,
     "input": [
      "DailyStats['Artist'].count()"
     ],
     "language": "python",
     "metadata": {},
     "outputs": [
      {
       "metadata": {},
       "output_type": "pyout",
       "prompt_number": 84,
       "text": [
        "3069"
       ]
      }
     ],
     "prompt_number": 84
    },
    {
     "cell_type": "code",
     "collapsed": false,
     "input": [
      "# why are all of the entries 31?\n",
      "g = DailyStats.groupby('Artist')"
     ],
     "language": "python",
     "metadata": {},
     "outputs": [],
     "prompt_number": 85
    },
    {
     "cell_type": "code",
     "collapsed": false,
     "input": [
      "DailyStats.to_csv('DailyWikiStats.tsv',index_label='date')"
     ],
     "language": "python",
     "metadata": {},
     "outputs": [],
     "prompt_number": 90
    },
    {
     "cell_type": "code",
     "collapsed": false,
     "input": [
      "DailyStats.to_csv?"
     ],
     "language": "python",
     "metadata": {},
     "outputs": [],
     "prompt_number": 88
    },
    {
     "cell_type": "code",
     "collapsed": false,
     "input": [
      "billboard = pd.DataFrame.from_csv('data/BillboardData.csv',index_col=False)"
     ],
     "language": "python",
     "metadata": {},
     "outputs": [],
     "prompt_number": 93
    },
    {
     "cell_type": "code",
     "collapsed": false,
     "input": [
      "billboard.head()"
     ],
     "language": "python",
     "metadata": {},
     "outputs": [
      {
       "html": [
        "<div style=\"max-height:1000px;max-width:1500px;overflow:auto;\">\n",
        "<table border=\"1\" class=\"dataframe\">\n",
        "  <thead>\n",
        "    <tr style=\"text-align: right;\">\n",
        "      <th></th>\n",
        "      <th>Year</th>\n",
        "      <th>Yearly Rank</th>\n",
        "      <th>Source</th>\n",
        "      <th>Prefix</th>\n",
        "      <th>CH</th>\n",
        "      <th>x40</th>\n",
        "      <th>x10</th>\n",
        "      <th>PK</th>\n",
        "      <th>High</th>\n",
        "      <th>Verified</th>\n",
        "      <th>...</th>\n",
        "      <th>x82nd Week</th>\n",
        "      <th>x83rd Week</th>\n",
        "      <th>x84th Week</th>\n",
        "      <th>x85th Week</th>\n",
        "      <th>x86th Week</th>\n",
        "      <th>x87th Week</th>\n",
        "      <th>x88th Week</th>\n",
        "      <th>x89th Week</th>\n",
        "      <th>x90th Week</th>\n",
        "      <th>x91st Week</th>\n",
        "    </tr>\n",
        "  </thead>\n",
        "  <tbody>\n",
        "    <tr>\n",
        "      <th>0</th>\n",
        "      <td> 1997</td>\n",
        "      <td> 165</td>\n",
        "      <td> a</td>\n",
        "      <td> 1997_165</td>\n",
        "      <td> 20</td>\n",
        "      <td> 0</td>\n",
        "      <td> 0</td>\n",
        "      <td> 2</td>\n",
        "      <td> 46</td>\n",
        "      <td> NaN</td>\n",
        "      <td>...</td>\n",
        "      <td>NaN</td>\n",
        "      <td>NaN</td>\n",
        "      <td>NaN</td>\n",
        "      <td>NaN</td>\n",
        "      <td>NaN</td>\n",
        "      <td>NaN</td>\n",
        "      <td>NaN</td>\n",
        "      <td>NaN</td>\n",
        "      <td>NaN</td>\n",
        "      <td>NaN</td>\n",
        "    </tr>\n",
        "    <tr>\n",
        "      <th>1</th>\n",
        "      <td> 1985</td>\n",
        "      <td> 256</td>\n",
        "      <td> a</td>\n",
        "      <td> 1985_256</td>\n",
        "      <td> 13</td>\n",
        "      <td> 0</td>\n",
        "      <td> 0</td>\n",
        "      <td> 1</td>\n",
        "      <td> 51</td>\n",
        "      <td> NaN</td>\n",
        "      <td>...</td>\n",
        "      <td>NaN</td>\n",
        "      <td>NaN</td>\n",
        "      <td>NaN</td>\n",
        "      <td>NaN</td>\n",
        "      <td>NaN</td>\n",
        "      <td>NaN</td>\n",
        "      <td>NaN</td>\n",
        "      <td>NaN</td>\n",
        "      <td>NaN</td>\n",
        "      <td>NaN</td>\n",
        "    </tr>\n",
        "    <tr>\n",
        "      <th>2</th>\n",
        "      <td> 2006</td>\n",
        "      <td> 325</td>\n",
        "      <td> b</td>\n",
        "      <td> 2006_325</td>\n",
        "      <td>  1</td>\n",
        "      <td> 0</td>\n",
        "      <td> 0</td>\n",
        "      <td> 1</td>\n",
        "      <td> 89</td>\n",
        "      <td> NaN</td>\n",
        "      <td>...</td>\n",
        "      <td>NaN</td>\n",
        "      <td>NaN</td>\n",
        "      <td>NaN</td>\n",
        "      <td>NaN</td>\n",
        "      <td>NaN</td>\n",
        "      <td>NaN</td>\n",
        "      <td>NaN</td>\n",
        "      <td>NaN</td>\n",
        "      <td>NaN</td>\n",
        "      <td>NaN</td>\n",
        "    </tr>\n",
        "    <tr>\n",
        "      <th>3</th>\n",
        "      <td> 2005</td>\n",
        "      <td> 135</td>\n",
        "      <td> b</td>\n",
        "      <td> 2005_135</td>\n",
        "      <td> 20</td>\n",
        "      <td> 7</td>\n",
        "      <td> 0</td>\n",
        "      <td> 1</td>\n",
        "      <td> 32</td>\n",
        "      <td> NaN</td>\n",
        "      <td>...</td>\n",
        "      <td>NaN</td>\n",
        "      <td>NaN</td>\n",
        "      <td>NaN</td>\n",
        "      <td>NaN</td>\n",
        "      <td>NaN</td>\n",
        "      <td>NaN</td>\n",
        "      <td>NaN</td>\n",
        "      <td>NaN</td>\n",
        "      <td>NaN</td>\n",
        "      <td>NaN</td>\n",
        "    </tr>\n",
        "    <tr>\n",
        "      <th>4</th>\n",
        "      <td> 2003</td>\n",
        "      <td> 238</td>\n",
        "      <td> y</td>\n",
        "      <td> 2003_238</td>\n",
        "      <td>  9</td>\n",
        "      <td> 0</td>\n",
        "      <td> 0</td>\n",
        "      <td> 1</td>\n",
        "      <td> 70</td>\n",
        "      <td> NaN</td>\n",
        "      <td>...</td>\n",
        "      <td>NaN</td>\n",
        "      <td>NaN</td>\n",
        "      <td>NaN</td>\n",
        "      <td>NaN</td>\n",
        "      <td>NaN</td>\n",
        "      <td>NaN</td>\n",
        "      <td>NaN</td>\n",
        "      <td>NaN</td>\n",
        "      <td>NaN</td>\n",
        "      <td>NaN</td>\n",
        "    </tr>\n",
        "  </tbody>\n",
        "</table>\n",
        "<p>5 rows \u00d7 126 columns</p>\n",
        "</div>"
       ],
       "metadata": {},
       "output_type": "pyout",
       "prompt_number": 94,
       "text": [
        "   Year Yearly Rank Source    Prefix  CH  x40  x10  PK High Verified  \\\n",
        "0  1997         165      a  1997_165  20    0    0   2   46      NaN   \n",
        "1  1985         256      a  1985_256  13    0    0   1   51      NaN   \n",
        "2  2006         325      b  2006_325   1    0    0   1   89      NaN   \n",
        "3  2005         135      b  2005_135  20    7    0   1   32      NaN   \n",
        "4  2003         238      y  2003_238   9    0    0   1   70      NaN   \n",
        "\n",
        "     ...     x82nd Week x83rd Week x84th Week x85th Week x86th Week  \\\n",
        "0    ...            NaN        NaN        NaN        NaN        NaN   \n",
        "1    ...            NaN        NaN        NaN        NaN        NaN   \n",
        "2    ...            NaN        NaN        NaN        NaN        NaN   \n",
        "3    ...            NaN        NaN        NaN        NaN        NaN   \n",
        "4    ...            NaN        NaN        NaN        NaN        NaN   \n",
        "\n",
        "  x87th Week x88th Week x89th Week x90th Week x91st Week  \n",
        "0        NaN        NaN        NaN        NaN        NaN  \n",
        "1        NaN        NaN        NaN        NaN        NaN  \n",
        "2        NaN        NaN        NaN        NaN        NaN  \n",
        "3        NaN        NaN        NaN        NaN        NaN  \n",
        "4        NaN        NaN        NaN        NaN        NaN  \n",
        "\n",
        "[5 rows x 126 columns]"
       ]
      }
     ],
     "prompt_number": 94
    },
    {
     "cell_type": "code",
     "collapsed": false,
     "input": [
      "billboard.iloc[0][:30]"
     ],
     "language": "python",
     "metadata": {},
     "outputs": [
      {
       "metadata": {},
       "output_type": "pyout",
       "prompt_number": 104,
       "text": [
        "Year                                  1997\n",
        "Yearly Rank                            165\n",
        "Source                                   a\n",
        "Prefix                            1997_165\n",
        "CH                                      20\n",
        "x40                                      0\n",
        "x10                                      0\n",
        "PK                                       2\n",
        "High                                    46\n",
        "Verified                               NaN\n",
        "Artist                                   4\n",
        "Artist_standardized                      4\n",
        "Artist Inverted                          4\n",
        "Featured                               NaN\n",
        "UnFeatured                             NaN\n",
        "Album                               Single\n",
        "B-Side                                 NaN\n",
        "Track                  Have A Little Mercy\n",
        "Time                                  4:13\n",
        "Time Source                            NaN\n",
        "explicit                               NaN\n",
        "Time (Album)                           NaN\n",
        "Artist ID                              NaN\n",
        "SYMBL                                  NaN\n",
        "ReIssue                                NaN\n",
        "Label/Number                    Savvy 7580\n",
        "Media                                   CS\n",
        "Stereo (55-68)                          --\n",
        "Pic Sleeve                              --\n",
        "Genre                                  R&B\n",
        "Name: 0, dtype: object"
       ]
      }
     ],
     "prompt_number": 104
    },
    {
     "cell_type": "code",
     "collapsed": false,
     "input": [],
     "language": "python",
     "metadata": {},
     "outputs": []
    }
   ],
   "metadata": {}
  }
 ]
}
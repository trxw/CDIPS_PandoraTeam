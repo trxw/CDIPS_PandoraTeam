{
 "cells": [
  {
   "cell_type": "code",
   "execution_count": 1,
   "metadata": {
    "collapsed": false
   },
   "outputs": [
    {
     "data": {
      "text/html": [
       "<div style=\"max-height:1000px;max-width:1500px;overflow:auto;\">\n",
       "<table border=\"1\" class=\"dataframe\">\n",
       "  <thead>\n",
       "    <tr style=\"text-align: right;\">\n",
       "      <th></th>\n",
       "      <th>id</th>\n",
       "      <th>year</th>\n",
       "      <th>yearly_rank</th>\n",
       "      <th>source</th>\n",
       "      <th>prefix</th>\n",
       "      <th>ch</th>\n",
       "      <th>x40</th>\n",
       "      <th>x10</th>\n",
       "      <th>pk</th>\n",
       "      <th>high</th>\n",
       "      <th>...</th>\n",
       "      <th>x82nd_week</th>\n",
       "      <th>x83rd_week</th>\n",
       "      <th>x84th_week</th>\n",
       "      <th>x85th_week</th>\n",
       "      <th>x86th_week</th>\n",
       "      <th>x87th_week</th>\n",
       "      <th>x88th_week</th>\n",
       "      <th>x89th_week</th>\n",
       "      <th>x90th_week</th>\n",
       "      <th>x91st_week</th>\n",
       "    </tr>\n",
       "  </thead>\n",
       "  <tbody>\n",
       "    <tr>\n",
       "      <th>5727</th>\n",
       "      <td> 11758</td>\n",
       "      <td> 2015</td>\n",
       "      <td> 147</td>\n",
       "      <td> h</td>\n",
       "      <td> 2015-147</td>\n",
       "      <td> 20</td>\n",
       "      <td> 18</td>\n",
       "      <td> 5</td>\n",
       "      <td> 1</td>\n",
       "      <td>  8</td>\n",
       "      <td>...</td>\n",
       "      <td>NaN</td>\n",
       "      <td>NaN</td>\n",
       "      <td>NaN</td>\n",
       "      <td>NaN</td>\n",
       "      <td>NaN</td>\n",
       "      <td>NaN</td>\n",
       "      <td>NaN</td>\n",
       "      <td>NaN</td>\n",
       "      <td>NaN</td>\n",
       "      <td>NaN</td>\n",
       "    </tr>\n",
       "    <tr>\n",
       "      <th>5728</th>\n",
       "      <td> 23109</td>\n",
       "      <td> 2015</td>\n",
       "      <td> 148</td>\n",
       "      <td> h</td>\n",
       "      <td> 2015-148</td>\n",
       "      <td> 20</td>\n",
       "      <td> 18</td>\n",
       "      <td> 8</td>\n",
       "      <td> 1</td>\n",
       "      <td>  2</td>\n",
       "      <td>...</td>\n",
       "      <td>NaN</td>\n",
       "      <td>NaN</td>\n",
       "      <td>NaN</td>\n",
       "      <td>NaN</td>\n",
       "      <td>NaN</td>\n",
       "      <td>NaN</td>\n",
       "      <td>NaN</td>\n",
       "      <td>NaN</td>\n",
       "      <td>NaN</td>\n",
       "      <td>NaN</td>\n",
       "    </tr>\n",
       "    <tr>\n",
       "      <th>5729</th>\n",
       "      <td> 36992</td>\n",
       "      <td> 2015</td>\n",
       "      <td> 149</td>\n",
       "      <td> h</td>\n",
       "      <td> 2015-149</td>\n",
       "      <td>  1</td>\n",
       "      <td>  0</td>\n",
       "      <td> 0</td>\n",
       "      <td> 1</td>\n",
       "      <td> 45</td>\n",
       "      <td>...</td>\n",
       "      <td>NaN</td>\n",
       "      <td>NaN</td>\n",
       "      <td>NaN</td>\n",
       "      <td>NaN</td>\n",
       "      <td>NaN</td>\n",
       "      <td>NaN</td>\n",
       "      <td>NaN</td>\n",
       "      <td>NaN</td>\n",
       "      <td>NaN</td>\n",
       "      <td>NaN</td>\n",
       "    </tr>\n",
       "    <tr>\n",
       "      <th>5730</th>\n",
       "      <td>  7173</td>\n",
       "      <td> 2015</td>\n",
       "      <td> 150</td>\n",
       "      <td> h</td>\n",
       "      <td> 2015-150</td>\n",
       "      <td>  1</td>\n",
       "      <td>  0</td>\n",
       "      <td> 0</td>\n",
       "      <td> 1</td>\n",
       "      <td> 50</td>\n",
       "      <td>...</td>\n",
       "      <td>NaN</td>\n",
       "      <td>NaN</td>\n",
       "      <td>NaN</td>\n",
       "      <td>NaN</td>\n",
       "      <td>NaN</td>\n",
       "      <td>NaN</td>\n",
       "      <td>NaN</td>\n",
       "      <td>NaN</td>\n",
       "      <td>NaN</td>\n",
       "      <td>NaN</td>\n",
       "    </tr>\n",
       "    <tr>\n",
       "      <th>5731</th>\n",
       "      <td> 39589</td>\n",
       "      <td> 2015</td>\n",
       "      <td> 151</td>\n",
       "      <td> h</td>\n",
       "      <td> 2015-151</td>\n",
       "      <td>  1</td>\n",
       "      <td>  0</td>\n",
       "      <td> 0</td>\n",
       "      <td> 1</td>\n",
       "      <td> 51</td>\n",
       "      <td>...</td>\n",
       "      <td>NaN</td>\n",
       "      <td>NaN</td>\n",
       "      <td>NaN</td>\n",
       "      <td>NaN</td>\n",
       "      <td>NaN</td>\n",
       "      <td>NaN</td>\n",
       "      <td>NaN</td>\n",
       "      <td>NaN</td>\n",
       "      <td>NaN</td>\n",
       "      <td>NaN</td>\n",
       "    </tr>\n",
       "  </tbody>\n",
       "</table>\n",
       "<p>5 rows × 127 columns</p>\n",
       "</div>"
      ],
      "text/plain": [
       "         id  year yearly_rank source    prefix  ch  x40  x10  pk  high  \\\n",
       "5727  11758  2015         147      h  2015-147  20   18    5   1     8   \n",
       "5728  23109  2015         148      h  2015-148  20   18    8   1     2   \n",
       "5729  36992  2015         149      h  2015-149   1    0    0   1    45   \n",
       "5730   7173  2015         150      h  2015-150   1    0    0   1    50   \n",
       "5731  39589  2015         151      h  2015-151   1    0    0   1    51   \n",
       "\n",
       "         ...     x82nd_week x83rd_week x84th_week x85th_week x86th_week  \\\n",
       "5727     ...            NaN        NaN        NaN        NaN        NaN   \n",
       "5728     ...            NaN        NaN        NaN        NaN        NaN   \n",
       "5729     ...            NaN        NaN        NaN        NaN        NaN   \n",
       "5730     ...            NaN        NaN        NaN        NaN        NaN   \n",
       "5731     ...            NaN        NaN        NaN        NaN        NaN   \n",
       "\n",
       "     x87th_week x88th_week x89th_week x90th_week  x91st_week  \n",
       "5727        NaN        NaN        NaN        NaN         NaN  \n",
       "5728        NaN        NaN        NaN        NaN         NaN  \n",
       "5729        NaN        NaN        NaN        NaN         NaN  \n",
       "5730        NaN        NaN        NaN        NaN         NaN  \n",
       "5731        NaN        NaN        NaN        NaN         NaN  \n",
       "\n",
       "[5 rows x 127 columns]"
      ]
     },
     "execution_count": 1,
     "metadata": {},
     "output_type": "execute_result"
    }
   ],
   "source": [
    "# Generate a .csv file with only the names of recent artists\n",
    "\n",
    "import pandas as pd\n",
    "import numpy as np\n",
    "\n",
    "import datetime as dt\n",
    "import time\n",
    "\n",
    "billboard = pd.DataFrame.from_csv('BillboardData_mod_2000.csv',index_col=False)\n",
    "billboard.tail()"
   ]
  },
  {
   "cell_type": "code",
   "execution_count": 2,
   "metadata": {
    "collapsed": false
   },
   "outputs": [],
   "source": [
    "# get a sample of artists\n",
    "only15 = billboard[billboard.year == 2015]\n",
    "only14_15 = billboard[billboard.year > 2013]\n",
    "only10_15 = billboard[billboard.year > 2009]"
   ]
  },
  {
   "cell_type": "code",
   "execution_count": 5,
   "metadata": {
    "collapsed": false
   },
   "outputs": [
    {
     "data": {
      "text/plain": [
       "110"
      ]
     },
     "execution_count": 5,
     "metadata": {},
     "output_type": "execute_result"
    }
   ],
   "source": [
    "artists15 = only15.artist_standardized.unique()\n",
    "len(artists15)"
   ]
  },
  {
   "cell_type": "code",
   "execution_count": 6,
   "metadata": {
    "collapsed": false
   },
   "outputs": [
    {
     "data": {
      "text/plain": [
       "281"
      ]
     },
     "execution_count": 6,
     "metadata": {},
     "output_type": "execute_result"
    }
   ],
   "source": [
    "artists14_15 = only14_15.artist_standardized.unique()\n",
    "len(artists14_15)"
   ]
  },
  {
   "cell_type": "code",
   "execution_count": 7,
   "metadata": {
    "collapsed": false
   },
   "outputs": [
    {
     "data": {
      "text/plain": [
       "631"
      ]
     },
     "execution_count": 7,
     "metadata": {},
     "output_type": "execute_result"
    }
   ],
   "source": [
    "artists10_15 = only10_15.artist_standardized.unique()\n",
    "len(artists10_15)"
   ]
  },
  {
   "cell_type": "code",
   "execution_count": 8,
   "metadata": {
    "collapsed": false
   },
   "outputs": [],
   "source": [
    "artist_names_15 = pd.DataFrame(list(artists15),columns=['artist_name'])\n",
    "artist_names_14_15 = pd.DataFrame(list(artists14_15),columns=['artist_name'])\n",
    "artist_names_10_15 = pd.DataFrame(list(artists10_15),columns=['artist_name'])"
   ]
  },
  {
   "cell_type": "code",
   "execution_count": 37,
   "metadata": {
    "collapsed": false
   },
   "outputs": [
    {
     "data": {
      "text/html": [
       "<div style=\"max-height:1000px;max-width:1500px;overflow:auto;\">\n",
       "<table border=\"1\" class=\"dataframe\">\n",
       "  <thead>\n",
       "    <tr style=\"text-align: right;\">\n",
       "      <th></th>\n",
       "      <th>artist_name</th>\n",
       "    </tr>\n",
       "  </thead>\n",
       "  <tbody>\n",
       "    <tr>\n",
       "      <th>0</th>\n",
       "      <td>         Milky Chance</td>\n",
       "    </tr>\n",
       "    <tr>\n",
       "      <th>1</th>\n",
       "      <td>         Fall Out Boy</td>\n",
       "    </tr>\n",
       "    <tr>\n",
       "      <th>2</th>\n",
       "      <td>           Nick Jonas</td>\n",
       "    </tr>\n",
       "    <tr>\n",
       "      <th>3</th>\n",
       "      <td>       Meghan Trainor</td>\n",
       "    </tr>\n",
       "    <tr>\n",
       "      <th>4</th>\n",
       "      <td> Florida Georgia Line</td>\n",
       "    </tr>\n",
       "  </tbody>\n",
       "</table>\n",
       "</div>"
      ],
      "text/plain": [
       "            artist_name\n",
       "0          Milky Chance\n",
       "1          Fall Out Boy\n",
       "2            Nick Jonas\n",
       "3        Meghan Trainor\n",
       "4  Florida Georgia Line"
      ]
     },
     "execution_count": 37,
     "metadata": {},
     "output_type": "execute_result"
    }
   ],
   "source": [
    "artist_names_15.head()"
   ]
  },
  {
   "cell_type": "code",
   "execution_count": 10,
   "metadata": {
    "collapsed": true
   },
   "outputs": [],
   "source": [
    "artist_names_14_15.to_csv('billboard_artist_names_2014_15.csv',encoding=\"utf-8\")\n",
    "artist_names_15.to_csv('billboard_artist_names_2015.csv',encoding=\"utf-8\")\n",
    "artist_names_10_15.to_csv('billboard_artist_names_2010_15.csv',encoding=\"utf-8\")\n"
   ]
  },
  {
   "cell_type": "code",
   "execution_count": null,
   "metadata": {
    "collapsed": true
   },
   "outputs": [],
   "source": []
  }
 ],
 "metadata": {
  "kernelspec": {
   "display_name": "Python 2",
   "language": "python",
   "name": "python2"
  },
  "language_info": {
   "codemirror_mode": {
    "name": "ipython",
    "version": 2
   },
   "file_extension": ".py",
   "mimetype": "text/x-python",
   "name": "python",
   "nbconvert_exporter": "python",
   "pygments_lexer": "ipython2",
   "version": "2.7.10"
  }
 },
 "nbformat": 4,
 "nbformat_minor": 0
}

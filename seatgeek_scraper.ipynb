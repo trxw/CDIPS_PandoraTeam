{
 "metadata": {
  "name": "",
  "signature": "sha256:5e20f0335473f9cb7018c15f7ee891be572ac50757df145693400475ebca87ca"
 },
 "nbformat": 3,
 "nbformat_minor": 0,
 "worksheets": [
  {
   "cells": [
    {
     "cell_type": "markdown",
     "metadata": {},
     "source": [
      "Note: This has pricing stats, but as far as I can tell no real sales number.\n",
      "They have a 0 to 1 score that is supposedly based on sales numbers relative to other objects of the same type.\n",
      "\n",
      "SeatGeek maintains a comprehensive directory of live events in the United States and Canada (and to a lesser degree, internationally). We created the SeatGeek Platform to enable others to build on top of that data. The SeatGeek Platform makes it easy to construct applications that help users find and discover events by exposing the wealth of data and powerful search behind SeatGeek.com in an easy-to-consume format.\n",
      "\n",
      "Performers\n",
      "\n",
      "To find a performer matching your search criteria you will send a request to the /performers endpoint. Sending a request to /performers will return a paginated list of all performers.\n",
      "\n",
      "All arguments can be used with each other with the exception of the id argument. id can only be used with API-wide arguments, such as those for pagination and sorting.\n",
      "\n",
      "\n",
      "slug Argument\n",
      "\n",
      "The slug argument is used to scope the result to a performer matching a slug.\n",
      "\n",
      "slug: optional, default is null\n",
      "A query to the slug argument looks like this: /performers?slug=new-york-mets. This will return a performer document matching the New York Mets\n",
      "\n",
      "Example Requests\n",
      "\n",
      "New York Mets\n",
      "$ curl 'http://api.seatgeek.com/2/performers?slug=new-york-mets'\n",
      "\n",
      "query Argument\n",
      "\n",
      "The q argument is used to search across all possible parts of a response document.\n",
      "\n",
      "q: optional, default is null\n",
      "This is a very broad search, and, like events and venues, will possibly return unexpected results.\n",
      "\n",
      "Example Requests\n",
      "\n",
      "Matches 'red hot'\n",
      "$ curl 'http://api.seatgeek.com/2/performers?q=red+hot'\n",
      "\n",
      "Matches 'skrillex'\n",
      "$ curl 'http://api.seatgeek.com/2/performers?q=skrillex'"
     ]
    },
    {
     "cell_type": "code",
     "collapsed": false,
     "input": [
      "import anyjson as json\n",
      "import requests\n",
      "from bs4 import BeautifulSoup\n",
      "#import scalpyr\n",
      "import urllib\n",
      "from json import load \n",
      "import pandas as pd\n",
      "from pandas import DataFrame\n",
      "import numpy as np\n",
      "import codecs\n",
      "#from urllib import request\n",
      "from urllib2 import urlopen # python 2.7 version\n",
      "#import urlopen\n",
      "from json import load\n",
      "#import sqlite3\n",
      "#import csv\n",
      "#import codecs\n",
      "#import cStringIO\n",
      "#import sys\n",
      "import hashlib"
     ],
     "language": "python",
     "metadata": {},
     "outputs": [],
     "prompt_number": 9
    },
    {
     "cell_type": "code",
     "collapsed": false,
     "input": [
      "import re\n",
      "def cleanName(name):\n",
      "    \"\"\"\n",
      "    Use regular expressions to change an artist name string into\n",
      "    a valid seatgeek slug.\n",
      "    \"\"\"\n",
      "    r = re.compile(r\"\\s+\")\n",
      "    s = r.sub(\"-\", name) # \"a\\nb\\nc\n",
      "    return s.lower()\n",
      "\n",
      "def searchName(name):\n",
      "    \"\"\"\n",
      "    Use regular expressions to change slug to seach.\n",
      "    \"\"\"\n",
      "    r = re.compile(r\"-\")\n",
      "    s = cleanName(name)\n",
      "    s = r.sub(\"+\", s) # \"a\\nb\\nc\n",
      "    return s.lower()\n",
      "\n",
      "# test\n",
      "print cleanName('Lady Gaga')\n",
      "print searchName('Lady Gaga')"
     ],
     "language": "python",
     "metadata": {},
     "outputs": [
      {
       "output_type": "stream",
       "stream": "stdout",
       "text": [
        "lady-gaga\n",
        "lady+gaga\n"
       ]
      }
     ],
     "prompt_number": 20
    },
    {
     "cell_type": "code",
     "collapsed": false,
     "input": [
      "ArtistList = DataFrame.from_csv('mode/mode-report-run-707064319e01.csv', sep='\\t',index_col=False)\n",
      "DailyStats = pd.DataFrame()\n",
      "ArtistList['name_length'] = 0\n",
      "for i in range(len(ArtistList)):\n",
      "    ArtistList['name_length'][i] = len(ArtistList['artist_name'][i])\n",
      "ArtistList = ArtistList[ArtistList['name_length'] <= 60]\n",
      "ArtistList['artist_name_clean'] = ArtistList.artist_name.apply(cleanName)\n",
      "ArtistList.head()"
     ],
     "language": "python",
     "metadata": {},
     "outputs": [
      {
       "html": [
        "<div style=\"max-height:1000px;max-width:1500px;overflow:auto;\">\n",
        "<table border=\"1\" class=\"dataframe\">\n",
        "  <thead>\n",
        "    <tr style=\"text-align: right;\">\n",
        "      <th></th>\n",
        "      <th>artist_name</th>\n",
        "      <th>name_length</th>\n",
        "      <th>artist_name_clean</th>\n",
        "    </tr>\n",
        "  </thead>\n",
        "  <tbody>\n",
        "    <tr>\n",
        "      <th>0</th>\n",
        "      <td>                       Gus Viseur</td>\n",
        "      <td> 10</td>\n",
        "      <td>                       Gus-Viseur</td>\n",
        "    </tr>\n",
        "    <tr>\n",
        "      <th>2</th>\n",
        "      <td> Empire Strikes Back (Film Score)</td>\n",
        "      <td> 32</td>\n",
        "      <td> Empire-Strikes-Back-(Film-Score)</td>\n",
        "    </tr>\n",
        "    <tr>\n",
        "      <th>3</th>\n",
        "      <td>                       Saul Viera</td>\n",
        "      <td> 10</td>\n",
        "      <td>                       Saul-Viera</td>\n",
        "    </tr>\n",
        "    <tr>\n",
        "      <th>4</th>\n",
        "      <td>                        Romantics</td>\n",
        "      <td>  9</td>\n",
        "      <td>                        Romantics</td>\n",
        "    </tr>\n",
        "    <tr>\n",
        "      <th>5</th>\n",
        "      <td>                        Will Talk</td>\n",
        "      <td>  9</td>\n",
        "      <td>                        Will-Talk</td>\n",
        "    </tr>\n",
        "  </tbody>\n",
        "</table>\n",
        "</div>"
       ],
       "metadata": {},
       "output_type": "pyout",
       "prompt_number": 11,
       "text": [
        "                        artist_name  name_length  \\\n",
        "0                        Gus Viseur           10   \n",
        "2  Empire Strikes Back (Film Score)           32   \n",
        "3                        Saul Viera           10   \n",
        "4                         Romantics            9   \n",
        "5                         Will Talk            9   \n",
        "\n",
        "                  artist_name_clean  \n",
        "0                        Gus-Viseur  \n",
        "2  Empire-Strikes-Back-(Film-Score)  \n",
        "3                        Saul-Viera  \n",
        "4                         Romantics  \n",
        "5                         Will-Talk  "
       ]
      }
     ],
     "prompt_number": 11
    },
    {
     "cell_type": "code",
     "collapsed": false,
     "input": [
      "# Example performer request\n",
      "a = 'Jose Gonzalez'\n",
      "\n",
      "reader = codecs.getreader(\"utf-8\")\n",
      "# slug\n",
      "surl = 'http://api.seatgeek.com/2/performers?slug='\n",
      "#s = 'jose-gonzalez'\n",
      "s = cleanName(a)\n",
      "# query\n",
      "qurl = 'http://api.seatgeek.com/2/performers?q='\n",
      "q = searchName(a)\n",
      "\n",
      "try:\n",
      "        #url = surl \n",
      "        #search_term = s\n",
      "        \n",
      "        url = qurl\n",
      "        search_term = q\n",
      "        \n",
      "        url += search_term\n",
      "        print url\n",
      "        \n",
      "        #response = request.urlopen(url)\n",
      "        response = urlopen(url)\n",
      "        json_obj = load(reader(response))\n",
      "\n",
      "except ValueError:\n",
      "        pass\n",
      "        #print (ArtistList['artist_name'][a] )\n",
      "\n"
     ],
     "language": "python",
     "metadata": {},
     "outputs": [
      {
       "output_type": "stream",
       "stream": "stdout",
       "text": [
        "http://api.seatgeek.com/2/performers?q=jose+gonzalez\n"
       ]
      }
     ],
     "prompt_number": 142
    },
    {
     "cell_type": "code",
     "collapsed": false,
     "input": [
      "pcols = ['id','name','slug','score','short_name','event_count','has_upcoming','genres','type','events']\n",
      "\n",
      "pfs = pd.DataFrame(columns=pcols)\n",
      "performers = json_obj['performers']\n",
      "for performer in performers:\n",
      "    \n",
      "    try:\n",
      "        genres = ','.join([g['name'] for g in performer['genres']])\n",
      "    except:\n",
      "        genres = ''\n",
      "    df = pd.DataFrame([[int(performer['id']),performer['name'], \n",
      "        performer['slug'], performer['score'],\n",
      "        performer['short_name'],performer['stats']['event_count'], \n",
      "        performer['has_upcoming_events'],genres,performer['type'],'' ]]\n",
      "                      ,columns=pcols,index=[int(performer['id'])])\n",
      "    pfs = pfs.append(df)\n",
      "\n",
      "pfs"
     ],
     "language": "python",
     "metadata": {},
     "outputs": [
      {
       "html": [
        "<div style=\"max-height:1000px;max-width:1500px;overflow:auto;\">\n",
        "<table border=\"1\" class=\"dataframe\">\n",
        "  <thead>\n",
        "    <tr style=\"text-align: right;\">\n",
        "      <th></th>\n",
        "      <th>id</th>\n",
        "      <th>name</th>\n",
        "      <th>slug</th>\n",
        "      <th>score</th>\n",
        "      <th>short_name</th>\n",
        "      <th>event_count</th>\n",
        "      <th>has_upcoming</th>\n",
        "      <th>genres</th>\n",
        "      <th>type</th>\n",
        "      <th>events</th>\n",
        "    </tr>\n",
        "  </thead>\n",
        "  <tbody>\n",
        "    <tr>\n",
        "      <th>25192 </th>\n",
        "      <td>  25192</td>\n",
        "      <td>                         Jose Gonzalez</td>\n",
        "      <td>                         jose-gonzalez</td>\n",
        "      <td> 0.51454</td>\n",
        "      <td>                         Jose Gonzalez</td>\n",
        "      <td> 18</td>\n",
        "      <td>  True</td>\n",
        "      <td> singer-songwriter</td>\n",
        "      <td> band</td>\n",
        "      <td> </td>\n",
        "    </tr>\n",
        "    <tr>\n",
        "      <th>298183</th>\n",
        "      <td> 298183</td>\n",
        "      <td> Jose Gonzalez with Guest Olof Arnalds</td>\n",
        "      <td> jose-gonzalez-with-guest-olof-arnalds</td>\n",
        "      <td> 0.37188</td>\n",
        "      <td> Jose Gonzalez with Guest Olof Arnalds</td>\n",
        "      <td>  0</td>\n",
        "      <td> False</td>\n",
        "      <td>                  </td>\n",
        "      <td> band</td>\n",
        "      <td> </td>\n",
        "    </tr>\n",
        "    <tr>\n",
        "      <th>297463</th>\n",
        "      <td> 297463</td>\n",
        "      <td>                         Jose Gonzales</td>\n",
        "      <td>                         jose-gonzales</td>\n",
        "      <td> 0.00000</td>\n",
        "      <td>                         Jose Gonzales</td>\n",
        "      <td>  0</td>\n",
        "      <td> False</td>\n",
        "      <td>                  </td>\n",
        "      <td> band</td>\n",
        "      <td> </td>\n",
        "    </tr>\n",
        "    <tr>\n",
        "      <th>142923</th>\n",
        "      <td> 142923</td>\n",
        "      <td>                    Jose Diaz-Gonzalez</td>\n",
        "      <td>                    jose-diaz-gonzalez</td>\n",
        "      <td> 0.00000</td>\n",
        "      <td>                    Jose Diaz-Gonzalez</td>\n",
        "      <td>  0</td>\n",
        "      <td> False</td>\n",
        "      <td>                  </td>\n",
        "      <td> band</td>\n",
        "      <td> </td>\n",
        "    </tr>\n",
        "  </tbody>\n",
        "</table>\n",
        "</div>"
       ],
       "metadata": {},
       "output_type": "pyout",
       "prompt_number": 145,
       "text": [
        "            id                                   name  \\\n",
        "25192    25192                          Jose Gonzalez   \n",
        "298183  298183  Jose Gonzalez with Guest Olof Arnalds   \n",
        "297463  297463                          Jose Gonzales   \n",
        "142923  142923                     Jose Diaz-Gonzalez   \n",
        "\n",
        "                                         slug    score  \\\n",
        "25192                           jose-gonzalez  0.51454   \n",
        "298183  jose-gonzalez-with-guest-olof-arnalds  0.37188   \n",
        "297463                          jose-gonzales  0.00000   \n",
        "142923                     jose-diaz-gonzalez  0.00000   \n",
        "\n",
        "                                   short_name  event_count has_upcoming  \\\n",
        "25192                           Jose Gonzalez           18         True   \n",
        "298183  Jose Gonzalez with Guest Olof Arnalds            0        False   \n",
        "297463                          Jose Gonzales            0        False   \n",
        "142923                     Jose Diaz-Gonzalez            0        False   \n",
        "\n",
        "                   genres  type events  \n",
        "25192   singer-songwriter  band         \n",
        "298183                     band         \n",
        "297463                     band         \n",
        "142923                     band         "
       ]
      }
     ],
     "prompt_number": 145
    },
    {
     "cell_type": "code",
     "collapsed": false,
     "input": [
      "json_obj.keys()"
     ],
     "language": "python",
     "metadata": {},
     "outputs": [
      {
       "metadata": {},
       "output_type": "pyout",
       "prompt_number": 25,
       "text": [
        "[u'meta', u'performers']"
       ]
      }
     ],
     "prompt_number": 25
    },
    {
     "cell_type": "code",
     "collapsed": false,
     "input": [
      "# gives a list of different performers\n",
      "print len(json_obj['performers'])\n",
      "performers = json_obj['performers']\n",
      "print [ p['name'] for p in performers]\n",
      "performer = json_obj['performers'][0]\n",
      "performer.keys()"
     ],
     "language": "python",
     "metadata": {},
     "outputs": [
      {
       "output_type": "stream",
       "stream": "stdout",
       "text": [
        "4\n",
        "[u'Jose Gonzalez', u'Jose Gonzalez with Guest Olof Arnalds', u'Jose Gonzales', u'Jose Diaz-Gonzalez']\n"
       ]
      },
      {
       "metadata": {},
       "output_type": "pyout",
       "prompt_number": 26,
       "text": [
        "[u'genres',\n",
        " u'stats',\n",
        " u'name',\n",
        " u'short_name',\n",
        " u'url',\n",
        " u'has_upcoming_events',\n",
        " u'image',\n",
        " u'links',\n",
        " u'home_venue_id',\n",
        " u'id',\n",
        " u'score',\n",
        " u'images',\n",
        " u'taxonomies',\n",
        " u'type',\n",
        " u'slug']"
       ]
      }
     ],
     "prompt_number": 26
    },
    {
     "cell_type": "code",
     "collapsed": false,
     "input": [
      "# Example events request\n",
      "evs = pd.DataFrame()\n",
      "\n",
      "row_iterator = pfs.iterrows()\n",
      "#_, last = row_iterator.next()  # take first item from row_iterator\n",
      "for i, pf in row_iterator:\n",
      "#if True:\n",
      "    #print pf\n",
      "    pid = int(pf['id'])\n",
      "    #print pid\n",
      "\n",
      "    # slug\n",
      "    idurl = 'http://api.seatgeek.com/2/events?performers.id='\n",
      "\n",
      "    try:\n",
      "        url = idurl \n",
      "        search_term = str(pid)\n",
      "                \n",
      "        url += search_term\n",
      "        print url\n",
      "        \n",
      "        #response = request.urlopen(url)\n",
      "        response = urlopen(url)\n",
      "        json_obj = load(reader(response))\n",
      "\n",
      "    except ValueError:\n",
      "        pass\n",
      "        #print (ArtistList['artist_name'][a] )\n",
      "        \n",
      "    #print json_obj\n",
      "    \n",
      "    events = json_obj['events']\n",
      "    # add list of event ids to performer\n",
      "    pfs.loc[pid,'events'] = ','.join([ str(e['id']) for e in events ])\n",
      "\n",
      "    for event in events:\n",
      "        ecols = []\n",
      "        efields = []\n",
      "\n",
      "        # id type and title (and score)\n",
      "        l = ['id','type','title','short_title','score']\n",
      "        ecols = ecols + l\n",
      "        efields = efields + [event[s] for s in l ]\n",
      "\n",
      "        # dates and times\n",
      "        l = ['time_tbd','date_tbd','datetime_local','datetime_utc','created_at']\n",
      "        ecols = ecols + l\n",
      "        efields = efields + [event[s] for s in l ]\n",
      "\n",
      "        # performers\n",
      "        l = ['num_performers','performer_ids','performer_slugs']\n",
      "        perfs = event['performers']\n",
      "        num_perfs = len(perfs)\n",
      "        perf_ids = [p['id'] for p in perfs]\n",
      "        perf_slugs = [p['slug'] for p in perfs]\n",
      "        ecols = ecols + l\n",
      "        efields = efields + [num_perfs,perf_ids,perf_ids]\n",
      "\n",
      "        # venue\n",
      "        l = ['venue_id','venue_slug']\n",
      "        venue = event['venue']\n",
      "        venue_id = venue['id'] \n",
      "        venue_slug = venue['slug']\n",
      "        ecols = ecols + l\n",
      "        efields = efields + [venue_id,venue_slug]\n",
      "\n",
      "        # stats\n",
      "        stats = event['stats']\n",
      "        ecols = ecols + stats.keys()\n",
      "        efields = efields + [stats[key] for key in stats.keys()]\n",
      "\n",
      "        # make dataframe\n",
      "        ev = pd.DataFrame([efields],columns=ecols, index=[event['id']])\n",
      "        evs = evs.append(ev)\n",
      "\n",
      "evs.head()    \n",
      "    \n"
     ],
     "language": "python",
     "metadata": {},
     "outputs": [
      {
       "output_type": "stream",
       "stream": "stdout",
       "text": [
        "http://api.seatgeek.com/2/events?performers.id=25192\n",
        "http://api.seatgeek.com/2/events?performers.id=298183"
       ]
      },
      {
       "output_type": "stream",
       "stream": "stdout",
       "text": [
        "\n",
        "http://api.seatgeek.com/2/events?performers.id=297463"
       ]
      },
      {
       "output_type": "stream",
       "stream": "stdout",
       "text": [
        "\n",
        "http://api.seatgeek.com/2/events?performers.id=142923"
       ]
      },
      {
       "output_type": "stream",
       "stream": "stdout",
       "text": [
        "\n"
       ]
      },
      {
       "html": [
        "<div style=\"max-height:1000px;max-width:1500px;overflow:auto;\">\n",
        "<table border=\"1\" class=\"dataframe\">\n",
        "  <thead>\n",
        "    <tr style=\"text-align: right;\">\n",
        "      <th></th>\n",
        "      <th>id</th>\n",
        "      <th>type</th>\n",
        "      <th>title</th>\n",
        "      <th>short_title</th>\n",
        "      <th>score</th>\n",
        "      <th>time_tbd</th>\n",
        "      <th>date_tbd</th>\n",
        "      <th>datetime_local</th>\n",
        "      <th>datetime_utc</th>\n",
        "      <th>created_at</th>\n",
        "      <th>num_performers</th>\n",
        "      <th>performer_ids</th>\n",
        "      <th>performer_slugs</th>\n",
        "      <th>venue_id</th>\n",
        "      <th>venue_slug</th>\n",
        "      <th>listing_count</th>\n",
        "      <th>average_price</th>\n",
        "      <th>lowest_price_good_deals</th>\n",
        "      <th>lowest_price</th>\n",
        "      <th>highest_price</th>\n",
        "    </tr>\n",
        "  </thead>\n",
        "  <tbody>\n",
        "    <tr>\n",
        "      <th>2287152</th>\n",
        "      <td> 2287152</td>\n",
        "      <td> music_festival</td>\n",
        "      <td> Latitude Festival (Weekend Pass) with Portishe...</td>\n",
        "      <td> Latitude Festival (Weekend Pass) with Portishe...</td>\n",
        "      <td> 0.48917</td>\n",
        "      <td> False</td>\n",
        "      <td> False</td>\n",
        "      <td> 2015-07-16T14:00:00</td>\n",
        "      <td> 2015-07-16T13:00:00</td>\n",
        "      <td> 2014-08-15T00:00:00</td>\n",
        "      <td> 40</td>\n",
        "      <td> [726, 1720, 1901, 2467, 4291, 4417, 4729, 6715...</td>\n",
        "      <td> [726, 1720, 1901, 2467, 4291, 4417, 4729, 6715...</td>\n",
        "      <td> 35741</td>\n",
        "      <td>           henham-park</td>\n",
        "      <td> None</td>\n",
        "      <td>  None</td>\n",
        "      <td> None</td>\n",
        "      <td> None</td>\n",
        "      <td> None</td>\n",
        "    </tr>\n",
        "    <tr>\n",
        "      <th>2498900</th>\n",
        "      <td> 2498900</td>\n",
        "      <td> music_festival</td>\n",
        "      <td> Longitude Festival (Friday Pass) with Chemical...</td>\n",
        "      <td> Longitude Festival (Friday Pass) with Chemical...</td>\n",
        "      <td> 0.45368</td>\n",
        "      <td> False</td>\n",
        "      <td> False</td>\n",
        "      <td> 2015-07-17T13:30:00</td>\n",
        "      <td> 2015-07-17T12:30:00</td>\n",
        "      <td> 2015-01-30T00:00:00</td>\n",
        "      <td> 30</td>\n",
        "      <td> [4291, 4347, 4417, 4444, 6715, 7634, 7999, 883...</td>\n",
        "      <td> [4291, 4347, 4417, 4444, 6715, 7634, 7999, 883...</td>\n",
        "      <td> 10265</td>\n",
        "      <td>           marlay-park</td>\n",
        "      <td> None</td>\n",
        "      <td>  None</td>\n",
        "      <td> None</td>\n",
        "      <td> None</td>\n",
        "      <td> None</td>\n",
        "    </tr>\n",
        "    <tr>\n",
        "      <th>2468649</th>\n",
        "      <td> 2468649</td>\n",
        "      <td> music_festival</td>\n",
        "      <td> Newport Folk Festival (3 Day Pass) with Iron &amp;...</td>\n",
        "      <td> Newport Folk Festival (3 Day Pass) with Iron &amp;...</td>\n",
        "      <td> 0.64329</td>\n",
        "      <td>  True</td>\n",
        "      <td> False</td>\n",
        "      <td> 2015-07-24T03:30:00</td>\n",
        "      <td> 2015-07-24T07:30:00</td>\n",
        "      <td> 2015-01-08T00:00:00</td>\n",
        "      <td> 41</td>\n",
        "      <td> [107, 271, 363, 399, 574, 725, 890, 920, 1739,...</td>\n",
        "      <td> [107, 271, 363, 399, 574, 725, 890, 920, 1739,...</td>\n",
        "      <td>  2293</td>\n",
        "      <td> fort-adams-state-park</td>\n",
        "      <td>   13</td>\n",
        "      <td>   432</td>\n",
        "      <td> None</td>\n",
        "      <td>  396</td>\n",
        "      <td>  488</td>\n",
        "    </tr>\n",
        "    <tr>\n",
        "      <th>2451870</th>\n",
        "      <td> 2451870</td>\n",
        "      <td> music_festival</td>\n",
        "      <td> Newport Folk Festival (Friday Pass) with Iron ...</td>\n",
        "      <td> Newport Folk Festival (Friday Pass) with Iron ...</td>\n",
        "      <td> 0.65017</td>\n",
        "      <td> False</td>\n",
        "      <td> False</td>\n",
        "      <td> 2015-07-24T11:00:00</td>\n",
        "      <td> 2015-07-24T15:00:00</td>\n",
        "      <td> 2014-12-15T00:00:00</td>\n",
        "      <td> 41</td>\n",
        "      <td> [107, 363, 399, 574, 725, 890, 920, 1739, 4302...</td>\n",
        "      <td> [107, 363, 399, 574, 725, 890, 920, 1739, 4302...</td>\n",
        "      <td>  2293</td>\n",
        "      <td> fort-adams-state-park</td>\n",
        "      <td>   57</td>\n",
        "      <td>   131</td>\n",
        "      <td> None</td>\n",
        "      <td>  104</td>\n",
        "      <td>  433</td>\n",
        "    </tr>\n",
        "    <tr>\n",
        "      <th>2486333</th>\n",
        "      <td> 2486333</td>\n",
        "      <td> music_festival</td>\n",
        "      <td> Newport Folk Festival (2 Day Pass) with Sufjan...</td>\n",
        "      <td> Newport Folk Festival (2 Day Pass) with Sufjan...</td>\n",
        "      <td> 0.64926</td>\n",
        "      <td>  True</td>\n",
        "      <td> False</td>\n",
        "      <td> 2015-07-25T03:30:00</td>\n",
        "      <td> 2015-07-25T07:30:00</td>\n",
        "      <td> 2015-01-22T00:00:00</td>\n",
        "      <td> 27</td>\n",
        "      <td> [271, 363, 574, 725, 920, 4302, 4521, 4729, 50...</td>\n",
        "      <td> [271, 363, 574, 725, 920, 4302, 4521, 4729, 50...</td>\n",
        "      <td>  2293</td>\n",
        "      <td> fort-adams-state-park</td>\n",
        "      <td>   26</td>\n",
        "      <td> 284.5</td>\n",
        "      <td> None</td>\n",
        "      <td>  208</td>\n",
        "      <td>  502</td>\n",
        "    </tr>\n",
        "  </tbody>\n",
        "</table>\n",
        "</div>"
       ],
       "metadata": {},
       "output_type": "pyout",
       "prompt_number": 150,
       "text": [
        "              id            type  \\\n",
        "2287152  2287152  music_festival   \n",
        "2498900  2498900  music_festival   \n",
        "2468649  2468649  music_festival   \n",
        "2451870  2451870  music_festival   \n",
        "2486333  2486333  music_festival   \n",
        "\n",
        "                                                     title  \\\n",
        "2287152  Latitude Festival (Weekend Pass) with Portishe...   \n",
        "2498900  Longitude Festival (Friday Pass) with Chemical...   \n",
        "2468649  Newport Folk Festival (3 Day Pass) with Iron &...   \n",
        "2451870  Newport Folk Festival (Friday Pass) with Iron ...   \n",
        "2486333  Newport Folk Festival (2 Day Pass) with Sufjan...   \n",
        "\n",
        "                                               short_title    score time_tbd  \\\n",
        "2287152  Latitude Festival (Weekend Pass) with Portishe...  0.48917    False   \n",
        "2498900  Longitude Festival (Friday Pass) with Chemical...  0.45368    False   \n",
        "2468649  Newport Folk Festival (3 Day Pass) with Iron &...  0.64329     True   \n",
        "2451870  Newport Folk Festival (Friday Pass) with Iron ...  0.65017    False   \n",
        "2486333  Newport Folk Festival (2 Day Pass) with Sufjan...  0.64926     True   \n",
        "\n",
        "        date_tbd       datetime_local         datetime_utc  \\\n",
        "2287152    False  2015-07-16T14:00:00  2015-07-16T13:00:00   \n",
        "2498900    False  2015-07-17T13:30:00  2015-07-17T12:30:00   \n",
        "2468649    False  2015-07-24T03:30:00  2015-07-24T07:30:00   \n",
        "2451870    False  2015-07-24T11:00:00  2015-07-24T15:00:00   \n",
        "2486333    False  2015-07-25T03:30:00  2015-07-25T07:30:00   \n",
        "\n",
        "                  created_at  num_performers  \\\n",
        "2287152  2014-08-15T00:00:00              40   \n",
        "2498900  2015-01-30T00:00:00              30   \n",
        "2468649  2015-01-08T00:00:00              41   \n",
        "2451870  2014-12-15T00:00:00              41   \n",
        "2486333  2015-01-22T00:00:00              27   \n",
        "\n",
        "                                             performer_ids  \\\n",
        "2287152  [726, 1720, 1901, 2467, 4291, 4417, 4729, 6715...   \n",
        "2498900  [4291, 4347, 4417, 4444, 6715, 7634, 7999, 883...   \n",
        "2468649  [107, 271, 363, 399, 574, 725, 890, 920, 1739,...   \n",
        "2451870  [107, 363, 399, 574, 725, 890, 920, 1739, 4302...   \n",
        "2486333  [271, 363, 574, 725, 920, 4302, 4521, 4729, 50...   \n",
        "\n",
        "                                           performer_slugs  venue_id  \\\n",
        "2287152  [726, 1720, 1901, 2467, 4291, 4417, 4729, 6715...     35741   \n",
        "2498900  [4291, 4347, 4417, 4444, 6715, 7634, 7999, 883...     10265   \n",
        "2468649  [107, 271, 363, 399, 574, 725, 890, 920, 1739,...      2293   \n",
        "2451870  [107, 363, 399, 574, 725, 890, 920, 1739, 4302...      2293   \n",
        "2486333  [271, 363, 574, 725, 920, 4302, 4521, 4729, 50...      2293   \n",
        "\n",
        "                    venue_slug listing_count average_price  \\\n",
        "2287152            henham-park          None          None   \n",
        "2498900            marlay-park          None          None   \n",
        "2468649  fort-adams-state-park            13           432   \n",
        "2451870  fort-adams-state-park            57           131   \n",
        "2486333  fort-adams-state-park            26         284.5   \n",
        "\n",
        "        lowest_price_good_deals lowest_price highest_price  \n",
        "2287152                    None         None          None  \n",
        "2498900                    None         None          None  \n",
        "2468649                    None          396           488  \n",
        "2451870                    None          104           433  \n",
        "2486333                    None          208           502  "
       ]
      }
     ],
     "prompt_number": 150
    },
    {
     "cell_type": "code",
     "collapsed": false,
     "input": [
      "print pfs.loc[25192 ,'events']\n",
      "pfs.head()"
     ],
     "language": "python",
     "metadata": {},
     "outputs": [
      {
       "output_type": "stream",
       "stream": "stdout",
       "text": [
        "2287152,2498900,2468649,2451870,2486333,2451869,2528831,2396635,2377713,2396636\n"
       ]
      },
      {
       "html": [
        "<div style=\"max-height:1000px;max-width:1500px;overflow:auto;\">\n",
        "<table border=\"1\" class=\"dataframe\">\n",
        "  <thead>\n",
        "    <tr style=\"text-align: right;\">\n",
        "      <th></th>\n",
        "      <th>id</th>\n",
        "      <th>name</th>\n",
        "      <th>slug</th>\n",
        "      <th>score</th>\n",
        "      <th>short_name</th>\n",
        "      <th>event_count</th>\n",
        "      <th>has_upcoming</th>\n",
        "      <th>genres</th>\n",
        "      <th>type</th>\n",
        "      <th>events</th>\n",
        "    </tr>\n",
        "  </thead>\n",
        "  <tbody>\n",
        "    <tr>\n",
        "      <th>25192 </th>\n",
        "      <td>  25192</td>\n",
        "      <td>                         Jose Gonzalez</td>\n",
        "      <td>                         jose-gonzalez</td>\n",
        "      <td> 0.51454</td>\n",
        "      <td>                         Jose Gonzalez</td>\n",
        "      <td> 18</td>\n",
        "      <td>  True</td>\n",
        "      <td> singer-songwriter</td>\n",
        "      <td> band</td>\n",
        "      <td> 2287152,2498900,2468649,2451870,2486333,245186...</td>\n",
        "    </tr>\n",
        "    <tr>\n",
        "      <th>298183</th>\n",
        "      <td> 298183</td>\n",
        "      <td> Jose Gonzalez with Guest Olof Arnalds</td>\n",
        "      <td> jose-gonzalez-with-guest-olof-arnalds</td>\n",
        "      <td> 0.37188</td>\n",
        "      <td> Jose Gonzalez with Guest Olof Arnalds</td>\n",
        "      <td>  0</td>\n",
        "      <td> False</td>\n",
        "      <td>                  </td>\n",
        "      <td> band</td>\n",
        "      <td>                                                  </td>\n",
        "    </tr>\n",
        "    <tr>\n",
        "      <th>297463</th>\n",
        "      <td> 297463</td>\n",
        "      <td>                         Jose Gonzales</td>\n",
        "      <td>                         jose-gonzales</td>\n",
        "      <td> 0.00000</td>\n",
        "      <td>                         Jose Gonzales</td>\n",
        "      <td>  0</td>\n",
        "      <td> False</td>\n",
        "      <td>                  </td>\n",
        "      <td> band</td>\n",
        "      <td>                                                  </td>\n",
        "    </tr>\n",
        "    <tr>\n",
        "      <th>142923</th>\n",
        "      <td> 142923</td>\n",
        "      <td>                    Jose Diaz-Gonzalez</td>\n",
        "      <td>                    jose-diaz-gonzalez</td>\n",
        "      <td> 0.00000</td>\n",
        "      <td>                    Jose Diaz-Gonzalez</td>\n",
        "      <td>  0</td>\n",
        "      <td> False</td>\n",
        "      <td>                  </td>\n",
        "      <td> band</td>\n",
        "      <td>                                                  </td>\n",
        "    </tr>\n",
        "  </tbody>\n",
        "</table>\n",
        "</div>"
       ],
       "metadata": {},
       "output_type": "pyout",
       "prompt_number": 154,
       "text": [
        "            id                                   name  \\\n",
        "25192    25192                          Jose Gonzalez   \n",
        "298183  298183  Jose Gonzalez with Guest Olof Arnalds   \n",
        "297463  297463                          Jose Gonzales   \n",
        "142923  142923                     Jose Diaz-Gonzalez   \n",
        "\n",
        "                                         slug    score  \\\n",
        "25192                           jose-gonzalez  0.51454   \n",
        "298183  jose-gonzalez-with-guest-olof-arnalds  0.37188   \n",
        "297463                          jose-gonzales  0.00000   \n",
        "142923                     jose-diaz-gonzalez  0.00000   \n",
        "\n",
        "                                   short_name  event_count has_upcoming  \\\n",
        "25192                           Jose Gonzalez           18         True   \n",
        "298183  Jose Gonzalez with Guest Olof Arnalds            0        False   \n",
        "297463                          Jose Gonzales            0        False   \n",
        "142923                     Jose Diaz-Gonzalez            0        False   \n",
        "\n",
        "                   genres  type  \\\n",
        "25192   singer-songwriter  band   \n",
        "298183                     band   \n",
        "297463                     band   \n",
        "142923                     band   \n",
        "\n",
        "                                                   events  \n",
        "25192   2287152,2498900,2468649,2451870,2486333,245186...  \n",
        "298183                                                     \n",
        "297463                                                     \n",
        "142923                                                     "
       ]
      }
     ],
     "prompt_number": 154
    },
    {
     "cell_type": "code",
     "collapsed": false,
     "input": [
      "# Create venues table"
     ],
     "language": "python",
     "metadata": {},
     "outputs": []
    },
    {
     "cell_type": "code",
     "collapsed": false,
     "input": [
      "json_obj.keys()"
     ],
     "language": "python",
     "metadata": {},
     "outputs": [
      {
       "metadata": {},
       "output_type": "pyout",
       "prompt_number": 46,
       "text": [
        "[u'meta', u'events']"
       ]
      }
     ],
     "prompt_number": 46
    },
    {
     "cell_type": "code",
     "collapsed": false,
     "input": [
      "perfs = event['performers']\n",
      "print len(perfs)\n",
      "\n",
      "perfs[0].keys()"
     ],
     "language": "python",
     "metadata": {},
     "outputs": [
      {
       "output_type": "stream",
       "stream": "stdout",
       "text": [
        "76\n"
       ]
      },
      {
       "metadata": {},
       "output_type": "pyout",
       "prompt_number": 98,
       "text": [
        "[u'genres',\n",
        " u'stats',\n",
        " u'name',\n",
        " u'short_name',\n",
        " u'url',\n",
        " u'has_upcoming_events',\n",
        " u'image',\n",
        " u'home_venue_id',\n",
        " u'id',\n",
        " u'score',\n",
        " u'images',\n",
        " u'taxonomies',\n",
        " u'type',\n",
        " u'slug']"
       ]
      }
     ],
     "prompt_number": 98
    },
    {
     "cell_type": "code",
     "collapsed": false,
     "input": [
      "events = json_obj['events']\n",
      "print len(events)\n",
      "\n",
      "events[2].keys()"
     ],
     "language": "python",
     "metadata": {},
     "outputs": [
      {
       "output_type": "stream",
       "stream": "stdout",
       "text": [
        "10\n"
       ]
      },
      {
       "metadata": {},
       "output_type": "pyout",
       "prompt_number": 72,
       "text": [
        "[u'time_tbd',\n",
        " u'taxonomies',\n",
        " u'stats',\n",
        " u'links',\n",
        " u'title',\n",
        " u'url',\n",
        " u'datetime_local',\n",
        " u'created_at',\n",
        " u'performers',\n",
        " u'venue',\n",
        " u'announce_date',\n",
        " u'short_title',\n",
        " u'general_admission',\n",
        " u'datetime_utc',\n",
        " u'score',\n",
        " u'datetime_tbd',\n",
        " u'visible_until_utc',\n",
        " u'date_tbd',\n",
        " u'type',\n",
        " u'id']"
       ]
      }
     ],
     "prompt_number": 72
    },
    {
     "cell_type": "code",
     "collapsed": false,
     "input": [
      "event = events[7]"
     ],
     "language": "python",
     "metadata": {},
     "outputs": [],
     "prompt_number": 77
    },
    {
     "cell_type": "code",
     "collapsed": false,
     "input": [
      "event['created_at']"
     ],
     "language": "python",
     "metadata": {},
     "outputs": [
      {
       "metadata": {},
       "output_type": "pyout",
       "prompt_number": 71,
       "text": [
        "u'2014-11-07T00:00:00'"
       ]
      }
     ],
     "prompt_number": 71
    },
    {
     "cell_type": "code",
     "collapsed": false,
     "input": [
      "print event['datetime_local']\n",
      "print event['datetime_utc']\n",
      "print event['announce_date']"
     ],
     "language": "python",
     "metadata": {},
     "outputs": [
      {
       "output_type": "stream",
       "stream": "stdout",
       "text": [
        "2015-10-09T03:30:00\n",
        "2015-10-09T08:30:00\n",
        "2014-11-07T00:00:00\n"
       ]
      }
     ],
     "prompt_number": 67
    },
    {
     "cell_type": "code",
     "collapsed": false,
     "input": [
      "stats = event['stats']\n",
      "print stats.keys()\n",
      "[stats[key] for key in stats.keys()]"
     ],
     "language": "python",
     "metadata": {},
     "outputs": [
      {
       "output_type": "stream",
       "stream": "stdout",
       "text": [
        "[u'listing_count', u'average_price', u'lowest_price_good_deals', u'lowest_price', u'highest_price']\n"
       ]
      },
      {
       "metadata": {},
       "output_type": "pyout",
       "prompt_number": 82,
       "text": [
        "[96, 412.0, None, 362.0, 1966.0]"
       ]
      }
     ],
     "prompt_number": 82
    },
    {
     "cell_type": "code",
     "collapsed": false,
     "input": [
      "event['general_admission']"
     ],
     "language": "python",
     "metadata": {},
     "outputs": [
      {
       "metadata": {},
       "output_type": "pyout",
       "prompt_number": 68,
       "text": [
        "True"
       ]
      }
     ],
     "prompt_number": 68
    },
    {
     "cell_type": "code",
     "collapsed": false,
     "input": [
      "event['time_tbd']"
     ],
     "language": "python",
     "metadata": {},
     "outputs": [
      {
       "metadata": {},
       "output_type": "pyout",
       "prompt_number": 59,
       "text": [
        "False"
       ]
      }
     ],
     "prompt_number": 59
    },
    {
     "cell_type": "code",
     "collapsed": false,
     "input": [
      "event['title']"
     ],
     "language": "python",
     "metadata": {},
     "outputs": [
      {
       "metadata": {},
       "output_type": "pyout",
       "prompt_number": 60,
       "text": [
        "u'Austin City Limits Festival (Friday Pass) with Foo Fighters, The Strokes, Drake'"
       ]
      }
     ],
     "prompt_number": 60
    },
    {
     "cell_type": "code",
     "collapsed": false,
     "input": [
      "event['venue']"
     ],
     "language": "python",
     "metadata": {},
     "outputs": [
      {
       "metadata": {},
       "output_type": "pyout",
       "prompt_number": 62,
       "text": [
        "{u'address': u'2100 Barton Springs Road',\n",
        " u'city': u'Austin',\n",
        " u'country': u'US',\n",
        " u'display_location': u'Austin, TX',\n",
        " u'extended_address': u'Austin, TX 78746',\n",
        " u'id': 3850,\n",
        " u'links': [],\n",
        " u'location': {u'lat': 30.2656, u'lon': -97.7661},\n",
        " u'name': u'Zilker Park',\n",
        " u'postal_code': u'78746',\n",
        " u'score': 0.83187,\n",
        " u'slug': u'zilker-park',\n",
        " u'state': u'TX',\n",
        " u'timezone': u'America/Chicago',\n",
        " u'url': u'https://seatgeek.com/venues/zilker-park/tickets/'}"
       ]
      }
     ],
     "prompt_number": 62
    },
    {
     "cell_type": "code",
     "collapsed": false,
     "input": [],
     "language": "python",
     "metadata": {},
     "outputs": []
    }
   ],
   "metadata": {}
  }
 ]
}
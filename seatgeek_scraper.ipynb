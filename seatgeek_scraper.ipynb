{
 "metadata": {
  "name": "",
  "signature": "sha256:68212ff77940e43e3e315bc14f3a7cab5ce698352144a7ce15d58548773cdf6d"
 },
 "nbformat": 3,
 "nbformat_minor": 0,
 "worksheets": [
  {
   "cells": [
    {
     "cell_type": "markdown",
     "metadata": {},
     "source": [
      "SeatGeek maintains a comprehensive directory of live events in the United States and Canada (and to a lesser degree, internationally). We created the SeatGeek Platform to enable others to build on top of that data. The SeatGeek Platform makes it easy to construct applications that help users find and discover events by exposing the wealth of data and powerful search behind SeatGeek.com in an easy-to-consume format.\n",
      "\n",
      "Performers\n",
      "\n",
      "To find a performer matching your search criteria you will send a request to the /performers endpoint. Sending a request to /performers will return a paginated list of all performers.\n",
      "\n",
      "All arguments can be used with each other with the exception of the id argument. id can only be used with API-wide arguments, such as those for pagination and sorting.\n",
      "\n",
      "\n",
      "slug Argument\n",
      "\n",
      "The slug argument is used to scope the result to a performer matching a slug.\n",
      "\n",
      "slug: optional, default is null\n",
      "A query to the slug argument looks like this: /performers?slug=new-york-mets. This will return a performer document matching the New York Mets\n",
      "\n",
      "Example Requests\n",
      "\n",
      "New York Mets\n",
      "$ curl 'http://api.seatgeek.com/2/performers?slug=new-york-mets'\n",
      "\n",
      "query Argument\n",
      "\n",
      "The q argument is used to search across all possible parts of a response document.\n",
      "\n",
      "q: optional, default is null\n",
      "This is a very broad search, and, like events and venues, will possibly return unexpected results.\n",
      "\n",
      "Example Requests\n",
      "\n",
      "Matches 'red hot'\n",
      "$ curl 'http://api.seatgeek.com/2/performers?q=red+hot'\n",
      "\n",
      "Matches 'skrillex'\n",
      "$ curl 'http://api.seatgeek.com/2/performers?q=skrillex'"
     ]
    },
    {
     "cell_type": "code",
     "collapsed": false,
     "input": [
      "import anyjson as json\n",
      "import requests\n",
      "from bs4 import BeautifulSoup\n",
      "#import scalpyr\n",
      "import urllib\n",
      "from json import load \n",
      "import pandas as pd\n",
      "from pandas import DataFrame\n",
      "import numpy as np\n",
      "import codecs\n",
      "#from urllib import request\n",
      "from urllib2 import urlopen # python 2.7 version\n",
      "#import urlopen\n",
      "from json import load\n",
      "#import sqlite3\n",
      "#import csv\n",
      "#import codecs\n",
      "#import cStringIO\n",
      "#import sys\n",
      "import hashlib"
     ],
     "language": "python",
     "metadata": {},
     "outputs": [],
     "prompt_number": 2
    },
    {
     "cell_type": "code",
     "collapsed": false,
     "input": [
      "import re\n",
      "def cleanName(name):\n",
      "    \"\"\"\n",
      "    Use regular expressions to change an artist name string into\n",
      "    a valid wikipedia search string.\n",
      "    \"\"\"\n",
      "    r = re.compile(r\"\\s+\")\n",
      "    return r.sub(\"-\", name) # \"a\\nb\\nc\n",
      "  \n",
      "cleanName('lady gaga')    "
     ],
     "language": "python",
     "metadata": {},
     "outputs": [
      {
       "metadata": {},
       "output_type": "pyout",
       "prompt_number": 1,
       "text": [
        "'lady-gaga'"
       ]
      }
     ],
     "prompt_number": 1
    },
    {
     "cell_type": "code",
     "collapsed": false,
     "input": [
      "ArtistList = DataFrame.from_csv('mode/mode-report-run-707064319e01.csv', sep='\\t',index_col=False)\n",
      "DailyStats = pd.DataFrame()\n",
      "ArtistList['name_length'] = 0\n",
      "for i in range(len(ArtistList)):\n",
      "    ArtistList['name_length'][i] = len(ArtistList['artist_name'][i])\n",
      "ArtistList = ArtistList[ArtistList['name_length'] <= 60]\n",
      "ArtistList['artist_name_clean'] = ArtistList.artist_name.apply(cleanName)\n",
      "ArtistList.head()"
     ],
     "language": "python",
     "metadata": {},
     "outputs": [
      {
       "output_type": "stream",
       "stream": "stderr",
       "text": [
        "-c:5: SettingWithCopyWarning: \n",
        "A value is trying to be set on a copy of a slice from a DataFrame\n",
        "\n",
        "See the the caveats in the documentation: http://pandas.pydata.org/pandas-docs/stable/indexing.html#indexing-view-versus-copy\n"
       ]
      },
      {
       "html": [
        "<div style=\"max-height:1000px;max-width:1500px;overflow:auto;\">\n",
        "<table border=\"1\" class=\"dataframe\">\n",
        "  <thead>\n",
        "    <tr style=\"text-align: right;\">\n",
        "      <th></th>\n",
        "      <th>artist_name</th>\n",
        "      <th>name_length</th>\n",
        "      <th>artist_name_clean</th>\n",
        "    </tr>\n",
        "  </thead>\n",
        "  <tbody>\n",
        "    <tr>\n",
        "      <th>0</th>\n",
        "      <td>                       Gus Viseur</td>\n",
        "      <td> 10</td>\n",
        "      <td>                       Gus-Viseur</td>\n",
        "    </tr>\n",
        "    <tr>\n",
        "      <th>2</th>\n",
        "      <td> Empire Strikes Back (Film Score)</td>\n",
        "      <td> 32</td>\n",
        "      <td> Empire-Strikes-Back-(Film-Score)</td>\n",
        "    </tr>\n",
        "    <tr>\n",
        "      <th>3</th>\n",
        "      <td>                       Saul Viera</td>\n",
        "      <td> 10</td>\n",
        "      <td>                       Saul-Viera</td>\n",
        "    </tr>\n",
        "    <tr>\n",
        "      <th>4</th>\n",
        "      <td>                        Romantics</td>\n",
        "      <td>  9</td>\n",
        "      <td>                        Romantics</td>\n",
        "    </tr>\n",
        "    <tr>\n",
        "      <th>5</th>\n",
        "      <td>                        Will Talk</td>\n",
        "      <td>  9</td>\n",
        "      <td>                        Will-Talk</td>\n",
        "    </tr>\n",
        "  </tbody>\n",
        "</table>\n",
        "</div>"
       ],
       "metadata": {},
       "output_type": "pyout",
       "prompt_number": 3,
       "text": [
        "                        artist_name  name_length  \\\n",
        "0                        Gus Viseur           10   \n",
        "2  Empire Strikes Back (Film Score)           32   \n",
        "3                        Saul Viera           10   \n",
        "4                         Romantics            9   \n",
        "5                         Will Talk            9   \n",
        "\n",
        "                  artist_name_clean  \n",
        "0                        Gus-Viseur  \n",
        "2  Empire-Strikes-Back-(Film-Score)  \n",
        "3                        Saul-Viera  \n",
        "4                         Romantics  \n",
        "5                         Will-Talk  "
       ]
      }
     ],
     "prompt_number": 3
    },
    {
     "cell_type": "code",
     "collapsed": false,
     "input": [
      "reader = codecs.getreader(\"utf-8\")\n",
      "baseurl = \"http://stats.grok.se/json/\"\n",
      "#lang = 'en'\n",
      "#year = '2015'\n",
      "#month = '05'\n",
      "df = DataFrame()"
     ],
     "language": "python",
     "metadata": {},
     "outputs": [],
     "prompt_number": 4
    },
    {
     "cell_type": "code",
     "collapsed": false,
     "input": [
      "# Example performer request\n",
      "\n",
      "# slug\n",
      "surl = 'http://api.seatgeek.com/2/performers?slug='\n",
      "s = 'jose-gonzalez'\n",
      "\n",
      "# query\n",
      "qurl = 'http://api.seatgeek.com/2/performers?q='\n",
      "q = 'daft'\n",
      "\n",
      "try:\n",
      "        url = surl \n",
      "        search_term = s\n",
      "        url += search_term\n",
      "        \n",
      "        #response = request.urlopen(url)\n",
      "        response = urlopen(url)\n",
      "        json_obj = load(reader(response))\n",
      "\n",
      "except ValueError:\n",
      "        pass\n",
      "        #print (ArtistList['artist_name'][a] )"
     ],
     "language": "python",
     "metadata": {},
     "outputs": [],
     "prompt_number": 6
    },
    {
     "cell_type": "code",
     "collapsed": false,
     "input": [
      "json_obj.keys()"
     ],
     "language": "python",
     "metadata": {},
     "outputs": [
      {
       "metadata": {},
       "output_type": "pyout",
       "prompt_number": 11,
       "text": [
        "[u'meta', u'performers']"
       ]
      }
     ],
     "prompt_number": 11
    },
    {
     "cell_type": "code",
     "collapsed": false,
     "input": [
      "# gives a list of different performers\n",
      "performer = json_obj['performers'][0]\n",
      "performer.keys()"
     ],
     "language": "python",
     "metadata": {},
     "outputs": [
      {
       "metadata": {},
       "output_type": "pyout",
       "prompt_number": 21,
       "text": [
        "[u'genres',\n",
        " u'stats',\n",
        " u'name',\n",
        " u'short_name',\n",
        " u'url',\n",
        " u'has_upcoming_events',\n",
        " u'image',\n",
        " u'links',\n",
        " u'home_venue_id',\n",
        " u'id',\n",
        " u'score',\n",
        " u'images',\n",
        " u'taxonomies',\n",
        " u'type',\n",
        " u'slug']"
       ]
      }
     ],
     "prompt_number": 21
    },
    {
     "cell_type": "code",
     "collapsed": false,
     "input": [
      "print performer['genres']\n",
      "[g['name'] for g in performer['genres']]"
     ],
     "language": "python",
     "metadata": {},
     "outputs": [
      {
       "output_type": "stream",
       "stream": "stdout",
       "text": [
        "[{u'slug': u'singer-songwriter', u'name': u'singer-songwriter', u'primary': True}]\n"
       ]
      },
      {
       "metadata": {},
       "output_type": "pyout",
       "prompt_number": 35,
       "text": [
        "[u'singer-songwriter']"
       ]
      }
     ],
     "prompt_number": 35
    },
    {
     "cell_type": "code",
     "collapsed": false,
     "input": [
      "print performer['stats']\n",
      "performer['stats']['event_count']"
     ],
     "language": "python",
     "metadata": {},
     "outputs": [
      {
       "output_type": "stream",
       "stream": "stdout",
       "text": [
        "{u'event_count': 18}\n"
       ]
      },
      {
       "metadata": {},
       "output_type": "pyout",
       "prompt_number": 30,
       "text": [
        "18"
       ]
      }
     ],
     "prompt_number": 30
    },
    {
     "cell_type": "code",
     "collapsed": false,
     "input": [
      "performer['id']"
     ],
     "language": "python",
     "metadata": {},
     "outputs": [
      {
       "metadata": {},
       "output_type": "pyout",
       "prompt_number": 24,
       "text": [
        "25192"
       ]
      }
     ],
     "prompt_number": 24
    },
    {
     "cell_type": "code",
     "collapsed": false,
     "input": [
      "print performer['name']\n",
      "performer['short_name']"
     ],
     "language": "python",
     "metadata": {},
     "outputs": [
      {
       "output_type": "stream",
       "stream": "stdout",
       "text": [
        "Jose Gonzalez\n"
       ]
      },
      {
       "metadata": {},
       "output_type": "pyout",
       "prompt_number": 29,
       "text": [
        "u'Jose Gonzalez'"
       ]
      }
     ],
     "prompt_number": 29
    },
    {
     "cell_type": "code",
     "collapsed": false,
     "input": [
      "pcols = ['id','name','short_name','event_count','genres']\n",
      "pd.DataFrame([[performer['id'],performer['name'], \n",
      "    performer['short_name'],performer['stats']['event_count'], \n",
      "    [g['name'] for g in performer['genres']]]],columns=pcols)"
     ],
     "language": "python",
     "metadata": {},
     "outputs": [
      {
       "html": [
        "<div style=\"max-height:1000px;max-width:1500px;overflow:auto;\">\n",
        "<table border=\"1\" class=\"dataframe\">\n",
        "  <thead>\n",
        "    <tr style=\"text-align: right;\">\n",
        "      <th></th>\n",
        "      <th>id</th>\n",
        "      <th>name</th>\n",
        "      <th>short_name</th>\n",
        "      <th>event_count</th>\n",
        "      <th>genres</th>\n",
        "    </tr>\n",
        "  </thead>\n",
        "  <tbody>\n",
        "    <tr>\n",
        "      <th>0</th>\n",
        "      <td> 25192</td>\n",
        "      <td> Jose Gonzalez</td>\n",
        "      <td> Jose Gonzalez</td>\n",
        "      <td> 18</td>\n",
        "      <td> [singer-songwriter]</td>\n",
        "    </tr>\n",
        "  </tbody>\n",
        "</table>\n",
        "</div>"
       ],
       "metadata": {},
       "output_type": "pyout",
       "prompt_number": 37,
       "text": [
        "      id           name     short_name  event_count               genres\n",
        "0  25192  Jose Gonzalez  Jose Gonzalez           18  [singer-songwriter]"
       ]
      }
     ],
     "prompt_number": 37
    },
    {
     "cell_type": "code",
     "collapsed": false,
     "input": [],
     "language": "python",
     "metadata": {},
     "outputs": []
    }
   ],
   "metadata": {}
  }
 ]
}
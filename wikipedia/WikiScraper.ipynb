{
 "cells": [
  {
   "cell_type": "markdown",
   "metadata": {},
   "source": [
    "Notes (swahl 7/13):\n",
    "\n",
    "Had to change urllib.request to urllib2.urlopen for python 2.7\n",
    "\n",
    "Wikipedia searches use underscores between words, spaces don't work.\n",
    "\n",
    "There is an obvious problem with names that will lead to dissambiguation pages (e.g. Drake -> Drake_(rapper) ). It would probably be easier to use a data source more specific to artists.\n"
   ]
  },
  {
   "cell_type": "code",
   "execution_count": 1,
   "metadata": {
    "collapsed": false
   },
   "outputs": [],
   "source": [
    "import anyjson as json\n",
    "import requests\n",
    "from bs4 import BeautifulSoup\n",
    "#import scalpyr\n",
    "import urllib\n",
    "from json import load \n",
    "import pandas as pd\n",
    "from pandas import DataFrame\n",
    "import numpy as np\n",
    "import codecs\n",
    "#from urllib import request\n",
    "from urllib2 import urlopen # python 2.7 version\n",
    "#import urlopen\n",
    "from json import load\n",
    "#import sqlite3\n",
    "#import csv\n",
    "#import codecs\n",
    "#import cStringIO\n",
    "#import sys\n",
    "import hashlib"
   ]
  },
  {
   "cell_type": "code",
   "execution_count": 2,
   "metadata": {
    "collapsed": false
   },
   "outputs": [
    {
     "data": {
      "text/html": [
       "<div style=\"max-height:1000px;max-width:1500px;overflow:auto;\">\n",
       "<table border=\"1\" class=\"dataframe\">\n",
       "  <thead>\n",
       "    <tr style=\"text-align: right;\">\n",
       "      <th></th>\n",
       "      <th>artist_name</th>\n",
       "      <th>name_length</th>\n",
       "    </tr>\n",
       "  </thead>\n",
       "  <tbody>\n",
       "    <tr>\n",
       "      <th>0</th>\n",
       "      <td>                                        Gus Viseur</td>\n",
       "      <td> 0</td>\n",
       "    </tr>\n",
       "    <tr>\n",
       "      <th>1</th>\n",
       "      <td> Luis Vargas, Anthony \"El Mayimbe\" Santos, Raul...</td>\n",
       "      <td> 0</td>\n",
       "    </tr>\n",
       "    <tr>\n",
       "      <th>2</th>\n",
       "      <td>                  Empire Strikes Back (Film Score)</td>\n",
       "      <td> 0</td>\n",
       "    </tr>\n",
       "    <tr>\n",
       "      <th>3</th>\n",
       "      <td>                                        Saul Viera</td>\n",
       "      <td> 0</td>\n",
       "    </tr>\n",
       "    <tr>\n",
       "      <th>4</th>\n",
       "      <td>                                         Romantics</td>\n",
       "      <td> 0</td>\n",
       "    </tr>\n",
       "  </tbody>\n",
       "</table>\n",
       "</div>"
      ],
      "text/plain": [
       "                                         artist_name  name_length\n",
       "0                                         Gus Viseur            0\n",
       "1  Luis Vargas, Anthony \"El Mayimbe\" Santos, Raul...            0\n",
       "2                   Empire Strikes Back (Film Score)            0\n",
       "3                                         Saul Viera            0\n",
       "4                                          Romantics            0"
      ]
     },
     "execution_count": 2,
     "metadata": {},
     "output_type": "execute_result"
    }
   ],
   "source": [
    "#ArtistList = DataFrame(['drake_(rapper)', 'lady_gaga'],columns=['artist_name'])\n",
    "\n",
    "ArtistList = DataFrame.from_csv('../mode/mode-report-run-707064319e01.csv', sep='\\t',index_col=False)\n",
    "DailyStats = pd.DataFrame()\n",
    "ArtistList['name_length'] = 0\n",
    "ArtistList.head()"
   ]
  },
  {
   "cell_type": "code",
   "execution_count": 3,
   "metadata": {
    "collapsed": false
   },
   "outputs": [
    {
     "name": "stderr",
     "output_type": "stream",
     "text": [
      "/Users/swahl/anaconda/lib/python2.7/site-packages/IPython/kernel/__main__.py:2: SettingWithCopyWarning: \n",
      "A value is trying to be set on a copy of a slice from a DataFrame\n",
      "\n",
      "See the the caveats in the documentation: http://pandas.pydata.org/pandas-docs/stable/indexing.html#indexing-view-versus-copy\n",
      "  from IPython.kernel.zmq import kernelapp as app\n"
     ]
    }
   ],
   "source": [
    "for i in range(len(ArtistList)):\n",
    "    ArtistList['name_length'][i] = len(ArtistList['artist_name'][i])\n",
    "#ArtistList = ArtistList[ArtistList['name_length']> 1]\n",
    "#ArtistList = ArtistList[ArtistList['name_length'] <= 100]\n",
    "#len(ArtistList)"
   ]
  },
  {
   "cell_type": "code",
   "execution_count": 4,
   "metadata": {
    "collapsed": false
   },
   "outputs": [
    {
     "data": {
      "text/html": [
       "<div style=\"max-height:1000px;max-width:1500px;overflow:auto;\">\n",
       "<table border=\"1\" class=\"dataframe\">\n",
       "  <thead>\n",
       "    <tr style=\"text-align: right;\">\n",
       "      <th></th>\n",
       "      <th>artist_name</th>\n",
       "      <th>name_length</th>\n",
       "    </tr>\n",
       "  </thead>\n",
       "  <tbody>\n",
       "    <tr>\n",
       "      <th>0</th>\n",
       "      <td>                                        Gus Viseur</td>\n",
       "      <td> 10</td>\n",
       "    </tr>\n",
       "    <tr>\n",
       "      <th>1</th>\n",
       "      <td> Luis Vargas, Anthony \"El Mayimbe\" Santos, Raul...</td>\n",
       "      <td> 73</td>\n",
       "    </tr>\n",
       "    <tr>\n",
       "      <th>2</th>\n",
       "      <td>                  Empire Strikes Back (Film Score)</td>\n",
       "      <td> 32</td>\n",
       "    </tr>\n",
       "    <tr>\n",
       "      <th>3</th>\n",
       "      <td>                                        Saul Viera</td>\n",
       "      <td> 10</td>\n",
       "    </tr>\n",
       "    <tr>\n",
       "      <th>4</th>\n",
       "      <td>                                         Romantics</td>\n",
       "      <td>  9</td>\n",
       "    </tr>\n",
       "  </tbody>\n",
       "</table>\n",
       "</div>"
      ],
      "text/plain": [
       "                                         artist_name  name_length\n",
       "0                                         Gus Viseur           10\n",
       "1  Luis Vargas, Anthony \"El Mayimbe\" Santos, Raul...           73\n",
       "2                   Empire Strikes Back (Film Score)           32\n",
       "3                                         Saul Viera           10\n",
       "4                                          Romantics            9"
      ]
     },
     "execution_count": 4,
     "metadata": {},
     "output_type": "execute_result"
    }
   ],
   "source": [
    "ArtistList.head()"
   ]
  },
  {
   "cell_type": "code",
   "execution_count": 5,
   "metadata": {
    "collapsed": false
   },
   "outputs": [
    {
     "data": {
      "text/plain": [
       "array([ 2,  3,  4,  5,  6,  7,  8,  9, 10])"
      ]
     },
     "execution_count": 5,
     "metadata": {},
     "output_type": "execute_result"
    }
   ],
   "source": [
    "ArtistList = ArtistList[ArtistList['name_length'] <= 60]\n",
    "#ArtistList['artist_name'].head(10)\n",
    "ArtistList.index.values[1:10]"
   ]
  },
  {
   "cell_type": "code",
   "execution_count": 6,
   "metadata": {
    "collapsed": false
   },
   "outputs": [
    {
     "data": {
      "text/plain": [
       "array([ 0,  2,  3,  4,  5,  6,  7,  8,  9, 10, 11, 12, 13, 14, 15, 16, 17,\n",
       "       18, 19, 20, 21, 22, 23, 24, 25, 26, 27, 28, 29, 30, 31, 32, 33, 34,\n",
       "       35, 36, 37, 38, 39, 40, 41, 42, 43, 44, 45, 46, 47, 48, 49, 50, 51,\n",
       "       52, 53, 54, 55, 56, 57, 58, 59, 60, 61, 62, 63, 64, 65, 66, 67, 68,\n",
       "       69, 70, 71, 72, 73, 74, 75, 76, 77, 78, 79, 80, 81, 82, 83, 84, 85,\n",
       "       86, 87, 88, 89, 90, 91, 92, 93, 94, 95, 96, 97, 98, 99])"
      ]
     },
     "execution_count": 6,
     "metadata": {},
     "output_type": "execute_result"
    }
   ],
   "source": [
    "ArtistList.index.values"
   ]
  },
  {
   "cell_type": "code",
   "execution_count": 7,
   "metadata": {
    "collapsed": false
   },
   "outputs": [
    {
     "data": {
      "text/plain": [
       "'lady_gaga'"
      ]
     },
     "execution_count": 7,
     "metadata": {},
     "output_type": "execute_result"
    }
   ],
   "source": [
    "import re\n",
    "def cleanName(name):\n",
    "    \"\"\"\n",
    "    Use regular expressions to change an artist name string into\n",
    "    a valid wikipedia search string.\n",
    "    \"\"\"\n",
    "    r = re.compile(r\"\\s+\")\n",
    "    return r.sub(\"_\", name) # \"a\\nb\\nc\n",
    "  \n",
    "cleanName('lady gaga')    "
   ]
  },
  {
   "cell_type": "code",
   "execution_count": 8,
   "metadata": {
    "collapsed": false
   },
   "outputs": [
    {
     "data": {
      "text/plain": [
       "0                          Gus_Viseur\n",
       "2    Empire_Strikes_Back_(Film_Score)\n",
       "3                          Saul_Viera\n",
       "4                           Romantics\n",
       "5                           Will_Talk\n",
       "Name: artist_name_clean, dtype: object"
      ]
     },
     "execution_count": 8,
     "metadata": {},
     "output_type": "execute_result"
    }
   ],
   "source": [
    "ArtistList['artist_name_clean'] = ArtistList.artist_name.apply(cleanName)\n",
    "ArtistList.artist_name_clean.head()"
   ]
  },
  {
   "cell_type": "code",
   "execution_count": 9,
   "metadata": {
    "collapsed": false
   },
   "outputs": [
    {
     "name": "stdout",
     "output_type": "stream",
     "text": [
      "0 / 99\n",
      "2 / 99\n",
      "3 / 99\n",
      "4 / 99\n",
      "5 / 99\n",
      "6 / 99\n",
      "7 / 99\n",
      "8 / 99\n",
      "9 / 99\n",
      "10 / 99\n",
      "11 / 99\n",
      "12 / 99\n",
      "13 / 99\n",
      "14 / 99\n",
      "15 / 99\n",
      "16 / 99\n",
      "17 / 99\n",
      "18 / 99\n",
      "19 / 99\n",
      "20 / 99\n",
      "21 / 99\n",
      "22 / 99\n",
      "23 / 99\n",
      "24 / 99\n",
      "25 / 99\n",
      "26 / 99\n",
      "27 / 99\n",
      "28 / 99\n",
      "29 / 99\n",
      "30 / 99\n",
      "31 / 99\n",
      "32 / 99\n",
      "33 / 99\n",
      "34 / 99\n",
      "35 / 99\n",
      "36 / 99\n",
      "37 / 99\n",
      "38 / 99\n",
      "39 / 99\n",
      "40 / 99\n",
      "41 / 99\n",
      "42 / 99\n",
      "43 / 99\n",
      "44 / 99\n",
      "45 / 99\n",
      "46 / 99\n",
      "47 / 99\n",
      "48 / 99\n",
      "49 / 99\n",
      "50 / 99\n",
      "51 / 99\n",
      "52 / 99\n",
      "53 / 99\n",
      "54 / 99\n",
      "55 / 99\n",
      "56 / 99\n",
      "57 / 99\n",
      "58 / 99\n",
      "59 / 99\n",
      "60 / 99\n",
      "61 / 99\n",
      "62 / 99\n",
      "63 / 99\n",
      "64 / 99\n",
      "65 / 99\n",
      "66 / 99\n",
      "67 / 99\n",
      "68 / 99\n",
      "69 / 99\n",
      "70 / 99\n",
      "71 / 99\n",
      "72 / 99\n",
      "73 / 99\n",
      "74 / 99\n",
      "75 / 99\n",
      "76 / 99\n",
      "77 / 99\n",
      "78 / 99\n",
      "79 / 99\n",
      "80 / 99\n",
      "81 / 99\n",
      "82 / 99\n",
      "83 / 99\n",
      "84 / 99\n",
      "85 / 99\n",
      "86 / 99\n",
      "87 / 99\n",
      "88 / 99\n",
      "89 / 99\n",
      "90 / 99\n",
      "91 / 99\n",
      "92 / 99\n",
      "93 / 99\n",
      "94 / 99\n",
      "95 / 99\n",
      "96 / 99\n",
      "97 / 99\n",
      "98 / 99\n",
      "99 / 99\n"
     ]
    }
   ],
   "source": [
    "reader = codecs.getreader(\"utf-8\")\n",
    "baseurl = \"http://stats.grok.se/json/\"\n",
    "lang = 'en'\n",
    "year = '2015'\n",
    "month = '05'\n",
    "DailyStats = DataFrame()\n",
    "#for a in range(0, len(ArtistList) -1):\n",
    "n = len(ArtistList)\n",
    "for a in ArtistList.index.values:\n",
    "#for a in ArtistList.index.values[41:100]:\n",
    "    try:\n",
    "        print a,'/',n\n",
    "        url= baseurl+lang+'/'+year+month+'/'\n",
    "        #search_term = ArtistList['artist_name'][a]\n",
    "        search_term = ArtistList['artist_name_clean'][a]\n",
    "        url += search_term\n",
    "        #response = request.urlopen(url)\n",
    "        response = urlopen(url)\n",
    "        json_obj = load(reader(response))\n",
    "        d = json_obj['daily_views']\n",
    "        s  = pd.Series(d,index=d.keys())\n",
    "        df = pd.DataFrame(s)\n",
    "        df.columns = ['PageViews']\n",
    "        df['Artist'] = ArtistList['artist_name'][a]\n",
    "        df['search_term'] = search_term\n",
    "        df['Language'] = lang\n",
    "        DailyStats = DailyStats.append(df)\n",
    "\n",
    "    except ValueError:\n",
    "        print (ArtistList['artist_name'][a] )"
   ]
  },
  {
   "cell_type": "code",
   "execution_count": 10,
   "metadata": {
    "collapsed": false
   },
   "outputs": [
    {
     "name": "stdout",
     "output_type": "stream",
     "text": [
      "PageViews      3069\n",
      "Artist         3069\n",
      "search_term    3069\n",
      "Language       3069\n",
      "dtype: int64\n"
     ]
    },
    {
     "data": {
      "text/html": [
       "<div style=\"max-height:1000px;max-width:1500px;overflow:auto;\">\n",
       "<table border=\"1\" class=\"dataframe\">\n",
       "  <thead>\n",
       "    <tr style=\"text-align: right;\">\n",
       "      <th></th>\n",
       "      <th>PageViews</th>\n",
       "      <th>Artist</th>\n",
       "      <th>search_term</th>\n",
       "      <th>Language</th>\n",
       "    </tr>\n",
       "  </thead>\n",
       "  <tbody>\n",
       "    <tr>\n",
       "      <th>2015-05-03</th>\n",
       "      <td> 15</td>\n",
       "      <td> Gus Viseur</td>\n",
       "      <td> Gus_Viseur</td>\n",
       "      <td> en</td>\n",
       "    </tr>\n",
       "    <tr>\n",
       "      <th>2015-05-02</th>\n",
       "      <td> 15</td>\n",
       "      <td> Gus Viseur</td>\n",
       "      <td> Gus_Viseur</td>\n",
       "      <td> en</td>\n",
       "    </tr>\n",
       "    <tr>\n",
       "      <th>2015-05-01</th>\n",
       "      <td>  7</td>\n",
       "      <td> Gus Viseur</td>\n",
       "      <td> Gus_Viseur</td>\n",
       "      <td> en</td>\n",
       "    </tr>\n",
       "    <tr>\n",
       "      <th>2015-05-07</th>\n",
       "      <td> 13</td>\n",
       "      <td> Gus Viseur</td>\n",
       "      <td> Gus_Viseur</td>\n",
       "      <td> en</td>\n",
       "    </tr>\n",
       "    <tr>\n",
       "      <th>2015-05-06</th>\n",
       "      <td> 20</td>\n",
       "      <td> Gus Viseur</td>\n",
       "      <td> Gus_Viseur</td>\n",
       "      <td> en</td>\n",
       "    </tr>\n",
       "  </tbody>\n",
       "</table>\n",
       "</div>"
      ],
      "text/plain": [
       "            PageViews      Artist search_term Language\n",
       "2015-05-03         15  Gus Viseur  Gus_Viseur       en\n",
       "2015-05-02         15  Gus Viseur  Gus_Viseur       en\n",
       "2015-05-01          7  Gus Viseur  Gus_Viseur       en\n",
       "2015-05-07         13  Gus Viseur  Gus_Viseur       en\n",
       "2015-05-06         20  Gus Viseur  Gus_Viseur       en"
      ]
     },
     "execution_count": 10,
     "metadata": {},
     "output_type": "execute_result"
    }
   ],
   "source": [
    "#print url\n",
    "print DailyStats.count()\n",
    "DailyStats.head()"
   ]
  },
  {
   "cell_type": "code",
   "execution_count": 11,
   "metadata": {
    "collapsed": false
   },
   "outputs": [
    {
     "data": {
      "text/plain": [
       "3069"
      ]
     },
     "execution_count": 11,
     "metadata": {},
     "output_type": "execute_result"
    }
   ],
   "source": [
    "DailyStats['Artist'].count()"
   ]
  },
  {
   "cell_type": "code",
   "execution_count": 12,
   "metadata": {
    "collapsed": false
   },
   "outputs": [],
   "source": [
    "# why are all of the entries 31?\n",
    "g = DailyStats.groupby('Artist')"
   ]
  },
  {
   "cell_type": "code",
   "execution_count": 13,
   "metadata": {
    "collapsed": false
   },
   "outputs": [],
   "source": [
    "DailyStats.to_csv('DailyWikiStats.tsv',index_label='date')"
   ]
  }
 ],
 "metadata": {
  "kernelspec": {
   "display_name": "Python 2",
   "language": "python",
   "name": "python2"
  },
  "language_info": {
   "codemirror_mode": {
    "name": "ipython",
    "version": 2
   },
   "file_extension": ".py",
   "mimetype": "text/x-python",
   "name": "python",
   "nbconvert_exporter": "python",
   "pygments_lexer": "ipython2",
   "version": "2.7.10"
  }
 },
 "nbformat": 4,
 "nbformat_minor": 0
}

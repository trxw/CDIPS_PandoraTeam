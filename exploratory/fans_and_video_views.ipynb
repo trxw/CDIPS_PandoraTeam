{
 "metadata": {
  "name": "",
  "signature": "sha256:2026af0d4ab2071a06d8a2036a0cfe3142f90ee7905b367bb3826ceb3d776cad"
 },
 "nbformat": 3,
 "nbformat_minor": 0,
 "worksheets": [
  {
   "cells": [
    {
     "cell_type": "code",
     "collapsed": false,
     "input": [
      "import csv\n",
      "from pandas import *\n",
      "import numpy as np\n",
      "import numpy as np\n",
      "import scipy.stats as st\n",
      "import scipy.special as sp\n",
      "from matplotlib.pylab import *\n",
      "import seaborn as sn"
     ],
     "language": "python",
     "metadata": {},
     "outputs": [],
     "prompt_number": 1
    },
    {
     "cell_type": "code",
     "collapsed": false,
     "input": [
      "f = \"/home/trxw/Documents/CDIPS/CDIPS_PandoraTeam/nextbigsound/nbs_taylor_swift.csv\"\n",
      "data = read_csv(f)"
     ],
     "language": "python",
     "metadata": {},
     "outputs": [],
     "prompt_number": 2
    },
    {
     "cell_type": "code",
     "collapsed": false,
     "input": [
      "fans_number = {}\n",
      "service = {\"Facebook\":3, \"Twitter\":6, \"YouTube\":12, \"Wikipedia\":15, \"Vevo\":16}\n",
      "\n",
      "\n",
      "#Finding all days with nans data for all services of interest:\n",
      "nans = []\n",
      "for n in service.values():\n",
      "    for i in range(20150419,20150715):\n",
      "        try:\n",
      "            if(np.isnan(data[str(i)][n])):\n",
      "                nans += [str(i)]\n",
      "        except KeyError, e:\n",
      "            pass\n",
      "\n",
      "#Loading the fan numbers excluding all nans\n",
      "for k in service.keys():\n",
      "    fans = []\n",
      "    for i in range(20150419,20150715):\n",
      "        try:\n",
      "            if( (i not in nans) and not np.isnan(data[str(i)][service[k] ]) ):\n",
      "                fans += [  data[str(i)][service[k]]  ]\n",
      "        except KeyError, e:\n",
      "            pass\n",
      "    fans_number[k] = fans"
     ],
     "language": "python",
     "metadata": {},
     "outputs": [],
     "prompt_number": 30
    },
    {
     "cell_type": "code",
     "collapsed": false,
     "input": [
      "#Standard deviations in each group:\n",
      "for k in fans_number.keys():\n",
      "    print k, \" : \", st.nanstd(fans_number[k])\n",
      "    "
     ],
     "language": "python",
     "metadata": {},
     "outputs": [
      {
       "output_type": "stream",
       "stream": "stdout",
       "text": [
        "Facebook  :  366021.768294\n",
        "Twitter  :  1147202.64908\n",
        "YouTube  :  530523.038566\n",
        "Wikipedia  :  15885.0282044\n",
        "Vevo  :  357751375.231\n"
       ]
      }
     ],
     "prompt_number": 38
    },
    {
     "cell_type": "code",
     "collapsed": false,
     "input": [
      "plot(100*np.array(fans_number['Facebook'])/np.average(np.array(fans_number['Facebook'])), 'r', label='Facebook')\n",
      "plot(100*np.array(fans_number['Twitter'])/np.average(np.array(fans_number['Twitter'])), 'b', label='Twitter')\n",
      "plot(100*np.array(fans_number['YouTube'])/np.average(np.array(fans_number['YouTube'])), 'g', label='YouTube')\n",
      "#plot(100*np.array(fans_number['Wikipedia'])/np.average(np.array(fans_number[\"Wikipedia\"])), label='Wikipedia')\n",
      "plot(100*np.array(fans_number['Vevo'])/np.average(np.array(fans_number['Vevo'])), 'y', label='Vevo')\n",
      "ylabel(\"Normalized number of daily video views\")\n",
      "xlabel(\"Days\")\n",
      "legend( loc='upper left', numpoints = 1 )\n",
      "show()"
     ],
     "language": "python",
     "metadata": {},
     "outputs": [],
     "prompt_number": 55
    },
    {
     "cell_type": "code",
     "collapsed": false,
     "input": [
      "#Exploring the changes in fans for different services\n",
      "plot(np.array(diff(fans_number['Facebook']))/std(fans_number['Facebook']), 'r', label='Facebook')\n",
      "plot(np.array(diff(fans_number['Twitter']))/std(fans_number['Twitter']), 'b', label='Twitter')\n",
      "plot(np.array(diff(fans_number['YouTube']))/std(fans_number['YouTube']), 'g', label='YouTube')\n",
      "plot(np.array(diff(fans_number['Vevo']))/std(fans_number['Vevo']), 'y', label='Vevo')\n",
      "\n",
      "legend( loc='upper left', numpoints = 1 )\n",
      "show()"
     ],
     "language": "python",
     "metadata": {},
     "outputs": [],
     "prompt_number": 57
    }
   ],
   "metadata": {}
  }
 ]
}